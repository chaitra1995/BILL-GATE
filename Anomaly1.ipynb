{
 "cells": [
  {
   "cell_type": "code",
   "execution_count": null,
   "id": "936e0d9c-ec2f-418d-b6aa-88db05b58e2f",
   "metadata": {},
   "outputs": [],
   "source": [
    "Q1. What is the role of feature selection in anomaly detection?\n",
    "\n",
    "Due to the proper use of features subset not only can reduce the complexity of model but also improve the\n",
    "classification performance, feature selection become an important part of anomaly detection systems.\n",
    "The anomaly detection/feature selection is done by simply flagging each metric as a zero or a 1 if its value\n",
    "is inside or outside normal range (0 for within normal range; 1 for outside of normal range). I also calculate\n",
    "a “flag ratio” that expresses how far outside of normal the value is\n",
    "\n"
   ]
  },
  {
   "cell_type": "code",
   "execution_count": null,
   "id": "26f09e79-7f89-4133-9010-fa47d0e02093",
   "metadata": {},
   "outputs": [],
   "source": [
    "Q2. What are some common evaluation metrics for anomaly detection algorithms and how are they computed?\n",
    "\n",
    "•\tTrue positives (TP): points that are labelled and predicted as anomalies,\n",
    "•\tFalse positives (FP): points that are labelled normal but predicted as anomalous,\n",
    "•\tFalse negatives (FN): points that are labelled anomalies but predicted normal,\n",
    "•\t1. Precision and recall. One way to evaluate anomaly detection models is to use precision and recall, \n",
    "which are commonly used for binary classification problems. ...\n",
    "•\t2 .ROC and AUC. ...\n",
    "•\t3 .Precision-recall curve and AP. ...\n",
    "•\t4 .Novelty and outlier scores. ...\n",
    "•\t5 .Domain-specific metrics. ...\n",
    "•\t6 .Here's what else to consider\n",
    "\n"
   ]
  },
  {
   "cell_type": "code",
   "execution_count": null,
   "id": "83ebf248-6adb-4dc6-9e46-5b88400571fd",
   "metadata": {},
   "outputs": [],
   "source": [
    "Q3. What is DBSCAN and how does it work for clustering?\n",
    "DBSCAN is a density-based clustering algorithm that works on the assumption that clusters are dense regions in space \n",
    "separated by regions of lower density. It groups 'densely grouped' data points into a single cluster.\n",
    "Using this clusters we can find similarities between customers, for example, if customer A has bought a pen, a book \n",
    "and one pair scissors, while customer B purchased a book and one pair of scissors, then you could recommend a pen to\n",
    "customer B.\n"
   ]
  },
  {
   "cell_type": "code",
   "execution_count": null,
   "id": "da4bf292-48fc-4162-8960-38dc944696f6",
   "metadata": {},
   "outputs": [],
   "source": [
    "Q4. How does the epsilon parameter affect the performance of DBSCAN in detecting anomalies?\n",
    "\n",
    "Parameter Selection in DBSCAN ClusteringDBSCAN is very sensitive to the values of epsilon and minPoints. Therefore, \n",
    "it is very important to understand how to select the values of epsilon and minPoints. A slight variation in these\n",
    "values can significantly change the results produced by the DBSCAN algorithm.\n",
    "\n"
   ]
  },
  {
   "cell_type": "code",
   "execution_count": null,
   "id": "f7b4a5b3-7caa-4e3d-8caa-e6200ac58785",
   "metadata": {},
   "outputs": [],
   "source": [
    "Q5. What are the differences between the core, border, and noise points in DBSCAN, and how do they relate to\n",
    "anomaly detection?\n",
    "\n",
    "There are three types of points after the DBSCAN clustering is complete: Core — This is a point that has at \n",
    "least m points within distance n from itself. Border — This is a point that has at least one Core point at a \n",
    "distance n. Noise — This is a point that is neither a Core nor a Borde\n",
    "Experimental results show that, compared with other algorithms, anomaly detection based on the DBSCAN algorithm\n",
    "can improve the detection rate of the data set, and significantly improve the accuracy of anomaly detection.\n"
   ]
  },
  {
   "cell_type": "code",
   "execution_count": null,
   "id": "a83e9f50-d0db-4c34-973c-3463d5c1936e",
   "metadata": {},
   "outputs": [],
   "source": [
    "Q6. How does DBSCAN detect anomalies and what are the key parameters involved in the process?\n",
    "\n",
    "DBSCAN requires only two parameters: epsilon and minPoints. Epsilon is the radius of the circle to be created\n",
    "around each data point to check the density and minPoints is the minimum number of data points required inside\n",
    "that circle for that data point to be classified as a Core point.\n",
    "For DBSCAN, the parameters ε and minPts are needed. The parameters must be specified by the user. Ideally, the value\n",
    "of ε is given by the problem to solve (e.g. a physical distance), and minPts is then the desired minimum cluster size"
   ]
  },
  {
   "cell_type": "code",
   "execution_count": null,
   "id": "8b8a3e6e-2bd5-4ead-acbb-a5ae4e3a2bc8",
   "metadata": {},
   "outputs": [],
   "source": [
    "Q7. What is the make_circles package in scikit-learn used for?\n",
    "\n",
    "Make a large circle containing a smaller circle in 2d. A simple toy dataset to visualize clustering and classification\n",
    "algorithms. \n",
    "\n"
   ]
  },
  {
   "cell_type": "code",
   "execution_count": null,
   "id": "345c8787-2314-4268-9194-40afcaf528d0",
   "metadata": {},
   "outputs": [],
   "source": [
    "Q8. What are local outliers and global outliers, and how do they differ from each other?\n",
    "\n",
    "There are mainly two types of Outliers: Global Outliers - The data points which are significantly different \n",
    "from the rest of the dataset are called Global Outliers. Local Outliers -The data points which are significantly\n",
    "different from their neighbours in the dataset are called Local Outliers\n"
   ]
  },
  {
   "cell_type": "code",
   "execution_count": null,
   "id": "87355321-9014-4ec9-b756-1245591a2af4",
   "metadata": {},
   "outputs": [],
   "source": [
    "Q9. How can local outliers be detected using the Local Outlier Factor (LOF) algorithm?\n",
    "By comparing the density of the data point and density of all the data points in the neighborhood, whether \n",
    "the density of the data point is lower than the density of the neighborhood can be determined. \n",
    "This scenario indicates the presence of an outlier.\n"
   ]
  },
  {
   "cell_type": "code",
   "execution_count": null,
   "id": "ad5aa1f3-4a33-4f25-94b2-10584b58ab68",
   "metadata": {},
   "outputs": [],
   "source": [
    "Q10. How can global outliers be detected using the Isolation Forest algorithm?\n",
    "\n",
    "By comparing the density of the data point and density of all the data points in the neighborhood, whether the\n",
    "density of the data point is lower than the density of the neighborhood can be determined.\n"
   ]
  },
  {
   "cell_type": "code",
   "execution_count": null,
   "id": "3aae79a4-a1a5-432c-bb10-56cc2d98ac3e",
   "metadata": {},
   "outputs": [],
   "source": [
    "Q11. What are some real-world applications where local outlier detection is more appropriate than global \n",
    "outlier detection, and vice versa?\n",
    "\n",
    "A global outlier is a point that is far away from all other points in the feature class. A local outlier \n",
    "is a point that is farther away from its neighbors than would be expected by the density of points in the\n",
    "surrounding area. Global—Global outliers of input points will be detected\n"
   ]
  },
  {
   "cell_type": "code",
   "execution_count": null,
   "id": "62ab30bb-c910-4ab0-a6b9-566aba309a5d",
   "metadata": {},
   "outputs": [],
   "source": []
  },
  {
   "cell_type": "code",
   "execution_count": null,
   "id": "1f3030d6-6435-4556-8080-535f1961fa54",
   "metadata": {},
   "outputs": [],
   "source": []
  },
  {
   "cell_type": "code",
   "execution_count": null,
   "id": "aceafeea-c71e-4c19-be60-d19219809dee",
   "metadata": {},
   "outputs": [],
   "source": []
  },
  {
   "cell_type": "code",
   "execution_count": null,
   "id": "3736fa03-17fb-4e3b-a7a3-2b1b542009a8",
   "metadata": {},
   "outputs": [],
   "source": []
  },
  {
   "cell_type": "code",
   "execution_count": null,
   "id": "575e811d-71d8-4fc8-b7a1-020cc9059ac7",
   "metadata": {},
   "outputs": [],
   "source": []
  },
  {
   "cell_type": "code",
   "execution_count": null,
   "id": "5cdd0d89-d310-43e0-b28a-994fadd37f0d",
   "metadata": {},
   "outputs": [],
   "source": []
  }
 ],
 "metadata": {
  "kernelspec": {
   "display_name": "Python 3 (ipykernel)",
   "language": "python",
   "name": "python3"
  },
  "language_info": {
   "codemirror_mode": {
    "name": "ipython",
    "version": 3
   },
   "file_extension": ".py",
   "mimetype": "text/x-python",
   "name": "python",
   "nbconvert_exporter": "python",
   "pygments_lexer": "ipython3",
   "version": "3.10.8"
  }
 },
 "nbformat": 4,
 "nbformat_minor": 5
}

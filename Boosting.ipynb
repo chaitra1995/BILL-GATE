{
 "cells": [
  {
   "cell_type": "code",
   "execution_count": null,
   "id": "980b6524-bdb5-4a8c-aff6-6e6dfd5321ab",
   "metadata": {},
   "outputs": [],
   "source": [
    "Q1. What is boosting in machine learning?\n",
    "Boosting is a method used in machine learning to reduce errors in predictive data analysis.\n",
    "Data scientists train machine learning software, called machine learning models, on labeled\n",
    "data to make guesses about unlabeled data. A single machine learning model might make prediction\n",
    "errors depending on the accuracy of the training dataset. For example, if a cat-identifying model\n",
    "has been trained only on images of white cats, it may occasionally misidentify a black cat.\n",
    "Boosting tries to overcome this issue by training multiple models sequentially to improve the\n",
    "accuracy of the overall system"
   ]
  },
  {
   "cell_type": "code",
   "execution_count": null,
   "id": "c533eeaa-7383-4fba-9cb3-ff364c43c296",
   "metadata": {},
   "outputs": [],
   "source": [
    "Q2. What are the advantages and limitations of using boosting techniques?\n",
    "The top benefits of boosting: It can use hyperparameter tuning options baked into many common algorithms.\n",
    "It can reduce the bias of any one algorithm. It can reduce the number of variables or dimensions required\n",
    "to make a decision or prediction, speeding computation.\n",
    "\n",
    "One disadvantage of boosting is that it is sensitive to outliers since every classifier is obliged to \n",
    "fix the errors in the predecessors. Thus, the method is too dependent on outliers. Another disadvantage \n",
    "is that the method is almost impossible to scale up"
   ]
  },
  {
   "cell_type": "code",
   "execution_count": null,
   "id": "52da9bf1-5b81-4271-b03e-ee0dec7d36ad",
   "metadata": {},
   "outputs": [],
   "source": [
    "Q3. Explain how boosting works.\n",
    "There are many variations in implementation, data scientists often use boosting with decision-tree algorithms:\n",
    "Decision trees\n",
    "Decision trees are data structures in machine learning that work by dividing the dataset into smaller and\n",
    "smaller subsets based on their features. The idea is that decision trees split up the data repeatedly until \n",
    "there is only one class left. For example, the tree may ask a series of yes or no questions and divide the \n",
    "data into categories at every step.\n",
    "\n",
    "Boosting ensemble method\n",
    "Boosting creates an ensemble model by combining several weak decision trees sequentially. It assigns weights\n",
    "to the output of individual trees. Then it gives incorrect classifications from the first decision tree a \n",
    "higher weight and input to the next tree. After numerous cycles, the boosting method combines these weak \n",
    "rules into a single powerful prediction rule.\n",
    "\n",
    "Boosting compared to bagging\n",
    "Boosting and bagging are the two common ensemble methods that improve prediction accuracy.\n",
    "The main difference between these learning methods is the method of training. In bagging, data scientists\n",
    "improve the accuracy of weak learners by training several of them at once on multiple datasets. \n",
    "In contrast, boosting trains weak learners one after another"
   ]
  },
  {
   "cell_type": "code",
   "execution_count": null,
   "id": "d574a4db-3c62-46fb-8aa9-55c2dec5e9da",
   "metadata": {},
   "outputs": [],
   "source": [
    "Q4. What are the different types of boosting algorithms?\n",
    " The three main types of boosting:\n",
    "Adaptive boosting\n",
    "Adaptive Boosting (AdaBoost) was one of the earliest boosting models developed. It adapts and tries to \n",
    "self-correct in every iteration of the boosting process. \n",
    "AdaBoost initially gives the same weight to each dataset. Then, it automatically adjusts the weights \n",
    "of the data points after every decision tree. It gives more weight to incorrectly classified items to \n",
    "correct them for the next round. It repeats the process until the residual error, or the difference\n",
    "between actual and predicted values, falls below an acceptable threshold.\n",
    "You can use AdaBoost with many predictors, and it is typically not as sensitive as other boosting algorithms.\n",
    "This approach does not work well when there is a correlation among features or high data dimensionality. \n",
    "Overall, AdaBoost is a suitable type of boosting for classification problems.\n",
    "\n",
    "Gradient boosting\n",
    "Gradient Boosting (GB) is similar to AdaBoost in that it, too, is a sequential training technique. \n",
    "The difference between AdaBoost and GB is that GB does not give incorrectly classified items more weight.\n",
    "Instead, GB software optimizes the loss function by generating base learners sequentially so that the present\n",
    "base learner is always more effective than the previous one. This method attempts to generate accurate results\n",
    "initially instead of correcting errors throughout the process, like AdaBoost. For this reason, GB software can\n",
    "lead to more accurate results. Gradient Boosting can help with both classification and regression-based problems.\n",
    "\n",
    "Extreme gradient boosting\n",
    "Extreme Gradient Boosting (XGBoost) improves gradient boosting for computational speed and scale in several ways.\n",
    "XGBoost uses multiple cores on the CPU so that learning can occur in parallel during training. It is a boosting \n",
    "algorithm that can handle extensive datasets, making it attractive for big data applications. \n",
    "The key features of XGBoost are parallelization, distributed computing, cache optimization, and out-of-core processing."
   ]
  },
  {
   "cell_type": "code",
   "execution_count": null,
   "id": "6164372f-6f70-4a70-9110-641221b21afa",
   "metadata": {},
   "outputs": [],
   "source": [
    "Q5. What are some common parameters in boosting algorithms?\n",
    "Three parameters on which algorithms can be compared are: Time complexity: the amount of time it takes\n",
    "for the algorithm to complete its task. Space complexity: the amount of memory or storage space required\n",
    "by the algorithm. Accuracy: the degree to which the algorithm produces correct results"
   ]
  },
  {
   "cell_type": "code",
   "execution_count": null,
   "id": "b48b7ed0-21ed-4d44-a9f1-ad5293e4ee72",
   "metadata": {},
   "outputs": [],
   "source": [
    "Q6. How do boosting algorithms combine weak learners to create a strong learner?\n",
    "Boosting is an ensemble learning method that combines a set of weak learners into a strong learner to minimize\n",
    "training errors. In boosting, a random sample of data is selected, fitted with a model and then trained \n",
    "sequentially—that is, each model tries to compensate for the weaknesses of its predecessor."
   ]
  },
  {
   "cell_type": "code",
   "execution_count": null,
   "id": "b2d979b3-55f8-4f4f-8c98-b3f298be541a",
   "metadata": {},
   "outputs": [],
   "source": [
    "Q7. Explain the concept of AdaBoost algorithm and its working.\n",
    "Adaptive Boosting, is an ensemble machine learning algorithm that can be used in a wide variety of\n",
    "classification and regression tasks. It is a supervised learning algorithm that is used to classify\n",
    "data by combining multiple weak or base learners (e.g., decision trees) into a strong learner\n"
   ]
  },
  {
   "cell_type": "code",
   "execution_count": null,
   "id": "e9dd8e8a-26cd-43c5-ab6e-ed044aece535",
   "metadata": {},
   "outputs": [],
   "source": [
    "Q8. What is the loss function used in AdaBoost algorithm?\n",
    "The error function that AdaBoost uses is an exponential loss function. First we find the products \n",
    "between the true values of training samples and the overall prediction for each sample. Then we take\n",
    "the sum of all the exponentials of these products in order to compute the error at iteration m"
   ]
  },
  {
   "cell_type": "code",
   "execution_count": null,
   "id": "0eb4d027-cf5e-44eb-b39a-4be9f201b10e",
   "metadata": {},
   "outputs": [],
   "source": [
    "Q9. How does the AdaBoost algorithm update the weights of misclassified samples?\n",
    "Adaboost works by weighting incorrectly classified instances more heavily so that the subsequent weak \n",
    "learners focus more on the difficult cases. It is adaptive in the sense that subsequent weak learners are \n",
    "tweaked in favor of those instances misclassified by previous classifiers"
   ]
  },
  {
   "cell_type": "code",
   "execution_count": null,
   "id": "73f49f64-dfb8-4975-ac13-3f0a29b1498f",
   "metadata": {},
   "outputs": [],
   "source": [
    "Q10. What is the effect of increasing the number of estimators in AdaBoost algorithm?\n",
    "Adaboost increases the accuracy by giving more weightage to the target which is misclassified by the model.\n",
    "At each iteration, Adaptive boosting algorithm changes the sample distribution by modifying the weights\n",
    "attached to each of the instances."
   ]
  }
 ],
 "metadata": {
  "kernelspec": {
   "display_name": "Python 3 (ipykernel)",
   "language": "python",
   "name": "python3"
  },
  "language_info": {
   "codemirror_mode": {
    "name": "ipython",
    "version": 3
   },
   "file_extension": ".py",
   "mimetype": "text/x-python",
   "name": "python",
   "nbconvert_exporter": "python",
   "pygments_lexer": "ipython3",
   "version": "3.10.8"
  }
 },
 "nbformat": 4,
 "nbformat_minor": 5
}

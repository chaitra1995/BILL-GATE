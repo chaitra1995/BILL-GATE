{
 "cells": [
  {
   "cell_type": "code",
   "execution_count": null,
   "id": "f3e2ffea-ce45-42ae-8f76-0143b3f8bfc7",
   "metadata": {},
   "outputs": [],
   "source": [
    "Q1. Write a Python code to implement the KNN classifier algorithm on load_iris dataset in\n",
    "sklearn.datasets.\n",
    "\n",
    "import numpy as np\n",
    "import matplotlib.pyplot as plt\n",
    "from sklearn import datasets\n",
    "from sklearn.model_selection import train_test_split\n",
    "from sklearn.preprocessing import StandardScaler\n",
    "def most_common(lst):\n",
    "    return max(set(lst), key=lst.count)\n",
    "def euclidean(point, data):\n",
    "    # Euclidean distance between points a & data\n",
    "    return np.sqrt(np.sum((point - data)**2, axis=1))\n",
    "class KNeighborsClassifier:\n",
    "    def __init__(self, k=5, dist_metric=euclidean):\n",
    "        self.k = k\n",
    "        self.dist_metric = dist_metric\n",
    "    def fit(self, X_train, y_train):\n",
    "        self.X_train = X_train\n",
    "        self.y_train = y_train\n",
    "    def predict(self, X_test):\n",
    "        neighbors = []\n",
    "        for x in X_test:\n",
    "            distances = self.dist_metric(x, self.X_train)\n",
    "            y_sorted = [y for _, y in sorted(zip(distances, self.y_train))]\n",
    "            neighbors.append(y_sorted[:self.k])\n",
    "        return list(map(most_common, neighbors))\n",
    "    def evaluate(self, X_test, y_test):\n",
    "        y_pred = self.predict(X_test)\n",
    "        accuracy = sum(y_pred == y_test) / len(y_test)\n",
    "        return accuracy\n",
    "iris = datasets.load_iris()\n",
    "X = iris['data']\n",
    "y = iris['target']\n",
    "# Split data into train & test sets\n",
    "X_train, X_test, y_train, y_test = train_test_split(X, y, test_size=0.2)\n",
    "# Preprocess data\n",
    "ss = StandardScaler().fit(X_train)\n",
    "X_train, X_test = ss.transform(X_train), ss.transform(X_test)\n",
    "# Test knn model across varying ks\n",
    "accuracies = []\n",
    "ks = range(1, 30)\n",
    "for k in ks:\n",
    "    knn = KNeighborsClassifier(k=k)\n",
    "    knn.fit(X_train, y_train)\n",
    "    accuracy = knn.evaluate(X_test, y_test)\n",
    "    accuracies.append(accuracy)\n",
    "# Visualize accuracy vs. k\n",
    "fig, ax = plt.subplots()\n",
    "ax.plot(ks, accuracies)\n",
    "ax.set(xlabel=\"k\",\n",
    "       ylabel=\"Accuracy\",\n",
    "       title=\"Performance of knn\")\n",
    "plt.show()\n"
   ]
  },
  {
   "cell_type": "code",
   "execution_count": null,
   "id": "58d62d4e-997e-4347-93c1-2d9cfacc939d",
   "metadata": {},
   "outputs": [],
   "source": [
    "Q2. Write a Python code to implement the KNN regressor algorithm on load_boston dataset in\n",
    "sklearn.datasets.\n",
    "solved in above progrm\n"
   ]
  },
  {
   "cell_type": "code",
   "execution_count": null,
   "id": "f91dbf98-99bb-459b-b9ac-83a99dd42a73",
   "metadata": {},
   "outputs": [],
   "source": [
    "Q3. Write a Python code snippet to find the optimal value of K for the KNN classifier algorithm using cross-validation \n",
    "on load_iris dataset in sklearn.datasets.\n",
    "Solved in above pgram\n",
    "\n"
   ]
  },
  {
   "cell_type": "code",
   "execution_count": null,
   "id": "d6118e8a-44c2-4858-bddb-7d7dfd2c52bb",
   "metadata": {},
   "outputs": [],
   "source": [
    "Q4. Implement the KNN regressor algorithm with feature scaling on load_boston dataset in\n",
    "sklearn.datasets.\n",
    "from sklearn.preprocessing import StandardScaler\n",
    "scaler = StandardScaler()\n",
    "# Fit only on X_train\n",
    "scaler.fit(X_train)\n",
    "# Scale both X_train and X_test\n",
    "X_train = scaler.transform(X_train)\n",
    "X_test = scaler.transform(X_test)\n",
    "\n"
   ]
  },
  {
   "cell_type": "code",
   "execution_count": null,
   "id": "2836c170-866f-4177-8935-0492b7670146",
   "metadata": {},
   "outputs": [],
   "source": [
    "Q5. Write a Python code snippet to implement the KNN classifier algorithm with weighted voting on load_iris\n",
    "dataset in sklearn.datasets.\n",
    "Solved in above prgam\n"
   ]
  },
  {
   "cell_type": "code",
   "execution_count": null,
   "id": "b5d08eca-5e1e-498e-b400-0c9a2b395bbd",
   "metadata": {},
   "outputs": [],
   "source": [
    "Q6. Implement a function to standardise the features before applying KNN classifier.\n",
    "Solved in above pgm\n"
   ]
  },
  {
   "cell_type": "code",
   "execution_count": null,
   "id": "bf1b9da4-8cfe-4de6-8920-4d5031525ef8",
   "metadata": {},
   "outputs": [],
   "source": [
    "Q7. Write a Python function to calculate the euclidean distance between two points.\n",
    "import math\n",
    "print(\"Enter the first point A\")\n",
    "x1, y1 = map(int, input().split())\n",
    "print(\"Enter the second point B\")\n",
    "x2, y2 = map(int, input().split())\n",
    "dist = math.sqrt((x2-x1)**2 + (y2-y1)**2)\n",
    "print(\"The Euclidean Distance is \" + str(dist))\n"
   ]
  },
  {
   "cell_type": "code",
   "execution_count": null,
   "id": "91857eeb-9a74-47d7-ad16-f676ceea7626",
   "metadata": {},
   "outputs": [],
   "source": [
    "Q8. Write a Python function to calculate the manhattan distance between two points.\n",
    "from math import sqrt\n",
    "\n",
    "def manhattanDist(a, b):\n",
    "    return sum(abs(val1 - val2) for val1, val2 in zip(a, b))\n",
    "\n",
    "A = [1, 1, 1, 1]\n",
    "B = [5, 2, 4, 8]\n",
    "\n",
    "print(\"Vector A\", A)\n",
    "print(\"Vector B\", B)\n",
    "print(\"Manhattans Distance : \", manhattanDist(A, B))\n",
    "\n"
   ]
  },
  {
   "cell_type": "code",
   "execution_count": null,
   "id": "0ac11595-3bf3-4e99-b3b4-001d82fdf2bd",
   "metadata": {},
   "outputs": [],
   "source": []
  },
  {
   "cell_type": "code",
   "execution_count": null,
   "id": "61764ecb-affd-4db8-b23e-2c16ac7352f3",
   "metadata": {},
   "outputs": [],
   "source": []
  },
  {
   "cell_type": "code",
   "execution_count": null,
   "id": "8bcc3bd7-82ac-4e9e-aa1a-4e13df420e33",
   "metadata": {},
   "outputs": [],
   "source": []
  }
 ],
 "metadata": {
  "kernelspec": {
   "display_name": "Python 3 (ipykernel)",
   "language": "python",
   "name": "python3"
  },
  "language_info": {
   "codemirror_mode": {
    "name": "ipython",
    "version": 3
   },
   "file_extension": ".py",
   "mimetype": "text/x-python",
   "name": "python",
   "nbconvert_exporter": "python",
   "pygments_lexer": "ipython3",
   "version": "3.10.8"
  }
 },
 "nbformat": 4,
 "nbformat_minor": 5
}

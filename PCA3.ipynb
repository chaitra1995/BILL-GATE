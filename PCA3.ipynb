{
 "cells": [
  {
   "cell_type": "code",
   "execution_count": null,
   "id": "1c8e44f7-5afd-4ae2-ba77-aa377cdb032f",
   "metadata": {},
   "outputs": [],
   "source": [
    "Q1. What are Eigenvalues and Eigenvectors? How are they related to the Eigen-Decomposition approach?\n",
    "Explain with an example.\n",
    "\n",
    "Eigenvalues are the special set of scalar values that is associated with the set of linear equations most \n",
    "probably in the matrix equations. The eigenvectors are also termed as characteristic roots. It is a non-zero\n",
    "vector that can be changed at most by its scalar factor after the application of linear transformations.\n",
    "It is a process of matrix factorisation into its canonical form. The matrices that are diagonalizable can \n",
    "be factored into its canonical form. If A is a square matrix of the order of n*n then the matrix A can be\n",
    "diagonalized by using the formula. D=B^-1AB. Where D is a diagonalisation matrix.\n",
    "\n"
   ]
  },
  {
   "cell_type": "code",
   "execution_count": null,
   "id": "9ccd2de7-7f60-46e1-a7ab-6815f9ee4ebe",
   "metadata": {},
   "outputs": [],
   "source": [
    "\n",
    "Q2. What is eigen decomposition and what is its significance in linear algebra?\n",
    "\n",
    "In linear algebra, eigendecomposition is the factorization of a matrix into a canonical form, whereby the matrix \n",
    "is represented in terms of its eigenvalues and eigenvectors. Only diagonalizable matrices can be factorized in \n",
    "this way.\n",
    "Sometimes we can understand things better by breaking them apart. Decomposing them into their constituent\n",
    "parts, allowing us to find the non-obvious and universal properties. Eigendecomposition provides us with \n",
    "a tool to decompose a matrix by discovering the eigenvalues and the eigenvectors.\n"
   ]
  },
  {
   "cell_type": "code",
   "execution_count": null,
   "id": "b8c9d654-4c4c-4871-be20-bbf946cdafdb",
   "metadata": {},
   "outputs": [],
   "source": [
    "Q3. What are the conditions that must be satisfied for a square matrix to be diagonalizable using \n",
    "the Eigen-Decomposition approach? Provide a brief proof to support your answer.\n",
    "\n",
    "We would say that a matrix A (n×n), is diagonalizable if and only if the sum of the dimension of eigenspaces\n",
    "is equal to n, that is if and only if for any eigenvalues the algebraic multiplicity is equal to the \n",
    "geometric multiplicity\n"
   ]
  },
  {
   "cell_type": "code",
   "execution_count": null,
   "id": "c8ad2913-1376-4dff-87a1-e425ed4c8235",
   "metadata": {},
   "outputs": [],
   "source": [
    "Q4. What is the significance of the spectral theorem in the context of the Eigen-Decomposition approach?\n",
    "How is it related to the diagonalizability of a matrix? Explain with an example.\n",
    "\n",
    "They are simply the Diagonal elements! Spectral theorem states that any symmetric n x n Matrix which has real\n",
    "entries has exactly n real but possibly not distinct Eigenvalues and corresponding to those Eigenvalues there\n",
    "are mutually Orthogonal Eigenvectors\n",
    "The eigenvalues are roots of the characteristic polynomial.) Theorem — If A is Hermitian on V, then there\n",
    "exists an orthonormal basis of V consisting of eigenvectors of A. Each eigenvalue of A is real. \n",
    "We provide a sketch of a proof for the case where the underlying field of scalars is the complex numbers.\n"
   ]
  },
  {
   "cell_type": "code",
   "execution_count": null,
   "id": "f00c554c-37b0-471a-8c9e-b15981373174",
   "metadata": {},
   "outputs": [],
   "source": [
    "Q5. How do you find the eigenvalues of a matrix and what do they represent?\n",
    "Step 1: Make sure the given matrix A is a square matrix. Also, determine the identity matrix I of the same order.\n",
    "Step 2: Estimate the matrix A – λI, where λ is a scalar quantity.\n",
    "Step 3: Find the determinant of matrix A – λI and equate it to zero.\n",
    "Eigenvalues represent magnitude, or importance. Bigger Eigenvalues correlate with more important directions.\n",
    "Finally, we make an assumption that more variability in a particular direction correlates with explaining the\n",
    "behavior of the dependent variable.\n"
   ]
  },
  {
   "cell_type": "code",
   "execution_count": null,
   "id": "beb98765-2359-4fc9-8376-5c728b95b531",
   "metadata": {},
   "outputs": [],
   "source": [
    "\n",
    "Q6. What are eigenvectors and how are they related to eigenvalues?\n",
    "\n",
    "Eigenvalues are the special set of scalar values that is associated with the set of linear equations most\n",
    "probably in the matrix equations. The eigenvectors are also termed as characteristic roots. It is a non-zero\n",
    "vector that can be changed at most by its scalar factor after the application of linear transformations.\n",
    "The difference in these two views is captured by a linear transformation that maps one view into another.\n",
    "This linear transformation gets described by a matrix called the eigenvector. The points in that matrix \n",
    "are called eigenvalues.\n"
   ]
  },
  {
   "cell_type": "code",
   "execution_count": null,
   "id": "ae1a04c9-6700-4dd5-9a26-881e54682f08",
   "metadata": {},
   "outputs": [],
   "source": [
    "Q7. Can you explain the geometric interpretation of eigenvectors and eigenvalues?\n",
    "\n",
    "They can be positive or negative in theory, but in practice they explain variance which is always positive.\n",
    "If eigenvalues are greater than zero, then it's a good sign. Since variance cannot be negative, negative \n",
    "eigenvalues imply the model is ill-conditioned.\n",
    "Because of the definition of eigenvalues and eigenvectors, an eigenvalue's geometric multiplicity must be\n",
    "at least one, that is, each eigenvalue has at least one associated eigenvector. Furthermore, an eigenvalue's\n",
    "geometric multiplicity cannot exceed its algebraic multiplicity.\n"
   ]
  },
  {
   "cell_type": "code",
   "execution_count": null,
   "id": "3201cb4a-e7e2-4200-a936-5b51a2e3bd6c",
   "metadata": {},
   "outputs": [],
   "source": [
    "Q8. What are some real-world applications of eigen decomposition?\n",
    "\n",
    "The most important application Eigen-value Eigen-vector decomposition is the decorrelation of your data or matrix.\n",
    "In turn, it can be used in the reduction of the dimensionality of your data.\n",
    "Many applications of matrices in both engineering and science utilize eigenvalues and, sometimes, eigenvectors.\n",
    "Control theory, vibration analysis, electric circuits, advanced dynamics and quantum mechanics are just a few \n",
    "of the application areas.\n"
   ]
  },
  {
   "cell_type": "code",
   "execution_count": null,
   "id": "1ad6f4dd-e3a5-4479-8ee4-fe260be12723",
   "metadata": {},
   "outputs": [],
   "source": [
    "Q9. Can a matrix have more than one set of eigenvectors and eigenvalues?\n",
    "\n",
    "The matrix A is a 3 × 3 matrix, so it has 3 eigenvalues in total. The eigenspace E7 contains the vectors\n",
    "(1,2,1)T and (1,1,0)T , which are linearly independent. So E7 must have dimension at least 2, which \n",
    "implies that the eigenvalue 7 has multiplicity at least 2.\n",
    "Since a nonzero subspace is infinite, every eigenvalue has infinitely many eigenvectors.\n",
    "(For example, multiplying an eigenvector by a nonzero scalar gives another eigenvector.) On the other\n",
    "hand, there can be at most n linearly independent eigenvectors of an n × n matrix, since R n has dimension n .\n"
   ]
  },
  {
   "cell_type": "code",
   "execution_count": null,
   "id": "de451a72-3443-4ab0-b2d5-e99bda912ba1",
   "metadata": {},
   "outputs": [],
   "source": [
    "Q10. In what ways is the Eigen-Decomposition approach useful in data analysis and machine learning?\n",
    "Discuss at least three specific applications or techniques that rely on Eigen-Decomposition.\n",
    "factorization components of eigen decompositions are used in various machine learning algorithms,\n",
    "for detecting anomalies in data and data reduction. Singular value decomposition is an algorithm used for calculating eigen decomposition with time complexity of O(n3).\n",
    "Three specific applications on eigen Decomposition.\n",
    "1.The most important application Eigen-value Eigen-vector decomposition is the decorrelation of your data or matrix. In turn, it can be used in the reduction of the dimensionality of your data\n",
    "2.Many applications of matrices in both engineering and science utilize eigenvalues and, sometimes, eigenvectors. \n",
    "3.Control theory, vibration analysis, electric circuits, advanced dynamics and quantum mechanics are just a few of the application areas.\n",
    "\n"
   ]
  },
  {
   "cell_type": "code",
   "execution_count": null,
   "id": "98255d77-0c4d-4f12-8a9b-5da21f08ad59",
   "metadata": {},
   "outputs": [],
   "source": []
  }
 ],
 "metadata": {
  "kernelspec": {
   "display_name": "Python 3 (ipykernel)",
   "language": "python",
   "name": "python3"
  },
  "language_info": {
   "codemirror_mode": {
    "name": "ipython",
    "version": 3
   },
   "file_extension": ".py",
   "mimetype": "text/x-python",
   "name": "python",
   "nbconvert_exporter": "python",
   "pygments_lexer": "ipython3",
   "version": "3.10.8"
  }
 },
 "nbformat": 4,
 "nbformat_minor": 5
}

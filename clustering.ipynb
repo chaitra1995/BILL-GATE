{
 "cells": [
  {
   "cell_type": "code",
   "execution_count": null,
   "id": "b3c24912-3455-4533-a601-773ade874bd0",
   "metadata": {},
   "outputs": [],
   "source": [
    "Q1. What are the different types of clustering algorithms, and how do they differ in terms of their approach\n",
    "and underlying assumptions?\n",
    "•\tCentroid-based Clustering.\n",
    "•\tDensity-based Clustering.\n",
    "•\tDistribution-based Clustering.\n",
    "•\tHierarchical Clustering.\n",
    "There are two different types of clustering, which are hierarchical and non-hierarchical methods. \n",
    "Non-hierarchical Clustering In this method, the dataset containing N objects is divided into M clusters. \n",
    "In business intelligence, the most widely used non-hierarchical clustering technique is K-means\n"
   ]
  },
  {
   "cell_type": "code",
   "execution_count": null,
   "id": "b93e49f6-daf6-42d2-a28a-c7f37b98621d",
   "metadata": {},
   "outputs": [],
   "source": [
    "Q2. What is K-means clustering, and how does it work?\n",
    "The k-means clustering algorithm mainly performs two tasks: Determines the best value for K center points or\n",
    "centroids by an iterative process. Assigns each data point to its closest k-center. Those data points which are\n",
    "near to the particular k-center, create a cluster.\n",
    "The letter k has different meanings in the two methods (kNN and K-means). In the kNN method the k stands\n",
    "for the number of nearest neighbours to which the object to be classified is compared. In K-means, \n",
    "k signifies the number of clusters (groups) that we want to form.\n",
    "\n"
   ]
  },
  {
   "cell_type": "code",
   "execution_count": null,
   "id": "15149b86-0faf-4e67-8fe8-00b000f864ad",
   "metadata": {},
   "outputs": [],
   "source": [
    "Q3. What are some advantages and limitations of K-means clustering compared to other clustering techniques?\n",
    "1.\tdifficult to choose the number of clusters, 𝑘 \n",
    "2.\tcannot be used with arbitrary distances.\n",
    "3.\tsensitive to scaling – requires careful preprocessing.\n",
    "4.\tdoes not produce the same result every time.\n",
    "5.\tclever initialization helps finding better results.\n",
    "6.\tsensitive to outliers (squared errors emphasize outliers)\n",
    "\n",
    "\n"
   ]
  },
  {
   "cell_type": "code",
   "execution_count": null,
   "id": "72993c71-2544-4aa9-8b17-22e0e966456c",
   "metadata": {},
   "outputs": [],
   "source": [
    "Q4. How do you determine the optimal number of clusters in K-means clustering, and what are some common\n",
    "methods for doing so?\n",
    "1.\tCompute clustering algorithm (e.g., k-means clustering) for different values of k. ...\n",
    "2.\tFor each k, calculate the total within-cluster sum of square (wss).\n",
    "3.\tPlot the curve of wss according to the number of clusters k.\n"
   ]
  },
  {
   "cell_type": "code",
   "execution_count": null,
   "id": "3a17a849-a395-482d-ac03-f07e26ffdafb",
   "metadata": {},
   "outputs": [],
   "source": [
    "Q5. What are some applications of K-means clustering in real-world scenarios, and how has it been used to \n",
    "solve specific problems?\n",
    "KMeans is used across many fields in a wide variety of use cases; some examples of clustering use cases\n",
    "include customer segmentation, fraud detection, predicting account attrition, targeting client incentives,\n",
    "cybercrime identification, and delivery route optimization\n",
    "•\tmarket segmentation.\n",
    "•\tsocial network analysis.\n",
    "•\tsearch result grouping.\n",
    "•\tmedical imaging.\n",
    "•\timage segmentation.\n",
    "•\tanomaly detection.\n"
   ]
  },
  {
   "cell_type": "code",
   "execution_count": null,
   "id": "07c882e8-c22c-45c8-bb1f-3bb71b6ce36a",
   "metadata": {},
   "outputs": [],
   "source": [
    "Q6. How do you interpret the output of a K-means clustering algorithm, and what insights can you derive \n",
    "from the resulting clusters?\n",
    "The silhouette score and plot are used to evaluate the quality of a clustering solution produced by the k-means \n",
    "algorithm. The silhouette score measures the similarity of each point to its own cluster compared to other clusters,\n",
    "and the silhouette plot visualizes these scores for each sample\n"
   ]
  },
  {
   "cell_type": "code",
   "execution_count": null,
   "id": "1f2c46aa-28ec-4729-a50f-baf7b59b9fb5",
   "metadata": {},
   "outputs": [],
   "source": []
  },
  {
   "cell_type": "code",
   "execution_count": null,
   "id": "275f68d4-f251-419b-99a2-64a2a3a648d9",
   "metadata": {},
   "outputs": [],
   "source": []
  },
  {
   "cell_type": "code",
   "execution_count": null,
   "id": "d8810cf2-ecd6-404b-a2db-ae0a6966ff08",
   "metadata": {},
   "outputs": [],
   "source": []
  },
  {
   "cell_type": "code",
   "execution_count": null,
   "id": "19de86e0-469f-4570-9f12-ad93ee9e33cd",
   "metadata": {},
   "outputs": [],
   "source": []
  },
  {
   "cell_type": "code",
   "execution_count": null,
   "id": "cfa61106-e716-41dd-8652-e6e2c0be16a5",
   "metadata": {},
   "outputs": [],
   "source": []
  }
 ],
 "metadata": {
  "kernelspec": {
   "display_name": "Python 3 (ipykernel)",
   "language": "python",
   "name": "python3"
  },
  "language_info": {
   "codemirror_mode": {
    "name": "ipython",
    "version": 3
   },
   "file_extension": ".py",
   "mimetype": "text/x-python",
   "name": "python",
   "nbconvert_exporter": "python",
   "pygments_lexer": "ipython3",
   "version": "3.10.8"
  }
 },
 "nbformat": 4,
 "nbformat_minor": 5
}

{
 "cells": [
  {
   "cell_type": "code",
   "execution_count": null,
   "id": "0d02643e-ba69-41b6-ad66-f86ff32f89d3",
   "metadata": {},
   "outputs": [],
   "source": [
    "1.\tWhat is an exception in python? Write  the difference between Exceptions and syntax errors"
   ]
  },
  {
   "cell_type": "code",
   "execution_count": null,
   "id": "9f91ff8a-7554-4e16-81fb-4c853a5a500b",
   "metadata": {},
   "outputs": [],
   "source": [
    "An exception is an event, which occurs during the execution of program, that disrupts the  normal  flow of the program’s \n",
    "instructions.\n",
    "In general ,when a python script encounters a situation  that it cannot  cope with, it raises an                     \n",
    "exception .An exception is a python object that represents an error.\n",
    "Errors are problems in a program due to which program will stop the execution . on the other hand, exceptions\n",
    "are raised  when some  internal events occur which  changes the  normal  flow of the program.\n",
    "The difference between Exception and  syntax errors.\n",
    "a.\tsyntax errors: when the proper syntax of the language is not followed  then a syntax  error is thrown.\n",
    "It returns the syntax  error message because after the if statement  a colon : is missing . we can fix this by writing  \n",
    "the correct syntax.\n",
    "     amount=10000\n",
    "if(amount>2999):\n",
    "    print(\"you are eligible \"):\n",
    "\n",
    "b.\tException:  when in the runtime  an error that occurs after passing  the  syntax test is called exception .\n",
    "For example when we divide  any number  by zero  then  the ZeroDivisionError exception  is raised. or  when  we import \n",
    "a module  that does not  exist then importError is raised\n",
    "marks = 10000\n",
    "a = marks / 0\n",
    "print(a)\n",
    "---------------------------------------------------------------------------\n",
    "ZeroDivisionError                        \n",
    "Cell In[13], line 2\n",
    "      1 marks = 10000\n",
    "----> 2 a = marks / 0\n",
    "      3 print(a)\n",
    "\n",
    "ZeroDivisionError: division by zero\n",
    "\n",
    "Example2:\n",
    "if(a<3):\n",
    "print(\"gfg\")\n",
    "Cell In[14], line 2\n",
    "    print(\"gfg\")\n",
    "    ^\n",
    "IndentationError: expected an indented block after 'if' statement on line 1\n"
   ]
  },
  {
   "cell_type": "code",
   "execution_count": null,
   "id": "57342414-8778-45d3-9056-5019c8f2e48b",
   "metadata": {},
   "outputs": [],
   "source": [
    "2.What happens when an exception  is not handled ? Explain with an example"
   ]
  },
  {
   "cell_type": "code",
   "execution_count": null,
   "id": "a0bf8911-f3a7-48b5-87d2-d7db52a0b944",
   "metadata": {},
   "outputs": [],
   "source": [
    "If the assertion  fails, python uses  ArgumentExpression as the  argument  for the AssertionError.\n",
    "AssertionError exceptions can be caught and handled  like  any  other exception  using the try-except statement ,but\n",
    "if not handled ,they will terminate the program  and produce a traceback. \n"
   ]
  },
  {
   "cell_type": "code",
   "execution_count": null,
   "id": "2c5a3539-c9f3-4f92-bf3b-68175569f3da",
   "metadata": {},
   "outputs": [],
   "source": [
    "3.\tWhich python  statements are used to catch  and handle exception? Explain  with an example. "
   ]
  },
  {
   "cell_type": "code",
   "execution_count": null,
   "id": "c17493dc-4c15-43c2-bda4-bda2010909e3",
   "metadata": {},
   "outputs": [],
   "source": [
    "The try and except  block  in python  is used to catch and handle exceptions . python executes  code\n",
    "following  the try statement as a “normal” part  of the a program . the code  that follows  the except \n",
    "statement  is the program’s  response  to  any  exceptions in the preceding  try clause. \n"
   ]
  },
  {
   "cell_type": "code",
   "execution_count": null,
   "id": "6fd295b5-e963-4f78-9b7e-1f477bc1f3ea",
   "metadata": {},
   "outputs": [],
   "source": [
    "try:\n",
    "even_numbers=[2,4,6,7]\n",
    "print(even_number)\n",
    "              except ZeroDivisionError\n",
    "               print(“denominator cannot be 0”)\n",
    "              except  indexZeroError\n",
    "              print(“index out of Bound”)"
   ]
  },
  {
   "cell_type": "code",
   "execution_count": null,
   "id": "b267b0b3-9d83-40bb-8eb9-658c218117bb",
   "metadata": {},
   "outputs": [],
   "source": [
    "4.Explain with an example:\n",
    "a.try and else\n",
    "b.finally\n",
    "c.raise.\n"
   ]
  },
  {
   "cell_type": "code",
   "execution_count": null,
   "id": "3094844d-cf19-472e-b1b8-2dcac02c792f",
   "metadata": {},
   "outputs": [],
   "source": [
    "•\ta. Try: This block wil test the excuted error.\n",
    " try:\n",
    "       print(x)\n",
    "except:\n",
    "       print(x)\n",
    "   \n",
    "\n",
    "•\tb. Else: if there is no exception then this block will be exceuted .\n",
    "      try:\n",
    "           print(x)\n",
    "      except:\n",
    "           print(“something went wrong”)\n",
    "       else:\n",
    "            print(“nothing went wrong”)\n",
    "\n",
    "\n",
    "c.\tFinally : Finally block always gets executed  either exception is generated or not .\n",
    "finally:\n",
    "       try:\n",
    "           print(x)\n",
    "       except:\n",
    "            print(“something went wrong”)\n",
    "        finally:\n",
    "              print(“the ‘try  except’ is finished”)  \n",
    "\n",
    "d.\tRaise: an exception : to throw (or raise)an exception, use the raise keyword.\n",
    "x=-1\n",
    " If  x<0:\n",
    " raise Exception(“sorry ,no number below  zero”)\n",
    "\n",
    "Raise a typeError if X is not an integer:\n",
    "  x=”hello”\n",
    " if  not type(x) is int:\n",
    "      raise TypeError(“only integer  are allowed”)\n",
    "\n"
   ]
  },
  {
   "cell_type": "code",
   "execution_count": null,
   "id": "b1a4f68e-5785-4b4b-aff2-e7fa85469dec",
   "metadata": {},
   "outputs": [],
   "source": [
    "5.\twhat are custom exceptions in python? why do we need custom exceptions? explain with an example."
   ]
  },
  {
   "cell_type": "code",
   "execution_count": null,
   "id": "7c0a7bf2-6aee-4ca0-8fb9-f36ab565f0fb",
   "metadata": {},
   "outputs": [],
   "source": [
    "We can define custom exceptions by  creating  a new class  that is derived from the built-in exception class .\n",
    "Here the syntax to define custom exception.\n",
    "Class customError(Exception):\n",
    "….\n",
    "Pass\n",
    "try:\n",
    "….\n",
    "Except customError:\n",
    "…..\n",
    "Here, customError  is a userdefined error  which inherits from the exception  class.\n",
    "\n",
    " Custom exception provide the flexibility to add  attributes  and the methods that are  not part of standard  java exception .these can store addition  information ,like  an application  specific error code, or provide utility  methods  that can  be used  to handle  or present  the exception  to a user.\n",
    "Example:\n"
   ]
  },
  {
   "cell_type": "code",
   "execution_count": null,
   "id": "72429279-c86d-4aed-8e8c-19c723ee7410",
   "metadata": {},
   "outputs": [],
   "source": [
    "class InvalidAgeException(Exception):\n",
    "    \"Raised when the input value is less than 18\"\n",
    "    pass\n",
    "number = 18\n",
    "try:\n",
    "    input_num = int(input(\"Enter a number: \"))\n",
    "    if input_num < number:\n",
    "        raise InvalidAgeException\n",
    "    else:\n",
    "        print(\"Eligible to Vote\")\n",
    "except InvalidAgeException:\n",
    "    print(\"Exception occurred: Invalid Age\")\n"
   ]
  },
  {
   "cell_type": "code",
   "execution_count": null,
   "id": "e4dc4378-227c-41e1-bb58-137f5a88fe3f",
   "metadata": {},
   "outputs": [],
   "source": [
    "6.Create custom exception ,class. Use this ,class to handle an exception."
   ]
  },
  {
   "cell_type": "code",
   "execution_count": null,
   "id": "b12c9223-6847-4e85-94ff-6a98fe985133",
   "metadata": {},
   "outputs": [],
   "source": [
    "class SalaryNOTInRangeError(Exception):\n",
    "    def __init__(self,salary,message=\"salary is not in (5000,15000)range\"):\n",
    "        self.salary=salary\n",
    "        self.message=message\n",
    "        super().__init__(self.message)\n",
    "salary = int(input(\"enter salary amount:\"))\n",
    "if not 5000<salary<15000:\n",
    "    raise SalaryNOTInRangeError(salary)\n"
   ]
  },
  {
   "cell_type": "code",
   "execution_count": null,
   "id": "ea71b44e-456e-4c91-a003-f979a6ca48a4",
   "metadata": {},
   "outputs": [],
   "source": []
  }
 ],
 "metadata": {
  "kernelspec": {
   "display_name": "Python 3 (ipykernel)",
   "language": "python",
   "name": "python3"
  },
  "language_info": {
   "codemirror_mode": {
    "name": "ipython",
    "version": 3
   },
   "file_extension": ".py",
   "mimetype": "text/x-python",
   "name": "python",
   "nbconvert_exporter": "python",
   "pygments_lexer": "ipython3",
   "version": "3.10.8"
  }
 },
 "nbformat": 4,
 "nbformat_minor": 5
}

{
 "cells": [
  {
   "cell_type": "code",
   "execution_count": null,
   "id": "f9a22931-c79d-4d7c-bf58-6dede484f45e",
   "metadata": {},
   "outputs": [],
   "source": [
    "Q1. Which function is used to open a file? What are the different modes of opening a file? \n",
    "Explain each mode of file opening.\n",
    "Open () method is used to open the file. Create a file object named file1.this object can be \n",
    "used to work with files and directories.\n",
    "File1=open(“test.txt”)\n",
    "By default files are open in read mode.\n",
    "File1=open(“test.txt”,”r”)\n",
    "Different modes to open file.\n",
    "1.\tr  : - open file for reading\n",
    "2.\tw  :- open file for writing .creates a new file if it does not exist or truncates the file if it exists\n",
    "3.\tx  :- open a file for exclusive creation .if the file already exist the operation fails.\n",
    "4.\ta  :- open a file for appending at the end of the file without truncating it .creates a new \n",
    "file if it does not exists.\n",
    "5.\tt  :-open in txt mode .(default)\n",
    "6.\tb  :-open in binary mode.\n",
    "7.\t+ :-open a file for updating (reading and writing)\n"
   ]
  },
  {
   "cell_type": "code",
   "execution_count": null,
   "id": "461b68f6-5bb0-4c05-a691-e5d89ad519a1",
   "metadata": {},
   "outputs": [],
   "source": [
    "Q2. Why close() function is used? Why is it important to close a file?\n",
    "The close() method closes an open file.\n",
    "You should always close your files, in some cases, due to buffering, changes made to a file\n",
    "may not show until you close the file.\n",
    "f = open(\"demofile.txt\", \"r\")\n",
    "print(f.read())\n",
    "f.close()\n",
    "file.close ()\n",
    "\n",
    "Not closing a file after an interaction is not only a waste of program resources but could also\n",
    "prevent other file interactions and may lead to inconsistencies when running your scripts on different \n",
    "Python versions. Leaving files open is also widely regarded as poor practice, and it's always best\n",
    "to get into good habits early on.\n",
    "\n"
   ]
  },
  {
   "cell_type": "code",
   "execution_count": null,
   "id": "e2772c23-b5e5-4431-995c-de4284e3ce8f",
   "metadata": {},
   "outputs": [],
   "source": [
    "Q3. Write a python program to create a text file. Write ‘I want to become a Data Scientist’ \n",
    "in that file. Then close the file. Open this file and read the content of the file.  \n"
   ]
  },
  {
   "cell_type": "code",
   "execution_count": 1,
   "id": "f4a4bbbe-7d9f-4d5c-a111-48e7a1d40b68",
   "metadata": {},
   "outputs": [],
   "source": [
    "def main():\n",
    "    f= open(\"test.txt\",\"w+\")\n",
    "    for i in range(1):\n",
    "        f.write(\"i want to become data scientist\")\n",
    "    f.close()\n",
    "if__name__=\"__main__\"\n",
    "main()\n"
   ]
  },
  {
   "cell_type": "code",
   "execution_count": null,
   "id": "f645c03c-4830-49cd-a9d2-70a22a006900",
   "metadata": {},
   "outputs": [],
   "source": [
    "Q4. Explain the following with python code: read(), readline() and readlines().\n",
    "a.\tread() : readmethod reads the entire contents of  a file and returns it as a string.\n"
   ]
  },
  {
   "cell_type": "code",
   "execution_count": 3,
   "id": "36272edc-493d-42ea-9e96-e1334fbdf72d",
   "metadata": {},
   "outputs": [
    {
     "name": "stdout",
     "output_type": "stream",
     "text": [
      "i want to become data scientist\n"
     ]
    }
   ],
   "source": [
    "with open(\"test.txt\", \"r\") as file:\n",
    "    content = file.read()\n",
    "    print(content)\n",
    "    "
   ]
  },
  {
   "cell_type": "code",
   "execution_count": null,
   "id": "e54fbd85-6c99-4f03-88b1-5ed12ba25612",
   "metadata": {},
   "outputs": [],
   "source": [
    "b.\treadline(): The readline method reads the  single line from the file and return it as \n",
    "the string.this means that if you use this readline ,you can read contents line by line,which\n",
    "can be useful for processing large files that do not fit memory. While loop continues to read lines \n",
    "from the file until readline returns an empty string ,indicating the end of the file.the  strip method\n",
    "used to remove terminator from each line.   \n"
   ]
  },
  {
   "cell_type": "code",
   "execution_count": 5,
   "id": "f4c0eaad-0a73-4a30-bc73-189935e0fcd5",
   "metadata": {},
   "outputs": [
    {
     "name": "stdout",
     "output_type": "stream",
     "text": [
      "i want to become data scientist\n"
     ]
    }
   ],
   "source": [
    "with open(\"test.txt\", \"r\") as file:\n",
    "    line = file.readline()\n",
    "    while line:\n",
    "        print(line.strip())\n",
    "        line = file.readline()"
   ]
  },
  {
   "cell_type": "code",
   "execution_count": null,
   "id": "a601895d-b05a-4f0e-916f-af9664923a8a",
   "metadata": {},
   "outputs": [],
   "source": [
    "c.\treadlines():readline method reads single line from a  file and returns it as a string ,while \n",
    "the readlines read the entire contents of a file and returns it as a list of strings,where each element\n",
    "of the list is the single line of the file. python readlines reads the whole file into\n",
    "memory ,which can be problematic if the file is very large .in such cases its usually better \n",
    "to use readline and process the file one line at a time.if you want to remove line terminator  charcters(\\n or \\r\\n)\n",
    "from each line you can use the strip method.\n"
   ]
  },
  {
   "cell_type": "code",
   "execution_count": 6,
   "id": "54d522a1-35aa-49b1-82ab-dac87ac46b55",
   "metadata": {},
   "outputs": [
    {
     "name": "stdout",
     "output_type": "stream",
     "text": [
      "i want to become data scientist\n"
     ]
    }
   ],
   "source": [
    "with open(\"test.txt\", \"r\") as file:\n",
    "    lines = file.readlines()\n",
    "    for line in lines:\n",
    "        print(line.strip())\n"
   ]
  },
  {
   "cell_type": "code",
   "execution_count": null,
   "id": "28de36a0-66d2-4318-b2c9-101b13719a39",
   "metadata": {},
   "outputs": [],
   "source": [
    "Q5. Explain why with statement is used with open(). What is the advantage of using with statement and \n",
    "open() together?\n",
    "ecution block and object created  in the with statement will be destroyed or gracefully closed  when this \n",
    "execution block ends.\n",
    "It means when we used “with statement”with open()function , an exception blocked started  and the file object\n",
    "returned by open()function is assigned to file_object. When this execution block of “with statement”end, then file \n",
    "object’s close function gets called automatically.and the file  will be closed gracefully.we don’t need to manually \n",
    "call the close()function anymore if using”with statement”.\n",
    "the advantage of using with statement and \n"
   ]
  },
  {
   "cell_type": "code",
   "execution_count": 9,
   "id": "f1481363-db78-418d-bb6e-b45b2146f804",
   "metadata": {},
   "outputs": [
    {
     "name": "stdout",
     "output_type": "stream",
     "text": [
      "i want to become data scientist\n",
      "file is closed\n"
     ]
    }
   ],
   "source": [
    "with open ('test.txt',\"r\") as file_object:\n",
    "    data = file_object.read()\n",
    "    print(data)\n",
    "if file_object.closed==False:\n",
    "    print(\"file is not closed\")\n",
    "else:\n",
    "    print(\"file is closed\")\n"
   ]
  },
  {
   "cell_type": "code",
   "execution_count": null,
   "id": "28ced5d2-c183-4928-88a1-2a07682c92fa",
   "metadata": {},
   "outputs": [],
   "source": [
    "the advantage of using with statement\n",
    "with statement  creates an ex\n",
    "1.fewer chances of bug due to coding error.:-no need to explicity close the opened file,”with statement”\n",
    "takes care of that.when with block ends,it automatically close the file .so,it reduces the numberof lines \n",
    "of code and reduces  the chance of bug.\n",
    "2.Excellect handling in case of exception.:-if we have opened  a file using “with statement”and exception \n",
    "comes inside the execution block of “with statement”.then file will be closed.before control moves to the \n",
    "except block.we don’t need to call the close()function even in case of exception ,execution block \n",
    "of “with statement”handles that too closes the file before exception handling.\n"
   ]
  },
  {
   "cell_type": "code",
   "execution_count": 10,
   "id": "12c94a5f-3784-4338-ac6e-22b4ce59384b",
   "metadata": {},
   "outputs": [
    {
     "name": "stdout",
     "output_type": "stream",
     "text": [
      "An Error\n",
      "File is closed\n"
     ]
    }
   ],
   "source": [
    "try:\n",
    "    # using \"with statement\" with open() function\n",
    "    with open('test.txt', \"r\") as file_object:\n",
    "        # read file content\n",
    "        data = file_object.read()\n",
    "        # it raises an error\n",
    "        x = 1 / 0\n",
    "        print(data)\n",
    "except:\n",
    "    # handling exception\n",
    "    print('An Error')\n",
    "    if file_object.closed == False:\n",
    "        print('File is not closed')\n",
    "    else:\n",
    "        print('File is closed')\n",
    "\n"
   ]
  },
  {
   "cell_type": "code",
   "execution_count": null,
   "id": "ac340bef-34eb-40ad-8f37-7d4781e61854",
   "metadata": {},
   "outputs": [],
   "source": [
    "Q6. Explain the write() and writelines() functions. Give a suitable example.\n",
    "Write() function  wil write the content in the file without adding any extra  charcters.\n",
    "File_name.write(content)\n",
    "the string that is passed to write()function is written into opened file.the string may include numbers,\n",
    "special charcters,or symbols.while writing data to a file.we must know that write function does not add a\n",
    "new lines charcter to the end of the string. the write ()function returns none.\n"
   ]
  },
  {
   "cell_type": "code",
   "execution_count": 13,
   "id": "64193eb8-b7b1-45fd-bc46-f080d0f94122",
   "metadata": {},
   "outputs": [
    {
     "name": "stdin",
     "output_type": "stream",
     "text": [
      "Enter the name of the employee:  cat\n",
      "Enter the name of the employee:  mat\n",
      "Enter the name of the employee:  rat\n"
     ]
    },
    {
     "name": "stdout",
     "output_type": "stream",
     "text": [
      "Data is written into the file.\n"
     ]
    }
   ],
   "source": [
    "file = open(\"Employees.txt\", \"w\")\n",
    "for i in range(3):\n",
    "    name = input(\"Enter the name of the employee: \")\n",
    "    file.write(name)\n",
    "    file.write(\"\\n\") \n",
    "file.close()\n",
    "  \n",
    "print(\"Data is written into the file.\")"
   ]
  },
  {
   "cell_type": "code",
   "execution_count": null,
   "id": "f8c21168-1b59-4711-a6a7-a7e84ee9cabb",
   "metadata": {},
   "outputs": [],
   "source": [
    "writelines() this function writes the content of a list to a file.\n",
    "File_name.writelines(list_of_lines)\n",
    "The list of strings that is passed to the writelines() function is written into the opened file.\n",
    "similar to the write()function, the writelines function does not add a newlines charcter to the end of the string.\n"
   ]
  },
  {
   "cell_type": "code",
   "execution_count": 14,
   "id": "2ea14f72-0318-44c7-acbe-cb628ba18b05",
   "metadata": {},
   "outputs": [
    {
     "name": "stdin",
     "output_type": "stream",
     "text": [
      "Enter the name of the employee:  cat\n",
      "Enter the name of the employee:  mat\n",
      "Enter the name of the employee:  rat\n"
     ]
    },
    {
     "name": "stdout",
     "output_type": "stream",
     "text": [
      "Data is written into the file.\n"
     ]
    }
   ],
   "source": [
    "file1 = open(\"Employees.txt\", \"w\")\n",
    "lst = []\n",
    "for i in range(3):\n",
    "    name = input(\"Enter the name of the employee: \")\n",
    "    lst.append(name + '\\n')\n",
    "      \n",
    "file1.writelines(lst)\n",
    "file1.close()\n",
    "print(\"Data is written into the file.\")\n"
   ]
  },
  {
   "cell_type": "code",
   "execution_count": null,
   "id": "3f42db15-ccd4-4e4a-9ad1-92f76be37eba",
   "metadata": {},
   "outputs": [],
   "source": []
  }
 ],
 "metadata": {
  "kernelspec": {
   "display_name": "Python 3 (ipykernel)",
   "language": "python",
   "name": "python3"
  },
  "language_info": {
   "codemirror_mode": {
    "name": "ipython",
    "version": 3
   },
   "file_extension": ".py",
   "mimetype": "text/x-python",
   "name": "python",
   "nbconvert_exporter": "python",
   "pygments_lexer": "ipython3",
   "version": "3.10.8"
  }
 },
 "nbformat": 4,
 "nbformat_minor": 5
}

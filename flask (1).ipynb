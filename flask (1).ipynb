{
 "cells": [
  {
   "cell_type": "markdown",
   "id": "528b0398-f5ae-4a4e-b5e5-8b72ed598892",
   "metadata": {},
   "source": [
    "Q1. What is Flask Framework? What are the advantages of Flask Framework?\n",
    "\n",
    "Flask is used for developing web applications using python, implemented on Werkzeug and Jinja2. \n",
    "Advantages of using Flask framework are:\n",
    "1.There is a built-in development server and a fast debugger provided.\n",
    "2.Lightweight\n",
    "3.Secure cookies are supported.\n",
    "4.Templating using Jinja2.\n",
    "5.Request dispatching using REST.\n",
    "6.Support for unit testing is built-in.\n",
    "\n"
   ]
  },
  {
   "cell_type": "code",
   "execution_count": null,
   "id": "b9a638c2-b14a-4e3d-888b-c59bbc01c40d",
   "metadata": {},
   "outputs": [],
   "source": [
    "Q2. Create a simple Flask application to display ‘Hello World!!’. Attach the screenshot of the output in\n",
    "Jupyter Notebook.\n",
    "\n",
    "from flask import Flask\n",
    "\n",
    "app = Flask(__name__)\n",
    "\n",
    "@app.route(\"/\")\n",
    "def hello_world():\n",
    "    return \"Hello, World!\"\n",
    "\n",
    "if __name__==\"__main__\":\n",
    "    app.run(host=\"0.0.0.0\")\n"
   ]
  },
  {
   "cell_type": "markdown",
   "id": "ee664bf0-3fad-4331-ba41-43eeca12f152",
   "metadata": {},
   "source": [
    "Q3. What is App routing in Flask? Why do we use app routes?\n",
    "App routing is the technique used to map the specific URL with the associated function \n",
    "intended to perform some task. The Latest Web frameworks use the routing technique to help\n",
    "users remember application URLs. List the different methods to bind the URLs to their\n",
    "associated functions.\n",
    "\n",
    "Why do we use app routes?\n",
    "App routing is used to map the specific URL with the associated function that is intended to \n",
    "perform some task. It is used to access some particular page like Flask Tutorial in \n",
    "the web application.\n",
    "\n"
   ]
  },
  {
   "cell_type": "code",
   "execution_count": null,
   "id": "ab227fe0-7828-4489-932d-5f1ba8ba5bac",
   "metadata": {},
   "outputs": [],
   "source": [
    "Q4. Create a “/welcome” route to display the welcome message\n",
    "“Welcome to ABC Corporation” and a “/”\n",
    "route to show the following details:\n",
    "Company Name: ABC Corporation\n",
    "Location: India\n",
    "Contact Detail: 999-999-9999\n",
    "Attach the screenshot of the output in Jupyter Notebook.\n",
    "\n",
    "from flask import Flask\n",
    "\n",
    "app = Flask(__name__)\n",
    "\n",
    "@app.route(\"/welcome\")\n",
    "def welcome():\n",
    "    return \"<h1>welcome to ABC corporation</h1>\"\n",
    "\n",
    "@app.route(\"/\")\n",
    "def details():\n",
    "  return \"<p>Company Name: ABC Corporation</p>\"\n",
    "  return \"<p>Location: India</p>\"\n",
    "  return \"<p>Contact Detail: 999-999-9999</p>\"\n",
    "\n",
    "if __name__==\"__main__\":\n",
    "    app.run(host=\"0.0.0.0\")\n"
   ]
  },
  {
   "cell_type": "code",
   "execution_count": null,
   "id": "839252c9-24a2-46c2-b372-81fa3049ebb1",
   "metadata": {},
   "outputs": [],
   "source": [
    "Q5. What function is used in Flask for URL Building? Write a Python code to \n",
    "demonstrate the working of the\n",
    "url_for() function\n",
    "\n",
    "from flask import *  \n",
    "   \n",
    "app = Flask(__name__)  \n",
    "  \n",
    "@app.route('/admin')  \n",
    "def admin():  \n",
    "    return 'admin'  \n",
    "  \n",
    "@app.route('/librarion')  \n",
    "def librarion():  \n",
    "    return 'librarion'  \n",
    "  \n",
    "@app.route('/student')  \n",
    "def student():  \n",
    "    return 'student'  \n",
    "  \n",
    "@app.route('/user/<name>')  \n",
    "def user(name):  \n",
    "    if name == 'admin':  \n",
    "        return redirect(url_for('admin'))  \n",
    "    if name == 'librarion':  \n",
    "        return redirect(url_for('librarion'))  \n",
    "    if name == 'student':  \n",
    "        return redirect(url_for('student'))  \n",
    "if __name__ =='__main__':  \n",
    "    app.run(debug = True)  \n",
    "The above script simulates the library management system which can be \n",
    "used by the three types of users, i.e., admin, librarion, and student.\n",
    "There is a specific function named user() which recognizes the user the \n",
    "redirect the user to the exact function which contains the implementation\n",
    "for this particular function.\n",
    "\n"
   ]
  }
 ],
 "metadata": {
  "kernelspec": {
   "display_name": "Python 3 (ipykernel)",
   "language": "python",
   "name": "python3"
  },
  "language_info": {
   "codemirror_mode": {
    "name": "ipython",
    "version": 3
   },
   "file_extension": ".py",
   "mimetype": "text/x-python",
   "name": "python",
   "nbconvert_exporter": "python",
   "pygments_lexer": "ipython3",
   "version": "3.10.8"
  }
 },
 "nbformat": 4,
 "nbformat_minor": 5
}

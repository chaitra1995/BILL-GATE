{
 "cells": [
  {
   "cell_type": "code",
   "execution_count": null,
   "id": "04f7236b-d429-4497-8917-4572273a0221",
   "metadata": {},
   "outputs": [],
   "source": [
    "Q1. Explain GET and POST methods.\n",
    "The GET method refers to a HyperText Transfer Protocol (HTTP) method that is\n",
    "applied while requesting information from a particular source. \n",
    "It is also used to get a specific variable derived from a group. \n",
    "The HTTP POST asks for input of information from the supplying browser\n",
    "into the server's message system.\n",
    "\n",
    "POST is used to send data to a server to create/update a resource.\n",
    "Some notes on POST requests: POST requests are never cached. \n",
    "POST requests do not remain in the browser history.\n"
   ]
  },
  {
   "cell_type": "code",
   "execution_count": null,
   "id": "ff6d5923-2757-4afd-bcab-7288b6371bc0",
   "metadata": {},
   "outputs": [],
   "source": [
    "Q2. Why is request used in Flask?\n",
    "To access the incoming data in Flask, you have to use the request object.\n",
    "The request object holds all incoming data from the request, which includes the mimetype,\n",
    "referrer, IP address, raw data, HTTP method, and headers, among other things.\n"
   ]
  },
  {
   "cell_type": "code",
   "execution_count": null,
   "id": "ae200f82-ba3d-47c9-bcaf-bfcb55f1bfb4",
   "metadata": {},
   "outputs": [],
   "source": [
    "Q3. Why is redirect() used in Flask?\n",
    "Flask redirect is defined as a function or utility in Flask which allows developers to \n",
    "redirect users to a specified URL and assign a specified status code. \n",
    "When this function is called, a response object is returned, and the redirection happens to\n",
    "the target location with the status code.\n"
   ]
  },
  {
   "cell_type": "code",
   "execution_count": null,
   "id": "fa27a3d0-255a-410d-a084-933fa2196ee1",
   "metadata": {},
   "outputs": [],
   "source": [
    "Q4. What are templates in Flask? Why is the render_template() function used?\n",
    "Templates are files that contain static data as well as placeholders for dynamic data.\n",
    "A template is rendered with specific data to produce a final document.\n",
    "Flask uses the Jinja template library to render templates. In your application, you will use\n",
    "templates to render HTML which will display in the user's browser.\n",
    "render_template is used to generate output from a template file based on the Jinja2 engine that \n",
    "is found in the application's templates folder. Note that render_template is typically imported \n",
    "directly from the flask package instead of from flask. templating .\n"
   ]
  },
  {
   "cell_type": "code",
   "execution_count": null,
   "id": "851466b3-8d9c-4a6b-807b-f564fa2bea02",
   "metadata": {},
   "outputs": [],
   "source": [
    "Q5. Create a simple API. Use Postman to test it. Attach the screenshot of the output in the Jupyter \n",
    "Notebook.\n",
    "1.\tDetermine Your Requirements. First, you'll need to determine your API requirements. ...\n",
    "2.\tDesign Your API. Next, you'll need to consider API design. ...\n",
    "3.\tDevelop Your API. Now, it's time to start developing your API product. ...\n",
    "4.\tTest Your API. ...\n",
    "5.\tPublish/Deploy Your API. ...\n",
    "6.\tMonitor Your API.\n",
    "\n",
    "from flask import  Flask , request, jsonify\n",
    "\n",
    "app = Flask(__name__)\n",
    "\n",
    "@app.route('/abc',methods=['GET' , 'POST'])\n",
    "def test1():\n",
    "    if(request.method=='POST'):\n",
    "        a = request.json['num1']\n",
    "        b = request.json['num2']\n",
    "        result = a + b\n",
    "        return jsonify((int(result)))\n",
    "\n",
    "\n",
    "@app.route('/abc1/sudh',methods=['GET' , 'POST'])\n",
    "def test2():\n",
    "    if (request.method == 'POST'):\n",
    "        a = request.json['num1']\n",
    "        b = request.json['num2']\n",
    "        result = a * b\n",
    "        return jsonify((int(result)))\n",
    "\n",
    "\n",
    "# @app.route('/abc1/sudh/test',methods=['GET' , 'POST'])\n",
    "# def test3():\n",
    "#     if (request.method == 'POST'):\n",
    "#         a = request.json['num1']\n",
    "#         b = request.json['num2']\n",
    "#         result = a ** b\n",
    "#         return jsonify((int(result)))\n",
    "\n",
    "# @app.route('/abc1/sudh/test4', methods=['GET', 'POST'])\n",
    "# def test4():\n",
    "#         if (request.method == 'POST'):\n",
    "#             a = request.json['num1']\n",
    "#             b = request.json['num2']\n",
    "#             result = a - b\n",
    "#             return jsonify((int(result)))\n",
    "\n",
    "\n",
    "# @app.route('/abc1/sudh/test5',methods=['GET' , 'POST'])\n",
    "# def test5():\n",
    "#     if (request.method == 'POST'):\n",
    "#         a = request.json['num1']\n",
    "#         b = request.json['num2']\n",
    "#         result = a / b\n",
    "#         return jsonify((float(result)))\n",
    "\n",
    "\n",
    "\n",
    "if __name__=='__main__' :\t\n",
    "    app.run()\n",
    "\n"
   ]
  },
  {
   "cell_type": "code",
   "execution_count": null,
   "id": "dd28dd63-1643-492e-be6a-d7da4d59c872",
   "metadata": {},
   "outputs": [],
   "source": []
  }
 ],
 "metadata": {
  "kernelspec": {
   "display_name": "Python 3 (ipykernel)",
   "language": "python",
   "name": "python3"
  },
  "language_info": {
   "codemirror_mode": {
    "name": "ipython",
    "version": 3
   },
   "file_extension": ".py",
   "mimetype": "text/x-python",
   "name": "python",
   "nbconvert_exporter": "python",
   "pygments_lexer": "ipython3",
   "version": "3.10.8"
  }
 },
 "nbformat": 4,
 "nbformat_minor": 5
}

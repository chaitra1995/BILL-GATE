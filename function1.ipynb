{
 "cells": [
  {
   "cell_type": "code",
   "execution_count": null,
   "id": "46e5295a-8551-4236-a1e4-675614fd6f1d",
   "metadata": {},
   "outputs": [],
   "source": [
    "1.\twhich keyword is used to create a function ?create a function to return the list of odd numbers in the  range of 1 to 25"
   ]
  },
  {
   "cell_type": "code",
   "execution_count": null,
   "id": "56f2442d-5073-4a1d-bb95-ec1d19714576",
   "metadata": {},
   "outputs": [],
   "source": [
    "Def is the keyword to used to create function .\n",
    "def  my_function():\n",
    "Print(“hello from the function”)\n",
    " my_function()\n"
   ]
  },
  {
   "cell_type": "code",
   "execution_count": 15,
   "id": "a94d3027-88c3-4557-9fe2-58f38e48d074",
   "metadata": {},
   "outputs": [
    {
     "name": "stdout",
     "output_type": "stream",
     "text": [
      "[1, 3, 5, 7, 9, 11, 13, 15, 17, 19, 21, 23, 25]\n"
     ]
    }
   ],
   "source": [
    "def odd_number(n):\n",
    "    return [x for x in range(n+1)if x%2==1]\n",
    "print(odd_number(25))"
   ]
  },
  {
   "cell_type": "code",
   "execution_count": null,
   "id": "2678d94a-4323-4ebf-a39c-80af764df893",
   "metadata": {},
   "outputs": [],
   "source": [
    "2.\twhy *args  and **kwargs  is used  in some  functions? Create  a function  each  for *args and**kwargs  to demonstrate their use"
   ]
  },
  {
   "cell_type": "code",
   "execution_count": null,
   "id": "f3735e6c-13c7-4b66-95dc-23c547ff008c",
   "metadata": {},
   "outputs": [],
   "source": [
    "We define the function to make a reusable code that  performs similar operations. To perform that operation ,we call  a function  with specific value ,this value is called function argument"
   ]
  },
  {
   "cell_type": "code",
   "execution_count": null,
   "id": "86b0d7e5-011c-4a6b-bd4e-7d7c8fe3112b",
   "metadata": {},
   "outputs": [],
   "source": [
    "*args (non keyworded argument)  : we are not sure about the number of arguments that can be passed  to a function .python has  *args which allows  us to pass the variable number of non keyword arguments to function.we should use  (asterisk*) before the parameter name to pass the variable length  argument. The argument passed as the tuple  and these passed arguments make tuple  inside the function  with the same name as the parameter."
   ]
  },
  {
   "cell_type": "code",
   "execution_count": 16,
   "id": "5630323d-3e90-419a-8835-6d2ceda43f9b",
   "metadata": {},
   "outputs": [
    {
     "name": "stdout",
     "output_type": "stream",
     "text": [
      "sum: 15\n",
      "sum: 9\n",
      "sum: 19\n"
     ]
    }
   ],
   "source": [
    "def sum_number(*num):\n",
    "    sum=0\n",
    "    for n in num:\n",
    "        sum=sum+n\n",
    "    print(\"sum:\",sum)\n",
    "sum_number(10,2,3)\n",
    "sum_number(2,3,4)\n",
    "sum_number(4,7,8)\n"
   ]
  },
  {
   "cell_type": "code",
   "execution_count": null,
   "id": "7f998eaa-39b4-4fa5-8a56-0380528ab4e8",
   "metadata": {},
   "outputs": [],
   "source": [
    "**kwargs(keyword argument):it allows us to pass the variable length of keyword arguments to the function.in the function we use the double (asterisk**)before  the parameter  name is denoted this type of argument .the arguments are passed as a  dictionary  and these arguments make a dictionary  inside the function with name same as the parameter excluding  double  **asterisk "
   ]
  },
  {
   "cell_type": "code",
   "execution_count": 17,
   "id": "a209fa12-6928-48c3-8c98-125a45881a3a",
   "metadata": {},
   "outputs": [
    {
     "name": "stdout",
     "output_type": "stream",
     "text": [
      "\n",
      " data type of argument: <class 'dict'>\n",
      "Firstname is Sita\n",
      "Lastname is Sharma\n",
      "Age is 22\n",
      "Phone is 1234567890\n",
      "\n",
      " data type of argument: <class 'dict'>\n",
      "Firstname is John\n",
      "Lastname is Wood\n",
      "Email is johnwood@nomail.com\n",
      "Country is Wakanda\n",
      "Age is 25\n",
      "Phone is 9876543210\n",
      "\n",
      " data type of argument: <class 'dict'>\n",
      "Firstname is chaitra\n",
      "Lastname is east\n",
      "Email is chaitra@gmail.com\n",
      "country is india\n",
      "phone is 367367337\n"
     ]
    }
   ],
   "source": [
    "def intro(**data):\n",
    "    print(\"\\n data type of argument:\",(type(data)))\n",
    "    for key, value in data.items():\n",
    "        print(\"{} is {}\".format(key,value))\n",
    "        \n",
    "\n",
    "intro(Firstname=\"Sita\", Lastname=\"Sharma\", Age=22, Phone=1234567890)\n",
    "intro(Firstname=\"John\", Lastname=\"Wood\", Email=\"johnwood@nomail.com\", Country=\"Wakanda\", Age=25, Phone=9876543210)\n",
    "intro(Firstname=\"chaitra\",Lastname=\"east\",Email=\"chaitra@gmail.com\",country=\"india\",phone=367367337)\n"
   ]
  },
  {
   "cell_type": "code",
   "execution_count": null,
   "id": "e6c16649-7745-417f-bf54-7cb040e3e2fd",
   "metadata": {},
   "outputs": [],
   "source": [
    "3.what is an iterator in python ?Name the method  used to initialize the iterator object  and the method used for iteration .use these  methods to  print  the first five elements of the given  list [2,4,6,8,10, 12,14,16,18,20]"
   ]
  },
  {
   "cell_type": "code",
   "execution_count": null,
   "id": "004c619e-1f76-4a09-b023-b3c328001b3f",
   "metadata": {},
   "outputs": [],
   "source": [
    "An iterator is an object  that contains a countable  number of values .An iterator is an object that can be iterated upon ,meaning that you can traverse through all the values. Technically, in python  an iterator is an object  which implements the iterator  protocol ,which consists of  the methods _iter_() and _next_() "
   ]
  },
  {
   "cell_type": "code",
   "execution_count": 18,
   "id": "3b40bd61-6822-44ad-b0de-76b3da56d8f9",
   "metadata": {},
   "outputs": [
    {
     "name": "stdout",
     "output_type": "stream",
     "text": [
      "[2, 4, 6, 8, 10]\n"
     ]
    }
   ],
   "source": [
    "l =[ 2,4,6,8,10,12,14,16,18,20]\n",
    "iterator=iter(l)\n",
    "print(l[:5])\n"
   ]
  },
  {
   "cell_type": "code",
   "execution_count": null,
   "id": "1407c4d8-b9d6-491f-902e-32eb0ebd66e5",
   "metadata": {},
   "outputs": [],
   "source": [
    "\n",
    "4.what is generator function in python? why yield keyword is used? give an example of generator function?\n"
   ]
  },
  {
   "cell_type": "code",
   "execution_count": null,
   "id": "e268648a-a9ef-4a02-a922-2fe1cda7fc20",
   "metadata": {},
   "outputs": [],
   "source": [
    "Generator is function  that returns an iterator that produces a sequence of  values  when iterated over.it is used to produce  large sequence of value ,but  we don’t want to store all of them in memory at a once.\n",
    "Yield keyword is used  instead of return statement. used to produce a value  from the generator  \n"
   ]
  },
  {
   "cell_type": "code",
   "execution_count": 19,
   "id": "87391e95-edb4-48f9-92bc-feb91a3af93c",
   "metadata": {},
   "outputs": [
    {
     "name": "stdout",
     "output_type": "stream",
     "text": [
      "0\n",
      "1\n",
      "2\n",
      "3\n",
      "4\n"
     ]
    }
   ],
   "source": [
    "def my_generator(n):\n",
    "    value=0\n",
    "    while value<n:\n",
    "        yield value\n",
    "        value+=1\n",
    "for value in my_generator(5):\n",
    "    print(value)\n"
   ]
  },
  {
   "cell_type": "code",
   "execution_count": null,
   "id": "22946c60-1e68-481f-aefa-e4c84c14f8a8",
   "metadata": {},
   "outputs": [],
   "source": [
    "5. create a generator function for prime number less than 1000.use next() method to print the first 20 prime numbers"
   ]
  },
  {
   "cell_type": "code",
   "execution_count": 20,
   "id": "3882033b-a680-4b6d-afd8-a93cdee282ff",
   "metadata": {},
   "outputs": [
    {
     "ename": "NameError",
     "evalue": "name 'isPrime' is not defined",
     "output_type": "error",
     "traceback": [
      "\u001b[0;31m---------------------------------------------------------------------------\u001b[0m",
      "\u001b[0;31mNameError\u001b[0m                                 Traceback (most recent call last)",
      "Cell \u001b[0;32mIn[20], line 5\u001b[0m\n\u001b[1;32m      3\u001b[0m         \u001b[38;5;28;01mif\u001b[39;00m isPrime(x):\n\u001b[1;32m      4\u001b[0m             \u001b[38;5;28mprint\u001b[39m(x, end\u001b[38;5;241m=\u001b[39m\u001b[38;5;124m\"\u001b[39m\u001b[38;5;124m \u001b[39m\u001b[38;5;124m\"\u001b[39m)\n\u001b[0;32m----> 5\u001b[0m \u001b[43mprintPrimes\u001b[49m\u001b[43m(\u001b[49m\u001b[38;5;241;43m1000\u001b[39;49m\u001b[43m)\u001b[49m\n",
      "Cell \u001b[0;32mIn[20], line 3\u001b[0m, in \u001b[0;36mprintPrimes\u001b[0;34m(M)\u001b[0m\n\u001b[1;32m      1\u001b[0m \u001b[38;5;28;01mdef\u001b[39;00m \u001b[38;5;21mprintPrimes\u001b[39m(M):\n\u001b[1;32m      2\u001b[0m     \u001b[38;5;28;01mfor\u001b[39;00m x \u001b[38;5;129;01min\u001b[39;00m \u001b[38;5;28mrange\u001b[39m(\u001b[38;5;241m2\u001b[39m,M):\n\u001b[0;32m----> 3\u001b[0m         \u001b[38;5;28;01mif\u001b[39;00m \u001b[43misPrime\u001b[49m(x):\n\u001b[1;32m      4\u001b[0m             \u001b[38;5;28mprint\u001b[39m(x, end\u001b[38;5;241m=\u001b[39m\u001b[38;5;124m\"\u001b[39m\u001b[38;5;124m \u001b[39m\u001b[38;5;124m\"\u001b[39m)\n",
      "\u001b[0;31mNameError\u001b[0m: name 'isPrime' is not defined"
     ]
    }
   ],
   "source": [
    "def printPrimes(M):\n",
    "    for x in range(2,M):\n",
    "        if isPrime(x):\n",
    "            print(x, end=\" \")\n",
    "printPrimes(1000)\n"
   ]
  },
  {
   "cell_type": "code",
   "execution_count": null,
   "id": "3c8bd793-6583-4b8d-bda7-031a394c4fd9",
   "metadata": {},
   "outputs": [],
   "source": [
    " def printprime(M):\n",
    "    iterator=iter(2,M)\n",
    "    if isPrime(x):\n",
    "        print(next(iterator))\n",
    "        printprimes(10)\n"
   ]
  },
  {
   "cell_type": "code",
   "execution_count": null,
   "id": "ccc3f4bf-8820-4ff7-b7d0-abd289061e9e",
   "metadata": {},
   "outputs": [],
   "source": [
    "please sir kindly help me out for question 5"
   ]
  },
  {
   "cell_type": "code",
   "execution_count": null,
   "id": "a183fd20-b26a-43b3-8bf6-191483cf06fd",
   "metadata": {},
   "outputs": [],
   "source": [
    "create a generator function for prime number less than 1000.use next() method to print the first 20 prime numbers"
   ]
  }
 ],
 "metadata": {
  "kernelspec": {
   "display_name": "Python 3 (ipykernel)",
   "language": "python",
   "name": "python3"
  },
  "language_info": {
   "codemirror_mode": {
    "name": "ipython",
    "version": 3
   },
   "file_extension": ".py",
   "mimetype": "text/x-python",
   "name": "python",
   "nbconvert_exporter": "python",
   "pygments_lexer": "ipython3",
   "version": "3.10.8"
  }
 },
 "nbformat": 4,
 "nbformat_minor": 5
}

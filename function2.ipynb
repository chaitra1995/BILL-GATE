{
 "cells": [
  {
   "cell_type": "code",
   "execution_count": null,
   "id": "9f0695e1-e1d2-46af-9696-5d6ebd989e83",
   "metadata": {},
   "outputs": [],
   "source": [
    "1.create a python  program  to sort the given list of tuples  based on integer value using  a lambda function. \n",
    "[('Sachin Tendulkar', 34357), ('Ricky Ponting', 27483), ('Jack Kallis', 25534), ('Virat Kohli', 24936)]"
   ]
  },
  {
   "cell_type": "code",
   "execution_count": 1,
   "id": "6ebe81f0-1750-42bb-9752-b638c5890030",
   "metadata": {},
   "outputs": [
    {
     "name": "stdout",
     "output_type": "stream",
     "text": [
      "[('Sachin Tendulkar', 34357), ('Ricky Ponting', 27483), ('Jack Kallis', 25534), ('Virat Kohli', 24936)]\n",
      "[('Virat Kohli', 24936), ('Jack Kallis', 25534), ('Ricky Ponting', 27483), ('Sachin Tendulkar', 34357)]\n"
     ]
    }
   ],
   "source": [
    "cricket=[('Sachin Tendulkar', 34357), ('Ricky Ponting', 27483), ('Jack Kallis', 25534), ('Virat Kohli', 24936)]\n",
    "print(cricket)\n",
    "Selectcricket = sorted(cricket, key = lambda x : x[1])\n",
    "print(Selectcricket)\n"
   ]
  },
  {
   "cell_type": "code",
   "execution_count": null,
   "id": "5ace5595-a5db-4cc9-83d7-3f1c7bfe2c92",
   "metadata": {},
   "outputs": [],
   "source": [
    "2. Write a Python Program to find the squares of all the numbers in the given list of integers using \n",
    "lambda and map functions.\n",
    "[1, 2, 3, 4, 5, 6, 7, 8, 9, 10]"
   ]
  },
  {
   "cell_type": "code",
   "execution_count": 2,
   "id": "3053a728-167e-48e8-96b8-7426dfee56e6",
   "metadata": {},
   "outputs": [
    {
     "name": "stdout",
     "output_type": "stream",
     "text": [
      "<map object at 0x7f279744ab90>\n",
      "{2, 4, 6, 8, 10, 12, 14, 16, 18, 20}\n"
     ]
    }
   ],
   "source": [
    "num=[1, 2, 3, 4, 5, 6, 7, 8, 9, 10]\n",
    "result=map(lambda x:x*2,num)\n",
    "print(result)\n",
    "print(set(result))\n"
   ]
  },
  {
   "cell_type": "code",
   "execution_count": null,
   "id": "3ed05581-65ae-429a-a036-848a2ed7cd99",
   "metadata": {},
   "outputs": [],
   "source": [
    "3. Write a python program to convert the given list of integers into a tuple of strings. Use map and lambda functions\n",
    "Given String: [1, 2, 3, 4, 5, 6, 7, 8, 9, 10]\n",
    "\n",
    "Expected output: ('1', '2', '3', '4', '5', '6', '7', '8', '9', '10')\n"
   ]
  },
  {
   "cell_type": "code",
   "execution_count": 3,
   "id": "d6c71118-2891-4bee-898c-0c31b987a796",
   "metadata": {},
   "outputs": [
    {
     "name": "stdout",
     "output_type": "stream",
     "text": [
      "('1', '2', '3', '4', '5', '6', '7', '8', '9', '10')\n"
     ]
    }
   ],
   "source": [
    "nums_list = [1,2,3,4,5,6,7,8,9,10]\n",
    "result_list = tuple(map(str,nums_list))\n",
    "\n",
    "print(tuple(result_list))\n"
   ]
  },
  {
   "cell_type": "code",
   "execution_count": null,
   "id": "2a798c8c-db4b-4b89-9787-04a84aebdb8c",
   "metadata": {},
   "outputs": [],
   "source": [
    "4.  Write a python program using reduce function to compute the product of a list containing numbers \n",
    "from 1 to 25.\n"
   ]
  },
  {
   "cell_type": "code",
   "execution_count": 4,
   "id": "5f9a827f-9a93-41cc-947a-e64b8f08d599",
   "metadata": {},
   "outputs": [
    {
     "name": "stdout",
     "output_type": "stream",
     "text": [
      "15511210043330985984000000\n"
     ]
    }
   ],
   "source": [
    "from functools import reduce\n",
    "mylist=[1,2,3,4,5,6,7,8,9,10,11,12,13,14,15,16,17,18,19,20,21,22,23,24,25]\n",
    "res=reduce((lambda x,y:x*y),mylist)\n",
    "print(res)\n"
   ]
  },
  {
   "cell_type": "code",
   "execution_count": null,
   "id": "0a6f8917-7a87-47e5-a4b0-4f12256fc2e0",
   "metadata": {},
   "outputs": [],
   "source": [
    "Q5. Write a python program to filter the numbers in a given list that are divisible by 2 and 3 using the \n",
    "filter function.\n",
    "[2, 3, 6, 9, 27, 60, 90, 120, 55, 46]\n"
   ]
  },
  {
   "cell_type": "code",
   "execution_count": 6,
   "id": "132ee1c6-bf50-4578-a08d-50c524ac4fdc",
   "metadata": {},
   "outputs": [
    {
     "name": "stdout",
     "output_type": "stream",
     "text": [
      "[2, 6, 60, 90, 120, 46]\n",
      "[3, 6, 9, 27, 60, 90, 120]\n"
     ]
    }
   ],
   "source": [
    "numbers=[2, 3, 6, 9, 27, 60, 90, 120, 55, 46]\n",
    "divisible_iterator=list(filter(lambda x:(x%2==0),numbers))\n",
    "division_iterator=list(filter(lambda x:(x%3==0),numbers))\n",
    "print(divisible_iterator)\n",
    "print(division_iterator)\n"
   ]
  },
  {
   "cell_type": "code",
   "execution_count": null,
   "id": "10cd83d0-4322-4472-8bf9-c23301df3ea9",
   "metadata": {},
   "outputs": [],
   "source": [
    "\n",
    "Q6. Write a python program to find palindromes in the given list of strings using lambda and filter \n",
    "function.\n",
    "['python', 'php', 'aba', 'radar', 'level']\n"
   ]
  },
  {
   "cell_type": "code",
   "execution_count": 7,
   "id": "968d9ede-0a3f-43ff-89b2-2fa96305d49e",
   "metadata": {},
   "outputs": [
    {
     "name": "stdout",
     "output_type": "stream",
     "text": [
      "original list of string:\n",
      "['python', 'php', 'aba', 'radar', 'level']\n",
      "\n",
      " list of palindrome:\n",
      "['php', 'aba', 'radar', 'level']\n"
     ]
    }
   ],
   "source": [
    "txt=[\"python\", \"php\", \"aba\", \"radar\", \"level\"]\n",
    "print(\"original list of string:\")\n",
    "print(txt)\n",
    "result=list(filter(lambda x:(x==\"\".join(reversed(x))),txt))\n",
    "print(\"\\n list of palindrome:\")\n",
    "print(result)\n"
   ]
  },
  {
   "cell_type": "code",
   "execution_count": null,
   "id": "633ca966-fac2-48a4-acf5-45132ac6fcbc",
   "metadata": {},
   "outputs": [],
   "source": []
  }
 ],
 "metadata": {
  "kernelspec": {
   "display_name": "Python 3 (ipykernel)",
   "language": "python",
   "name": "python3"
  },
  "language_info": {
   "codemirror_mode": {
    "name": "ipython",
    "version": 3
   },
   "file_extension": ".py",
   "mimetype": "text/x-python",
   "name": "python",
   "nbconvert_exporter": "python",
   "pygments_lexer": "ipython3",
   "version": "3.10.8"
  }
 },
 "nbformat": 4,
 "nbformat_minor": 5
}

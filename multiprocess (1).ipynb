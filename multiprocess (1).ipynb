{
 "cells": [
  {
   "cell_type": "code",
   "execution_count": null,
   "id": "364c94a7-1bb1-4913-987f-605a466af085",
   "metadata": {},
   "outputs": [],
   "source": [
    "\n",
    "Q1. What is multiprocessing in python? Why is it useful?\n",
    "Multiprocessing is a  package that spawning  processes  using  an API  similar  to the  threading  module.\n",
    "The  multiprocessing  package offers both local  and remote  concurrency, effectively side-stepping  the global\n",
    "interpreter  lock by  using  subprocesses  instead of threads.Multiprocessing in Python is a built-in package that \n",
    "allows the system to run multiple processes simultaneously. It will enable the breaking of applications into smaller \n",
    "threads that can run independently.\n",
    "\n"
   ]
  },
  {
   "cell_type": "code",
   "execution_count": null,
   "id": "47c36a8b-028e-42af-9e83-68d218eaeefc",
   "metadata": {},
   "outputs": [],
   "source": [
    "Q2. What are the differences between multiprocessing and multithreading?\n",
    "Multiprocessing\t                                                          Multithreading\n",
    "1. In multiprocessing cpu are added  for increasing\n",
    "computing  powers                                                1. while in multithreading ,many threads are created \n",
    "                                                                    of a single  process for increasing  computing power.\n",
    "2. In multiprocessing ,many  processes are executed\n",
    "simultaneously .\t                                             2. while multithreading , many threads of a process \n",
    "                                                                    are executed simultaneously .\n",
    "3.multiprocessing is classified into symmetric \n",
    "and asymmetric\t                                                 3.while  multithreading  is not classified in\n",
    "                                                                    any categories.\n",
    "4.In multiprocessing , process creation  is a \n",
    "time-consuming process.                                          4.while in multithreading , process creation\n",
    "                                                                    is according  to economical.\n",
    "5.in multiprocessing , every  process owned  a separate \n",
    "address space.                                                   5.while multithreading , a common  addresss space \n",
    "                                                                   is shared by all  the threads.\n",
    "\n",
    "\n"
   ]
  },
  {
   "cell_type": "code",
   "execution_count": null,
   "id": "cbf8be20-560c-4750-a1fa-b24aed752c76",
   "metadata": {},
   "outputs": [],
   "source": [
    "Q3. Write a python code to create a process using the multiprocessing module.\n",
    "# importing the multiprocessing module"
   ]
  },
  {
   "cell_type": "code",
   "execution_count": 1,
   "id": "f7dc0235-acd1-43be-ab1d-53acccf44d59",
   "metadata": {},
   "outputs": [
    {
     "name": "stdout",
     "output_type": "stream",
     "text": [
      "ID of main process: 352\n",
      "ID of process running worker1: 586\n",
      "ID of process running worker2: 589\n",
      "ID of process p1: 586\n",
      "ID of process p2: 589\n",
      "Both processes finished execution!\n",
      "Process p1 is alive: False\n",
      "Process p2 is alive: False\n"
     ]
    }
   ],
   "source": [
    "import multiprocessing\n",
    "import os\n",
    "  \n",
    "def worker1():\n",
    "    # printing process id\n",
    "    print(\"ID of process running worker1: {}\".format(os.getpid()))\n",
    "def worker2():\n",
    "    # printing process id\n",
    "    print(\"ID of process running worker2: {}\".format(os.getpid()))\n",
    "if __name__ == \"__main__\":\n",
    "    # printing main program process id\n",
    "    print(\"ID of main process: {}\".format(os.getpid()))\n",
    "  \n",
    "    # creating processes\n",
    "    p1 = multiprocessing.Process(target=worker1)\n",
    "    p2 = multiprocessing.Process(target=worker2)\n",
    "  \n",
    "    # starting processes\n",
    "    p1.start()\n",
    "    p2.start()\n",
    "  \n",
    "    # process IDs\n",
    "    print(\"ID of process p1: {}\".format(p1.pid))\n",
    "    print(\"ID of process p2: {}\".format(p2.pid))\n",
    "  \n",
    "    # wait until processes are finished\n",
    "    p1.join()\n",
    "    p2.join()\n",
    "  \n",
    "    # both processes finished\n",
    "    print(\"Both processes finished execution!\")\n",
    "  \n",
    "    # check if processes are alive\n",
    "    print(\"Process p1 is alive: {}\".format(p1.is_alive()))\n",
    "    print(\"Process p2 is alive: {}\".format(p2.is_alive()))\n",
    "\n"
   ]
  },
  {
   "cell_type": "code",
   "execution_count": null,
   "id": "fb5ab2c4-e7e5-4acb-bb46-b053982b3a8f",
   "metadata": {},
   "outputs": [],
   "source": [
    "Q4. What is a multiprocessing pool in python? Why is it used?\n",
    "Python  multiprocessing pool can be used  for parallel  execution  of function  across  multiple input values, \n",
    "distributing  the  input data  across  process(data parallelism).\n",
    "The Pool class in multiprocessing can handle an enormous number of processes. It allows you to run \n",
    "multiple jobs per process (due to its ability to queue the jobs). The memory is allocated only to the executing\n",
    "processes, unlike the Process class, which allocates memory to all the processes. \n"
   ]
  },
  {
   "cell_type": "code",
   "execution_count": null,
   "id": "15019aa8-71cd-4618-8fce-4d0f89b12c7b",
   "metadata": {},
   "outputs": [],
   "source": [
    "Q5. How can we create a pool of worker processes in python using the multiprocessing module?"
   ]
  },
  {
   "cell_type": "code",
   "execution_count": 2,
   "id": "cf3aad45-d540-4ef1-a078-f11b23fb9626",
   "metadata": {},
   "outputs": [
    {
     "name": "stdout",
     "output_type": "stream",
     "text": [
      " Process B waiting 2 seconds Process A waiting 5 seconds\n",
      "\n",
      " Process B Finished.\n",
      " Process C waiting 1 seconds\n",
      " Process C Finished.\n",
      " Process D waiting 3 seconds\n",
      " Process A Finished.\n",
      " Process D Finished.\n"
     ]
    }
   ],
   "source": [
    "from multiprocessing import Pool\n",
    "import time\n",
    "work = ([\"A\", 5], [\"B\", 2], [\"C\", 1], [\"D\", 3])\n",
    "def work_log(work_data):\n",
    "    print(\" Process %s waiting %s seconds\" % (work_data[0], work_data[1]))\n",
    "    time.sleep(int(work_data[1]))\n",
    "    print(\" Process %s Finished.\" % work_data[0])\n",
    "def pool_handler():\n",
    "    p = Pool(2)\n",
    "    p.map(work_log, work)\n",
    "if __name__ == '__main__':\n",
    "    pool_handler()\n"
   ]
  },
  {
   "cell_type": "code",
   "execution_count": null,
   "id": "11e7895e-a520-4d1a-b350-59762cdfa3f7",
   "metadata": {},
   "outputs": [],
   "source": [
    "Q6. Write a python program to create 4 processes, each process should print a\n",
    "different number using the multiprocessing module in python.\n"
   ]
  },
  {
   "cell_type": "code",
   "execution_count": 3,
   "id": "be269d27-3a3f-4005-9697-9bc952430eec",
   "metadata": {},
   "outputs": [
    {
     "name": "stdout",
     "output_type": "stream",
     "text": [
      "New record added!\n",
      "\n",
      "Name: Sam\n",
      "Score: 10\n",
      "\n",
      "Name: Adam\n",
      "Score: 9\n",
      "\n",
      "Name: Kevin\n",
      "Score: 9\n",
      "\n",
      "Name: Jeff\n",
      "Score: 8\n",
      "\n"
     ]
    }
   ],
   "source": [
    "(i am not sure regarding this answer)please me if i m wrong.\n",
    "import multiprocessing\n",
    "  \n",
    "def print_records(records):\n",
    "    \"\"\"\n",
    "    function to print record(tuples) in records(list)\n",
    "    \"\"\"\n",
    "    for record in records:\n",
    "        print(\"Name: {0}\\nScore: {1}\\n\".format(record[0], record[1]))\n",
    "def insert_record(record, records):\n",
    "    \"\"\"\n",
    "    function to add a new record to records(list)\n",
    "    \"\"\"\n",
    "    records.append(record)\n",
    "    print(\"New record added!\\n\")\n",
    "if __name__ == '__main__':\n",
    "    with multiprocessing.Manager() as manager:\n",
    "        # creating a list in server process memory\n",
    "        records = manager.list([('Sam', 10), ('Adam', 9), ('Kevin',9)])\n",
    "        # new record to be inserted in records\n",
    "        new_record = ('Jeff', 8)\n",
    "  \n",
    "        # creating new processes\n",
    "        p1 = multiprocessing.Process(target=insert_record, args=(new_record, records))\n",
    "        p2 = multiprocessing.Process(target=print_records, args=(records,))\n",
    "  \n",
    "        # running process p1 to insert new record\n",
    "        p1.start()\n",
    "        p1.join()\n",
    "  \n",
    "        # running process p2 to print records\n",
    "        p2.start()\n",
    "        p2.join()\n"
   ]
  },
  {
   "cell_type": "code",
   "execution_count": null,
   "id": "a8cff6a4-7e15-446b-9dc8-a99f160f32c7",
   "metadata": {},
   "outputs": [],
   "source": []
  }
 ],
 "metadata": {
  "kernelspec": {
   "display_name": "Python 3 (ipykernel)",
   "language": "python",
   "name": "python3"
  },
  "language_info": {
   "codemirror_mode": {
    "name": "ipython",
    "version": 3
   },
   "file_extension": ".py",
   "mimetype": "text/x-python",
   "name": "python",
   "nbconvert_exporter": "python",
   "pygments_lexer": "ipython3",
   "version": "3.10.8"
  }
 },
 "nbformat": 4,
 "nbformat_minor": 5
}

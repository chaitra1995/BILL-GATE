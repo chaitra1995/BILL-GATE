{
 "cells": [
  {
   "cell_type": "code",
   "execution_count": null,
   "id": "a4ebe41e-4876-447a-b3eb-7d3b72a23491",
   "metadata": {},
   "outputs": [],
   "source": [
    "1.what is multithreading in python?why is it used? Name the module used to handle threads in python.\n",
    "Multithreading is defined as the ability of the processor to execute multiple threads concurrently. \n",
    "In simple ,single-core  CPU, it is achieved using  frequent  switching  between  threads. \n",
    "This is termed as context switching. In context switching,the state of thread  is saved and state  of another\n",
    "thread is  loaded  whenever any  interrupt(due  to I/O or manually set) takes place. context switching  takes place.\n",
    "Context switching  takes places so frequently that all  the threads  appear to be running parallelly\n",
    "(this is  termed as multitasking).It is very useful technique for time saving and improving  the performance \n",
    "of an  application. Multithreading  allows the programmer to divide application  tasks into  subtasks  and\n",
    "simultaneously  run them in a program . it allows threads to communicate and share resources such  as  files, \n",
    "data , and  memory to  the  same processor. Furthermore, it  increases the user’s responsiveness   to continue \n",
    "running a program  even  if part  of the application  is the length  or blocked.\n",
    "The thread module in python are:\n",
    "1.\timport  the threading  module\n",
    "2.\tDeclaration of  the thread  parameters\n",
    "3.\tStart a new thread\n",
    "4.\tjoin  method\n",
    "5.\tsynchronizing threads in python \n"
   ]
  },
  {
   "cell_type": "code",
   "execution_count": null,
   "id": "08112e24-1d14-4b67-a0cc-ae6f85073729",
   "metadata": {},
   "outputs": [],
   "source": [
    "2.why threading module used? write the use of the following functions\n",
    "1.activeCount()\n",
    "2.currentThread()\n",
    "3. enumerate()\n"
   ]
  },
  {
   "cell_type": "code",
   "execution_count": null,
   "id": "4a07836d-c7c9-4e62-ab7c-a65adb0ac5ef",
   "metadata": {},
   "outputs": [],
   "source": [
    "Python threading module is used  for creating, controlling  and managing threads in python.\n",
    "1.activeCount() :Returns the number  of  thread  objects that  are active . threading\n",
    "2.currentThread():Returns the  number of thread objects in the caller’s  thread  control threading.\n",
    "3.enumerate():Enumerate  is a built-in function in python  that allows  you to track  of the number of \n",
    "iterations (loops) in a loop. This enumerate object contains  a count(from a start , which always defaults at 0) and \n",
    "value  obtained  from iterating  over  the iterable object.  \n"
   ]
  },
  {
   "cell_type": "code",
   "execution_count": null,
   "id": "df45c536-061b-4da8-bf43-bae34f65c0b9",
   "metadata": {},
   "outputs": [],
   "source": [
    "3. Explain the following functions\n",
    "1. run() : Thread.run()method  is an built-in methods of the thread  class  of the threading module,\n",
    "it is used  to represent a thread’s activity . it calls  the method expressed  as the target  argument  \n",
    "in the  thread  object  along  with the positional  and keyword  arguments taken  from args  and kwargs \n",
    "argument  respectively.this method  can also  be overridden  in the subclass.\n"
   ]
  },
  {
   "cell_type": "code",
   "execution_count": 1,
   "id": "1bdfcee7-6e9e-491a-92cc-9fbb092a40bd",
   "metadata": {},
   "outputs": [
    {
     "name": "stdout",
     "output_type": "stream",
     "text": [
      "Value by Thread 1: 1\n",
      "Value by Thread 2: 2\n",
      "Value by Thread 3: 3\n"
     ]
    }
   ],
   "source": [
    "import threading\n",
    "def thread_1(i):\n",
    "    print('Value by Thread 1:', i)\n",
    "def thread_2(i):\n",
    "    print('Value by Thread 2:', i)\n",
    "def thread_3(i):\n",
    "    print('Value by Thread 3:', i)    \n",
    "# Creating three sample threads \n",
    "thread1 = threading.Thread(target=thread_1, args=(1,))\n",
    "thread2 = threading.Thread(target=thread_2, args=(2,))\n",
    "thread3 = threading.Thread(target=thread_3, args=(3,))\n",
    "# Running three thread object\n",
    "thread1.run()\n",
    "thread2.run()\n",
    "thread3.run()\n"
   ]
  },
  {
   "cell_type": "code",
   "execution_count": null,
   "id": "1ba299cb-c5bc-4eed-bebd-d86ed0c795fc",
   "metadata": {},
   "outputs": [],
   "source": [
    "2.start():The thread .start() method  is an inbuilt  method of the thread class  of the threading  module,\n",
    "it is used  to start  a thread’s  activity . this  method calls  the  run()  method  internally which  then executes  \n",
    "the target  method.  This method must  be called  at most one time  for one thread. if  it  is called more than  once , \n",
    "it raise a runtimeError.\n"
   ]
  },
  {
   "cell_type": "code",
   "execution_count": 2,
   "id": "1d5cfacd-ab6f-4513-8ad7-30890dd6ca8b",
   "metadata": {},
   "outputs": [
    {
     "name": "stdout",
     "output_type": "stream",
     "text": [
      "value by thread 2:2\n",
      "value by thread 1:1\n"
     ]
    }
   ],
   "source": [
    "import time\n",
    "import threading \n",
    "def thread_1(i):\n",
    "    time.sleep(5)\n",
    "    print('value by thread 1:1')\n",
    "def thread_2(i):\n",
    "    print('value by thread 2:2')\n",
    "thread1 = threading.Thread(target=thread_1, args=(1,))\n",
    "thread2 = threading.Thread(target=thread_2, args=(2,))    \n",
    "thread1.start()\n",
    "thread2.start()"
   ]
  },
  {
   "cell_type": "code",
   "execution_count": null,
   "id": "5b838a80-9b0b-455d-b389-6cb90d94ffaa",
   "metadata": {},
   "outputs": [],
   "source": [
    "3.join():The Thread.join()method  is an inbuilt method  of the thread class  of the threading  module.\n",
    "Whenever  this method is called  for any thread object, it blocks the calling  thread  till the time the\n",
    "thread  whose join() method  is called  terminates, either normally  or though an unhandled exception.\n"
   ]
  },
  {
   "cell_type": "code",
   "execution_count": 5,
   "id": "c068ab68-66f5-447e-a913-37658a25c8a6",
   "metadata": {},
   "outputs": [
    {
     "name": "stdout",
     "output_type": "stream",
     "text": [
      "Value by Thread 1: 1\n",
      "Value by Thread 2: 2\n",
      "Value by Thread 3: 3\n",
      "\n",
      "Value by Thread 3: 3\n",
      "Value by Thread 1: 1\n",
      "Value by Thread 2: 2\n"
     ]
    }
   ],
   "source": [
    "import time\n",
    "import threading\n",
    "\n",
    "def thread_1(i):\n",
    "    time.sleep(2)\n",
    "    print('Value by Thread 1:', i)\n",
    "\n",
    "def thread_2(i):\n",
    "    time.sleep(5)\n",
    "    print('Value by Thread 2:', i)\n",
    "\n",
    "def thread_3(i):\n",
    "    print('Value by Thread 3:', i)    \n",
    "\n",
    "    \n",
    "# Creating three sample threads \n",
    "thread1 = threading.Thread(target=thread_1, args=(1,))\n",
    "thread2 = threading.Thread(target=thread_2, args=(2,))\n",
    "thread3 = threading.Thread(target=thread_3, args=(3,))\n",
    "\n",
    "# Running three thread object\n",
    "thread1.start()\n",
    "thread1.join()\n",
    "thread2.start()\n",
    "thread2.join()\n",
    "thread3.start()\n",
    "thread3.join()\n",
    "\n",
    "print()\n",
    "# Creating another 3 threads\n",
    "thread4 = threading.Thread(target=thread_1, args=(1,))\n",
    "thread5 = threading.Thread(target=thread_2, args=(2,))\n",
    "thread6 = threading.Thread(target=thread_3, args=(3,))\n",
    "\n",
    "thread4.start()\n",
    "thread5.start()\n",
    "thread6.start()\n",
    "thread4.join()\n",
    "thread5.join()\n",
    "thread6.join()\n"
   ]
  },
  {
   "cell_type": "code",
   "execution_count": null,
   "id": "0ad4d452-5558-4d5a-97a9-0f5081f92281",
   "metadata": {},
   "outputs": [],
   "source": [
    "4.isAlive():The Thread.is_alive() method is an inbuilt method of the Thread class of the threading module,\n",
    "it is used to check whether that thread is alive or not, ie, it is still running or not. This method returns\n",
    "True before the run() starts until just after the run() method is executed.\n"
   ]
  },
  {
   "cell_type": "code",
   "execution_count": 7,
   "id": "144ea16d-8ebc-442d-92c4-1800a86ed551",
   "metadata": {},
   "outputs": [
    {
     "name": "stdout",
     "output_type": "stream",
     "text": [
      "Is thread1 alive: False\n",
      "Is thread2 alive: False\n",
      "\n",
      "Value by Thread 2: 2\n",
      "Is thread1 alive: True\n",
      "Is thread2 alive: False\n",
      "Value by Thread 1: 1\n"
     ]
    }
   ],
   "source": [
    "import time\n",
    "import threading\n",
    "\n",
    "def thread_1(i):\n",
    "    time.sleep(5)\n",
    "    print('Value by Thread 1:', i)\n",
    "\n",
    "def thread_2(i):\n",
    "    print('Value by Thread 2:', i)\n",
    "    \n",
    "# Creating three sample threads \n",
    "thread1 = threading.Thread(target=thread_1, args=(1,))\n",
    "thread2 = threading.Thread(target=thread_2, args=(2,))\n",
    "\n",
    "# Before calling the start(), both threads are not alive\n",
    "print(\"Is thread1 alive:\", thread1.is_alive())\n",
    "print(\"Is thread2 alive:\", thread2.is_alive())\n",
    "print()\n",
    "\n",
    "thread1.start()\n",
    "thread2.start()\n",
    "# Since thread11 is on sleep for 5 seconds, it is alive\n",
    "# while thread 2 is executed instantly\n",
    "\n",
    "print(\"Is thread1 alive:\", thread1.is_alive())\n",
    "print(\"Is thread2 alive:\", thread2.is_alive())\n"
   ]
  },
  {
   "cell_type": "code",
   "execution_count": null,
   "id": "1e2b8502-f495-47b1-8dba-a6f2b6ab3976",
   "metadata": {},
   "outputs": [],
   "source": []
  },
  {
   "cell_type": "code",
   "execution_count": null,
   "id": "de34c621-8ee1-4ba4-af8a-3f0a5fbf359c",
   "metadata": {},
   "outputs": [],
   "source": [
    "4.write a python program to create two threads. Thread one must print the list of squares and\n",
    "thread two must print the list of cubes\n"
   ]
  },
  {
   "cell_type": "code",
   "execution_count": 6,
   "id": "836fd7e2-e7a6-4eb7-9bb1-368a0f882ed6",
   "metadata": {},
   "outputs": [
    {
     "name": "stdout",
     "output_type": "stream",
     "text": [
      "Square: 100\n",
      "Cube: 1000\n",
      "Done!\n"
     ]
    }
   ],
   "source": [
    "import threading\n",
    "def print_cube(num):\n",
    "    # function to print cube of given num\n",
    "    print(\"Cube: {}\" .format(num * num * num))\n",
    "def print_square(num):\n",
    "    # function to print square of given num\n",
    "    print(\"Square: {}\" .format(num * num))\n",
    "if __name__ ==\"__main__\":\n",
    "    # creating thread\n",
    "    t1 = threading.Thread(target=print_square, args=(10,))\n",
    "    t2 = threading.Thread(target=print_cube, args=(10,))\n",
    " \n",
    "    # starting thread 1\n",
    "    t1.start()\n",
    "    # starting thread 2\n",
    "    t2.start()\n",
    " \n",
    "    # wait until thread 1 is completely executed\n",
    "    t1.join()\n",
    "    # wait until thread 2 is completely executed\n",
    "    t2.join()\n",
    " \n",
    "    # both threads completely executed\n",
    "    print(\"Done!\")\n",
    "\n"
   ]
  },
  {
   "cell_type": "code",
   "execution_count": null,
   "id": "c77f99fb-8ca9-4ca1-bf6d-ab10ead7e1d4",
   "metadata": {},
   "outputs": [],
   "source": [
    "5.State advantages and disadvantages of multithreading\n",
    "Following are some of the common advantages of multithreading:\n",
    "•\tEnhanced performance by decreased development time.\n",
    "•\tSimplified and streamlined program coding.\n",
    "•\tImprovised GUI responsiveness.\n",
    "•\tSimultaneous and parallelized occurrence of tasks.\n",
    "•\tBetter use of cache storage by utilization of resources.\n",
    "•\tDecreased cost of maintenance.\n",
    "•\tThis model provides more concurrency than the many-to-one model. It also allows another thread to \n",
    "run when a thread makes a blocking system call. It supports multiple threads to execute in parallel on microprocessors.\n",
    "Disadvantage of this model is that creating user thread requires the corresponding Kernel thread.\n"
   ]
  },
  {
   "cell_type": "code",
   "execution_count": null,
   "id": "fd46ec27-e441-4768-88af-a5c18e951b51",
   "metadata": {},
   "outputs": [],
   "source": [
    "6.\tExplain deadlocks and race conditions.\n",
    "Race conditions:A race condition occurs when two threads  access  a shared variable at the same time.\n",
    "the first thread  reads the variable,second thread reads the same value from the variable\n",
    "Deadlock:A deadlock is a concurrency failure mode where a thread or threads wait for a condition that never occurs. \n",
    "The result is that the deadlock threads are unable to progress and the program is stuck or frozen and must be terminated \n",
    "forcefully.\n",
    "\n"
   ]
  }
 ],
 "metadata": {
  "kernelspec": {
   "display_name": "Python 3 (ipykernel)",
   "language": "python",
   "name": "python3"
  },
  "language_info": {
   "codemirror_mode": {
    "name": "ipython",
    "version": 3
   },
   "file_extension": ".py",
   "mimetype": "text/x-python",
   "name": "python",
   "nbconvert_exporter": "python",
   "pygments_lexer": "ipython3",
   "version": "3.10.8"
  }
 },
 "nbformat": 4,
 "nbformat_minor": 5
}

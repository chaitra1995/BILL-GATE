{
 "cells": [
  {
   "cell_type": "code",
   "execution_count": null,
   "id": "434b689d-fd7d-479e-b322-89198ecf5e02",
   "metadata": {},
   "outputs": [],
   "source": [
    "1.Consider the below code to answer further questions:\n",
    "import numpy as np\n",
    "list_ = [ ‘1’ , ’2’ , ‘3’ , ‘4’ , ‘5’ ]\n",
    "array_list = np.array(object = list_)\n",
    "Q1. Is there any difference in the data type of variables list_ and array_list? If there is then write a code\n",
    "to print the data types of both the variables.\n",
    "\n",
    "sample_list = [1, \"Yash\", ['a', 'e']]\n",
    "print(type(sample_list))\n",
    "print(sample_list)\n",
    "\n",
    "\n",
    "import array as arr\n",
    "  \n",
    "# creating an array with integer type\n",
    "a = arr.array('i', [1, 2, 3])\n",
    "print(type(a))\n",
    "for i in a:\n",
    "    print(i, end=\" \")\n"
   ]
  },
  {
   "cell_type": "code",
   "execution_count": null,
   "id": "c1442a8f-9bfd-4e79-b682-36ad32a79e2f",
   "metadata": {},
   "outputs": [],
   "source": [
    "Q2. Write a code to print the data type of each and every element of both the variables list_ and\n",
    "arra_list.\n",
    "\n",
    "\n",
    "import numpy as np\n",
    "list(range(5))\n",
    "\n",
    "\n",
    "import numpy\n",
    "my_array = numpy.array([0, 1, 2, 3, 4])\n",
    "print(my_array)\n"
   ]
  },
  {
   "cell_type": "code",
   "execution_count": null,
   "id": "4f16c21a-9c05-4634-9796-7c9abd69df04",
   "metadata": {},
   "outputs": [],
   "source": [
    "Q3. Considering the following changes in the variable, array_list:\n",
    "array_list = np.array(object = list_, dtype = int)\n",
    "Will there be any difference in the data type of the elements present in both the variables, list_ and\n",
    "arra_list? If so then print the data types of each and every element present in both the variables, list_\n",
    "and arra_list.\n",
    "Consider the below code to answer further questions:\n",
    "import numpy as np\n",
    "num_list = [ [ 1 , 2 , 3 ] , [ 4 , 5 , 6 ] ]\n",
    "num_array = np.array(object = num_list)\n"
   ]
  },
  {
   "cell_type": "code",
   "execution_count": null,
   "id": "90e45665-8cd7-40d8-9d9b-6b5be2c84615",
   "metadata": {},
   "outputs": [],
   "source": [
    "\n",
    "Q4. Write a code to find the following characteristics of variable, num_array:\n",
    "(i) shape\n",
    "(ii) size\n",
    "\n",
    "ii)size\n",
    " In Python, numpy. size() function count the number of elements along a given axis.\n",
    "# importing numpy\n",
    "import numpy as np\n",
    " \n",
    "# Making a random array\n",
    "arr = np.array([[1, 2, 3, 4], [5, 6, 7, 8]])\n",
    " \n",
    "# count the number of elements along the axis.\n",
    "# Here rows and columns are being treated\n",
    "# as elements\n",
    " \n",
    "#gives no. of rows along x-axis\n",
    "print(np.size(arr, 0))\n",
    " \n",
    "#gives no. of columns along y-axis\n",
    "print(np.size(arr, 1))\n",
    "\n",
    "i)shape\n",
    "The shape property is usually used to get the current shape of an array, but may also be used to \n",
    "reshape the array in-place by assigning a tuple of array dimensions to it.\n",
    "\n",
    "import numpy as np\n",
    "arr = np.array([1, 2, 3, 4], ndmin=5)\n",
    "print(arr)\n",
    "print('shape of array :', arr.shape)\n"
   ]
  },
  {
   "cell_type": "code",
   "execution_count": null,
   "id": "5bd889a4-acd8-47a0-bbf5-107c15cf27da",
   "metadata": {},
   "outputs": [],
   "source": [
    "Q5. Write a code to create numpy array of 3*3 matrix containing zeros only, using a numpy array\n",
    "creation function.\n",
    "[Hint: The size of the array will be 9 and the shape will be (3,3).]\n",
    "\n",
    "import numpy as np\n",
    "array_2D=np.identity(3)\n",
    "print('3x3 matrix:')\n",
    "print(array_2D)\n"
   ]
  },
  {
   "cell_type": "code",
   "execution_count": null,
   "id": "29cd5506-738e-4c5a-9310-0ae3357c1e36",
   "metadata": {},
   "outputs": [],
   "source": [
    "Q6. Create an identity matrix of shape (5,5) using numpy functions?\n",
    "[Hint: An identity matrix is a matrix containing 1 diagonally and other elements will be 0.]\n",
    "\n",
    "import numpy as np\n",
    "dimension = int(input(\"Enter the dimension of identitiy matrix: \"))\n",
    "identity_matrix = np.identity(dimension, dtype=\"int\")\n",
    "print(identity_matrix\n"
   ]
  }
 ],
 "metadata": {
  "kernelspec": {
   "display_name": "Python 3 (ipykernel)",
   "language": "python",
   "name": "python3"
  },
  "language_info": {
   "codemirror_mode": {
    "name": "ipython",
    "version": 3
   },
   "file_extension": ".py",
   "mimetype": "text/x-python",
   "name": "python",
   "nbconvert_exporter": "python",
   "pygments_lexer": "ipython3",
   "version": "3.10.8"
  }
 },
 "nbformat": 4,
 "nbformat_minor": 5
}

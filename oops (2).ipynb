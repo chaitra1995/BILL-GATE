{
 "cells": [
  {
   "cell_type": "code",
   "execution_count": null,
   "id": "9b8aa4c4-252a-4200-99d1-c061e20ea745",
   "metadata": {},
   "outputs": [],
   "source": [
    "Q1. Explain Class and Object with respect to Object-Oriented Programming. Give a suitable example.\n",
    "An object is the collection of data(variable)  and methods( function).similarly classis the blueprint of that object.\n"
   ]
  },
  {
   "cell_type": "code",
   "execution_count": null,
   "id": "e99bd403-f726-4633-9557-86acebe398ca",
   "metadata": {},
   "outputs": [],
   "source": [
    "Class\n",
    "A class is considered as a blueprint of the objects. we can think of the class as a sketch (prototype)  of a house.it contains  all the details  about the floors. doors etc.based on these description we build the house .house is the object.we can create my objects from the class .  class is the keyword to create the class in python. Attributes  are the variables that belongs to class.attributes are always public and can be accessed using (.)operator eg: myclass.myattribute.\n",
    "Example:class classname:\n",
    "Class bike:  bike is the class name\n",
    "name=” ”      name & gear are the variables inside the class with default values. \n",
    "   Gear=” ”\n",
    "Object\n",
    "An object is called the  instance of a class . An object  consists of  \n",
    "state:it is represented by the  attribute of the object.it reflect the properties of the object\n",
    "behavior: it is represented the method of the object .it also reflects  the respose of  an object to the other object.\n",
    "Identity: it gives a unique name of the object and enables one object to interact with other object.  \n",
    "For example Bike is a class we create the object  bike1,bike2\n",
    "Class bike:\n",
    "Name=””\n",
    "Gear=””\n",
    "bike1=bike()\n",
    "access class attribute  using objects.\n",
    "We use.notation to access the attributes of the class\n",
    "For example:bike1.name=”mountain bike”\n",
    "bike1.name=”mountain bike”\n",
    "access the  gear attribute\n",
    "bike1.gear\n",
    "example for class & object"
   ]
  },
  {
   "cell_type": "code",
   "execution_count": 1,
   "id": "1d93073c-ccdd-4245-aec1-d68cda3de545",
   "metadata": {},
   "outputs": [
    {
     "name": "stdout",
     "output_type": "stream",
     "text": [
      "Name: mountain bike, Gears: 11 \n"
     ]
    }
   ],
   "source": [
    "class Bike:\n",
    "    name=\" \"\n",
    "    gear=0\n",
    "bike1=Bike()\n",
    "bike1.gear=11\n",
    "bike1.name=\"mountain bike\"\n",
    "print(f\"Name: {bike1.name}, Gears: {bike1.gear} \")\n"
   ]
  },
  {
   "cell_type": "code",
   "execution_count": null,
   "id": "d398ab66-a6ed-4b9b-b6f6-42c2f646e250",
   "metadata": {},
   "outputs": [],
   "source": [
    "Q2. Name the four pillars of OOPs.\n",
    "The four pillars of oops are:\n"
   ]
  },
  {
   "cell_type": "code",
   "execution_count": null,
   "id": "da5bc3ca-ebe7-44f0-b80d-000c27c8f7fc",
   "metadata": {},
   "outputs": [],
   "source": [
    "1.Abstraction: Abstration is used  to hide the internal functionality  of the function from the user.the user only interacts with basic implementation of the function,but inner working is hidden .user is fimilar with that “what function does” but they don’t know “how it does”\n",
    "Ex.. from abc import ABC, abstractmethod  "
   ]
  },
  {
   "cell_type": "code",
   "execution_count": 2,
   "id": "5428ac0e-164d-4245-a149-c2500eee44ba",
   "metadata": {},
   "outputs": [
    {
     "name": "stdout",
     "output_type": "stream",
     "text": [
      "The mileage is 30kmph\n",
      "The mileage is 25kmph \n"
     ]
    }
   ],
   "source": [
    "class Car:   \n",
    "    def mileage(self):   \n",
    "        pass  \n",
    "class Tesla(Car):   \n",
    "    def mileage(self):   \n",
    "        print(\"The mileage is 30kmph\")   \n",
    "class Suzuki(Car):   \n",
    "    def mileage(self):   \n",
    "        print(\"The mileage is 25kmph \") \n",
    "t= Tesla ()   \n",
    "t.mileage() \n",
    "s = Suzuki()   \n",
    "s.mileage()  "
   ]
  },
  {
   "cell_type": "code",
   "execution_count": null,
   "id": "06e28b6d-9d53-4b78-981a-fbda117f1baf",
   "metadata": {},
   "outputs": [],
   "source": [
    "2.Polymorphism:The word polymorphism  means having  many forms. In programming, polymorphism means the same function name(but different signature) being used  for different types. The  key difference is the data types and number of arguments used in function.\n",
    "class Bird:"
   ]
  },
  {
   "cell_type": "code",
   "execution_count": 3,
   "id": "c4968271-ff11-4e23-92b9-f046ec724d79",
   "metadata": {},
   "outputs": [
    {
     "name": "stdout",
     "output_type": "stream",
     "text": [
      "there are many types of birds.\n",
      "most of the birdscan fly but some cannot fly\n",
      "there are many types of birds.\n",
      "most of the birdscan fly but some cannot fly\n",
      "there are many types of birds.\n",
      "most of the birdscan fly but some cannot fly\n"
     ]
    }
   ],
   "source": [
    "class Bird:\n",
    "    def intro(self):\n",
    "        print(\"there are many types of birds.\")\n",
    "    def flight(self):\n",
    "        print(\"most of the birdscan fly but some cannot fly\")\n",
    "class sparrow(Bird):\n",
    "    def flight(self):\n",
    "        print(\"sparrows can fly\")\n",
    "class ostrich(Bird):\n",
    "     def flight(self):\n",
    "        print(\"ostrich cannot fly\")\n",
    "obj_bird=Bird()\n",
    "obj_spr=Bird()\n",
    "obj_ost=Bird()\n",
    "    \n",
    "obj_bird.intro()\n",
    "obj_bird.flight()\n",
    "obj_bird.intro()\n",
    "obj_spr.flight()\n",
    "obj_bird.intro()\n",
    "obj_ost.flight()"
   ]
  },
  {
   "cell_type": "code",
   "execution_count": null,
   "id": "913a9b9c-3008-45f3-8ed8-6d1ab903f22b",
   "metadata": {},
   "outputs": [],
   "source": [
    "3. Inheritance  is the capacity of one class to derive  or inherit  the properties from  another class. The class that derives the properties is called  the derived class or child class and the class  from  which the properties are being  derived  is called the base class. Or parent class\n"
   ]
  },
  {
   "cell_type": "code",
   "execution_count": 4,
   "id": "a5bcd943-714d-4939-9cfb-de6fce062815",
   "metadata": {},
   "outputs": [
    {
     "name": "stdout",
     "output_type": "stream",
     "text": [
      "Rahul\n",
      "88456\n",
      "My name is Rahul\n",
      "idnumber is 88456\n",
      "Post :Intern\n",
      "salary:20000\n"
     ]
    }
   ],
   "source": [
    "class Person(object):\n",
    "    def __init__(self,name,idnumber):\n",
    "        self.name=name\n",
    "        self.idnumber=idnumber\n",
    "    def display(self):\n",
    "        print(self.name)\n",
    "        print(self.idnumber)\n",
    "    def details(self):\n",
    "        print(\"My name is {}\".format(self.name))\n",
    "        print(\"idnumber is {}\".format(self.idnumber))\n",
    "class Employee(Person):\n",
    "    def __init__(self,name,idnumber,salary,post):\n",
    "        self.salary=salary\n",
    "        self.post=post\n",
    "        Person.__init__(self,name,idnumber)\n",
    "    def details(self):\n",
    "        print(\"My name is {}\".format(self.name))\n",
    "        print(\"idnumber is {}\".format(self.idnumber))\n",
    "        print(\"Post :{}\".format(self.post))\n",
    "        print(\"salary:{}\".format(self.salary))\n",
    "a=Employee('Rahul',88456,20000,\"Intern\")\n",
    "a.display()\n",
    "a.details()"
   ]
  },
  {
   "cell_type": "code",
   "execution_count": null,
   "id": "cd500e25-199e-4780-b43d-d17646aaf63a",
   "metadata": {},
   "outputs": [],
   "source": [
    "4.Encapsulation  :  Encapsulation is one  of the fundamental concepts in  oops. It describes the idea of wrapping data and the methods that work on data within one unit. This puts restrictions\n",
    "On accessing  variables and methods directly and  can prevent the accidental modification of data.To prevent accidental  change, an object’s  variable can only  be  changed  by an object’s method.those types of variables are known as private  variable.\n",
    "A class is an example of encapsulation as it encapsulates all the data that is member function,variables etc."
   ]
  },
  {
   "cell_type": "code",
   "execution_count": 5,
   "id": "62b15ba0-c151-46aa-b0fc-cca72607b34c",
   "metadata": {},
   "outputs": [
    {
     "name": "stdout",
     "output_type": "stream",
     "text": [
      "chaitra\n",
      "havanur\n"
     ]
    }
   ],
   "source": [
    "class Base:\n",
    "    def __init__(self):\n",
    "        self.a=\"chaitra\"\n",
    "        self._c=\"havanur\"\n",
    "class Derived(Base):\n",
    "    def __init__(self):\n",
    "        Base.__init__(self)\n",
    "        print(\"calling private member of the class :\")\n",
    "        print(self._c)\n",
    "obj1=Base()\n",
    "obj2=Base()\n",
    "print(obj1.a)\n",
    "print(obj2._c)\n"
   ]
  },
  {
   "cell_type": "code",
   "execution_count": null,
   "id": "2be8d624-324e-4dd2-a751-97d59b6d1c17",
   "metadata": {},
   "outputs": [],
   "source": [
    "Q3. Explain why the __init__() function is used. Give a suitable example.\n",
    "The default_init_()constructor in c++ & java. Constructor  are used to initializing  the object state’s.the task of constructor is to initialize (assign values) to the data  members of the class when an object is created .like methods constructor also contains a collection  of statements(i,e instructions) that are executed at the time of object created. It is run as soon as object of class is instantiated.the method is useful to do any initialization you want to with your object.\n",
    "class Person:\n",
    "   "
   ]
  },
  {
   "cell_type": "code",
   "execution_count": 12,
   "id": "5f8a7bfd-e6c2-4f22-b00e-9d731bdad2dc",
   "metadata": {},
   "outputs": [
    {
     "name": "stdout",
     "output_type": "stream",
     "text": [
      "Hello, my name is Nikhil\n"
     ]
    }
   ],
   "source": [
    "class Person:\n",
    "    def __init__(self, name):\n",
    "        self.name = name\n",
    "    def say_hi(self):\n",
    "        print('Hello, my name is', self.name)\n",
    "p = Person('Nikhil')\n",
    "p.say_hi()"
   ]
  },
  {
   "cell_type": "code",
   "execution_count": null,
   "id": "2a77859f-ca2e-4059-9580-b2f13b889a1b",
   "metadata": {},
   "outputs": [],
   "source": [
    "Q4. Why self is used in OOPs?\n",
    "Self  represents the instance of the class. By using the self we can  access the attributes and methods  of the class in python .it binds the attributes with the given arguments. The reason you need to use the self @syntax to refer to instance attributes. Python decided to do methods in a way  that  makes the instance to which  the method belongs be passed automatically,but  not received  automatically:the first  parameter of methods is the instance the method is called on. Self  is always pointing to the current object.\n",
    "Example:"
   ]
  },
  {
   "cell_type": "code",
   "execution_count": 19,
   "id": "49c1eedc-9ab2-47a7-960f-4d144f5c2cdd",
   "metadata": {},
   "outputs": [
    {
     "name": "stdout",
     "output_type": "stream",
     "text": [
      "model is audi a4\n",
      "color is blue\n",
      "model is ferrari 484\n",
      "color is green\n",
      "model for audi is audi a4\n",
      "model for ferrari is green\n"
     ]
    }
   ],
   "source": [
    "class car():\n",
    "     def __init__(self, model, color):\n",
    "        self.model=model\n",
    "        self.color=color\n",
    "       \n",
    "    \n",
    "     def show(self):\n",
    "            print(\"model is\",self.model)\n",
    "            print(\"color is\",self.color)\n",
    "audi=car(\"audi a4\",\"blue\")\n",
    "ferrari=car(\"ferrari 484\",\"green\")\n",
    "audi.show()\n",
    "ferrari.show()\n",
    "print(\"model for audi is\",audi.model)\n",
    "print(\"model for ferrari is\",ferrari.color)\n"
   ]
  },
  {
   "cell_type": "code",
   "execution_count": null,
   "id": "8897e51e-3404-4ed6-9dfe-5e979ae375e9",
   "metadata": {},
   "outputs": [],
   "source": []
  },
  {
   "cell_type": "code",
   "execution_count": null,
   "id": "9dba5d84-8f85-45eb-8ae9-1a264920d4c6",
   "metadata": {},
   "outputs": [],
   "source": [
    "\n",
    "Q5. What is inheritance? Give an example for each type of inheritance.\n",
    "Inheritance  is the capacity of one class to derive  or inherit  the properties from  another class. The class that derives the properties is called  the derived class or child class and the class  from  which the properties are being  derived  is called the base class. Or parent class\n",
    "The benefits of inheritance are:\n",
    "a.\tIt  represents the real world  relationship as well.\n",
    "b.\tIt provides the reusability of the code .we don’t have to write the same code again and again. also,it allows us to add more  features to class without modifying it.\n",
    "c.\tIt is transitive in nature, which means that if class B inherits from another  class A, then all subclasses of B would automatically inherits from class A.\n",
    "\n",
    "Types of inheritance\n",
    "1.Single  inheritance: single-level  inheritance enables a derived class to inherit  characteristics from a single-parent class.\n",
    "2.Multi-level inheritance: Multi-level  inheritance enables a derived  class to inherit  properties from an immediate parent class which in turn inherits properties from his parent  class.\n",
    "3.Hierarical  inheritance: Hierarical level inheritance enables more than one derived  class to inherit  propertites  from a parent class.\n",
    "4.Multiple  inheritance:Multiple level  inheritance enables one derived  class  to inherit  properties from more than one base class .\n",
    "\n"
   ]
  },
  {
   "cell_type": "code",
   "execution_count": 18,
   "id": "2678260d-082b-4396-a95b-b889d4de3ba8",
   "metadata": {},
   "outputs": [
    {
     "name": "stdout",
     "output_type": "stream",
     "text": [
      "Rahul\n",
      "88456\n",
      "My name is Rahul\n",
      "idnumber is 88456\n",
      "Post :Intern\n",
      "salary:20000\n"
     ]
    }
   ],
   "source": [
    "class Person(object):\n",
    "    def __init__(self,name,idnumber):\n",
    "        self.name=name\n",
    "        self.idnumber=idnumber\n",
    "    def display(self):\n",
    "        print(self.name)\n",
    "        print(self.idnumber)\n",
    "    def details(self):\n",
    "        print(\"My name is {}\".format(self.name))\n",
    "        print(\"idnumber is {}\".format(self.idnumber))\n",
    "class Employee(Person):\n",
    "    def __init__(self,name,idnumber,salary,post):\n",
    "        self.salary=salary\n",
    "        self.post=post\n",
    "        Person.__init__(self,name,idnumber)\n",
    "    def details(self):\n",
    "        print(\"My name is {}\".format(self.name))\n",
    "        print(\"idnumber is {}\".format(self.idnumber))\n",
    "        print(\"Post :{}\".format(self.post))\n",
    "        print(\"salary:{}\".format(self.salary))\n",
    "a=Employee('Rahul',88456,20000,\"Intern\")\n",
    "a.display()\n",
    "a.details()"
   ]
  },
  {
   "cell_type": "code",
   "execution_count": null,
   "id": "ab4ef8eb-7bb7-4bfa-a2c4-bb48e08802c4",
   "metadata": {},
   "outputs": [],
   "source": []
  }
 ],
 "metadata": {
  "kernelspec": {
   "display_name": "Python 3 (ipykernel)",
   "language": "python",
   "name": "python3"
  },
  "language_info": {
   "codemirror_mode": {
    "name": "ipython",
    "version": 3
   },
   "file_extension": ".py",
   "mimetype": "text/x-python",
   "name": "python",
   "nbconvert_exporter": "python",
   "pygments_lexer": "ipython3",
   "version": "3.10.8"
  }
 },
 "nbformat": 4,
 "nbformat_minor": 5
}

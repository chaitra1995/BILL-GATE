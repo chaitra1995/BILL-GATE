{
 "cells": [
  {
   "cell_type": "code",
   "execution_count": null,
   "id": "e6f941ec-6f2a-44ec-827f-cc607d65848e",
   "metadata": {},
   "outputs": [],
   "source": [
    "1.Create a vehicle class with an init method having instance variables as name_of_vehicle, max_speed\n",
    "and average_of_vehicle.\n"
   ]
  },
  {
   "cell_type": "code",
   "execution_count": 1,
   "id": "64a10e89-0666-4b59-b340-de7ed6956e5b",
   "metadata": {},
   "outputs": [
    {
     "name": "stdout",
     "output_type": "stream",
     "text": [
      "object 1\n",
      "name_of_vehicle: maruti\n",
      "max_speed: 200\n",
      "average_of_vehicle: 14\n",
      "object 2\n",
      "name_of_vehicle: shiftdizre\n",
      "max_speed: 300\n",
      "average_of_vehicle: 18\n"
     ]
    }
   ],
   "source": [
    "class vehicle:\n",
    "    def __init__(self,name_of_vehicle,max_speed,average_of_vehicle):\n",
    "        self.name_of_vehicle=name_of_vehicle\n",
    "        self.max_speed=max_speed\n",
    "        self.average_of_vehicle=average_of_vehicle\n",
    "v1=vehicle(\"maruti\",200,14)\n",
    "print('object 1')\n",
    "print('name_of_vehicle:',v1.name_of_vehicle)\n",
    "print('max_speed:',v1.max_speed)\n",
    "print('average_of_vehicle:',v1.average_of_vehicle)\n",
    "v2=vehicle(\"shiftdizre\",300,18)\n",
    "print('object 2')\n",
    "print('name_of_vehicle:',v2.name_of_vehicle)\n",
    "print('max_speed:',v2.max_speed)\n",
    "print('average_of_vehicle:',v2.average_of_vehicle)\n"
   ]
  },
  {
   "cell_type": "code",
   "execution_count": null,
   "id": "836f695e-d8ad-498d-81b5-645e71c67025",
   "metadata": {},
   "outputs": [],
   "source": [
    "Q2. Create a child class car from the vehicle class created in Que 1, which will inherit the vehicle class.\n",
    "Create a method named seating_capacity which takes capacity as an argument and returns the name of\n",
    "the vehicle and its seating capacity.\n"
   ]
  },
  {
   "cell_type": "code",
   "execution_count": 2,
   "id": "391bd0a0-776b-4927-9770-547088d9ea25",
   "metadata": {},
   "outputs": [
    {
     "name": "stdout",
     "output_type": "stream",
     "text": [
      "maruti\n",
      "587\n"
     ]
    }
   ],
   "source": [
    "class vehicle(object):\n",
    "    # __init__ is known as the constructor\n",
    "    def __init__(self, name, speed):\n",
    "        self.name = name\n",
    "        self.speed = speed\n",
    "    def display(self):\n",
    "        print(self.name)\n",
    "        print(self.speed)\n",
    "class seating_capacity(vehicle):\n",
    "    def __init__(self, name, speed,milage,capacity):\n",
    "        self.capacity = capacity\n",
    "        self.milage=milage\n",
    "        vehicle.__init__(self, name, speed)\n",
    "a =seating_capacity('maruti', 587,5,\"56\")\n",
    "a.display()\n"
   ]
  },
  {
   "cell_type": "code",
   "execution_count": null,
   "id": "e37c3a48-1541-413a-a070-d7ef52487511",
   "metadata": {},
   "outputs": [],
   "source": [
    "Q3. What is multiple inheritance? Write a python code to demonstrate multiple inheritance.\n",
    "The class which is derived more than one parent class is called multiple inheritance. \n"
   ]
  },
  {
   "cell_type": "code",
   "execution_count": 8,
   "id": "706af732-bd65-4c89-bc94-0f0b4661f322",
   "metadata": {},
   "outputs": [
    {
     "name": "stdout",
     "output_type": "stream",
     "text": [
      "mammals can give direct birth\n",
      "winged animals can flaps\n"
     ]
    }
   ],
   "source": [
    "class mammals:\n",
    "    def mammals_info(self):\n",
    "        print(\"mammals can give direct birth\")\n",
    "class wingedmammals:\n",
    "    def wingedmammals_info(self):\n",
    "        print(\"winged animals can flaps\")\n",
    "class bat(mammals,wingedmammals):\n",
    "    pass\n",
    "b1=bat()\n",
    "b1.mammals_info()\n",
    "b1.wingedmammals_info()"
   ]
  },
  {
   "cell_type": "code",
   "execution_count": null,
   "id": "36555045-0a1e-4119-9df9-3bb531a9fccd",
   "metadata": {},
   "outputs": [],
   "source": [
    "Q4. What are getter and setter in python? Create a class and create a getter and a setter method in this\n",
    "class.\n",
    "Getters are the methods that are used in oops. To access class’s private attritube.the setattr() function corresponds to the\n",
    "getattr()function in python.it alters object’s attribute value.\n",
    "The setters are used to set the property’s value .it is very useful in oops to set the value of private attribute in a class.\n",
    "Generally getters and setters are used for data encapsulation.\n"
   ]
  },
  {
   "cell_type": "code",
   "execution_count": 9,
   "id": "b084b91b-26cc-4fdb-9c33-03dee6510453",
   "metadata": {},
   "outputs": [
    {
     "name": "stdout",
     "output_type": "stream",
     "text": [
      "19\n",
      "19\n"
     ]
    }
   ],
   "source": [
    "class Person:   \n",
    "    def __init__(self, age = 0):   \n",
    "         self._age = age    \n",
    "    def get_age(self):   \n",
    "        return self._age \n",
    "    def set_age(self, a):   \n",
    "        self._age = a      \n",
    "p1 = Person()   \n",
    "p1.set_age(19)  \n",
    "print(p1.get_age())   \n",
    "print(p1._age)  \n"
   ]
  },
  {
   "cell_type": "code",
   "execution_count": null,
   "id": "e011da6b-6bea-4db4-a1a5-b66adb72a64f",
   "metadata": {},
   "outputs": [],
   "source": [
    "Q5.What is method overriding in python? Write a python code to demonstrate method overriding.\n"
   ]
  },
  {
   "cell_type": "code",
   "execution_count": null,
   "id": "78e18383-7aa9-4e91-a8f3-456d25fa1763",
   "metadata": {},
   "outputs": [],
   "source": [
    "Method overriding is an ability of any oops that allows a subclass or child class to provide specific implementation of \n",
    "method that is already provided by one of its  parent class .when a method  in subclass has the same name ,same parameter, signature,\n",
    "return type as the method in its parent class then the method in subclass is said to override the method in parent class."
   ]
  },
  {
   "cell_type": "code",
   "execution_count": 10,
   "id": "d8dad21c-bf0e-4923-bce0-be42d2c08c11",
   "metadata": {},
   "outputs": [
    {
     "name": "stdout",
     "output_type": "stream",
     "text": [
      "inside parent\n",
      "inside child\n"
     ]
    }
   ],
   "source": [
    "class parent():\n",
    "    def __init__(self):\n",
    "        self.value=(\"inside parent\")\n",
    "    def show(self):\n",
    "        print(self.value)\n",
    "class child(parent):\n",
    "    def __init__(self):\n",
    "        self.value=(\"inside child\")\n",
    "    def show(self):\n",
    "        print(self.value)\n",
    "obj1=parent()\n",
    "obj2=child()\n",
    "obj1.show()\n",
    "obj2.show()\n"
   ]
  },
  {
   "cell_type": "code",
   "execution_count": null,
   "id": "a97a2ebe-6ca5-4227-b377-861da3bf9521",
   "metadata": {},
   "outputs": [],
   "source": []
  }
 ],
 "metadata": {
  "kernelspec": {
   "display_name": "Python 3 (ipykernel)",
   "language": "python",
   "name": "python3"
  },
  "language_info": {
   "codemirror_mode": {
    "name": "ipython",
    "version": 3
   },
   "file_extension": ".py",
   "mimetype": "text/x-python",
   "name": "python",
   "nbconvert_exporter": "python",
   "pygments_lexer": "ipython3",
   "version": "3.10.8"
  }
 },
 "nbformat": 4,
 "nbformat_minor": 5
}

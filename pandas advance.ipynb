{
 "cells": [
  {
   "cell_type": "code",
   "execution_count": null,
   "id": "9a17bfe4-a32d-4ed5-be2b-6ee9f9aa2d5f",
   "metadata": {},
   "outputs": [],
   "source": [
    "Q1. List any five functions of the pandas library with execution.\n",
    "\n",
    "1.\tRead  Data\n",
    "We can read data in pandas data frame as read_csv().\n",
    "Two most used data read formats are csv and excel.\n",
    "If we are reading data in excel format, we can also give sheet names as follows. \n",
    "There are other less used options of other file types too.\n",
    "import  pandas  as  pd\n",
    "df = pd.read_csv('services.csv')\n",
    "df1=pd.read_excel(\"LUSID Excel - Setting up your market data.xlsx\")\n",
    "\n",
    "2.Head & Tail\n",
    " To see the data frame we can use df.head().\n",
    "Head returns the first rows, if no input is given it will always show above 5 rows.\n",
    "In contrast to see below rows, we can use df.tail().\n",
    "df.head(3)\n",
    "\n",
    "3.Shape, Size and Info\n",
    "Two most basic functions after reading data is to know the number of rows and columns,\n",
    "and to know the datatype of variables. We can use df.shape, it gives a total number of\n",
    "rows and then columns. df.size() returns the number of rows times number of columns in\n",
    "the data frame. We can also use df.info(), from that we get different information such\n",
    "as rows from RangeIndex, Data columns and then data type of each column. \n",
    "It also includes the information of non-null counts.\n",
    "\n",
    "4.Describe\n",
    "Then to understand basic statistics of variables we can use df.describe().\n",
    "It will give you count, mean, standard deviation, and also 5 number summary.\n",
    "\n",
    "5.Columns :To know the names of all the variables in a data frame, we can use df.columns.\n",
    "\n"
   ]
  },
  {
   "cell_type": "code",
   "execution_count": null,
   "id": "d90e64a1-3ed5-465f-bb9e-cd590a25bcac",
   "metadata": {},
   "outputs": [],
   "source": [
    "Q2. Given a Pandas DataFrame df with columns 'A', 'B', and 'C', write a Python function to re-index the\n",
    "DataFrame with a new index that starts from 1 and increments by 2 for each row.\n"
   ]
  },
  {
   "cell_type": "code",
   "execution_count": 1,
   "id": "719fcb9b-fa8b-4461-818a-37022b7a01af",
   "metadata": {},
   "outputs": [
    {
     "name": "stdout",
     "output_type": "stream",
     "text": [
      "          a         b         c         d         e\n",
      "A  0.910600  0.577678  0.128438  0.753681  0.230772\n",
      "B  0.862499  0.520784  0.735319  0.096913  0.505757\n",
      "C  0.741267  0.445219  0.191923  0.611064  0.960851\n",
      "D  0.729264  0.719066  0.432522  0.624333  0.659631\n",
      "E  0.733197  0.865554  0.421011  0.900321  0.304901\n",
      "\n",
      "\n",
      "Dataframe after reindexing rows: \n",
      "           a         b         c         d         e\n",
      "B  0.862499  0.520784  0.735319  0.096913  0.505757\n",
      "D  0.729264  0.719066  0.432522  0.624333  0.659631\n",
      "A  0.910600  0.577678  0.128438  0.753681  0.230772\n",
      "C  0.741267  0.445219  0.191923  0.611064  0.960851\n",
      "E  0.733197  0.865554  0.421011  0.900321  0.304901\n"
     ]
    }
   ],
   "source": [
    "import pandas as pd\n",
    "import numpy as np\n",
    "column=['a','b','c','d','e']\n",
    "index=['A','B','C','D','E']\n",
    " \n",
    "# create a dataframe of random values of array\n",
    "df1 = pd.DataFrame(np.random.rand(5,5),\n",
    "            columns=column, index=index)\n",
    "print(df1)\n",
    "print('\\n\\nDataframe after reindexing rows: \\n',\n",
    "df1.reindex(['B', 'D', 'A', 'C', 'E']))\n",
    "\n"
   ]
  },
  {
   "cell_type": "code",
   "execution_count": null,
   "id": "8fc93fef-f21d-487d-84ad-f5b8564e6f37",
   "metadata": {},
   "outputs": [],
   "source": [
    "Q3. You have a Pandas DataFrame df with a column named 'Values'. Write a Python function that\n",
    "iterates over the DataFrame and calculates the sum of the first three values in the 'Values' column. The\n",
    "function should print the sum to the console.\n",
    "For example, if the 'Values' column of df contains the values [10, 20, 30, 40, 50], your function should\n",
    "calculate and print the sum of the first three values, which is 60.\n",
    "\n"
   ]
  },
  {
   "cell_type": "code",
   "execution_count": 1,
   "id": "606f19c3-5326-4e0a-abf9-1b36e136844d",
   "metadata": {},
   "outputs": [
    {
     "name": "stdout",
     "output_type": "stream",
     "text": [
      "0    60\n",
      "dtype: int64\n"
     ]
    }
   ],
   "source": [
    "import pandas as pd\n",
    "data = [10,20,30,40,50]\n",
    "df = pd.DataFrame(data)\n",
    "print(df.iloc[:3].sum())\n",
    "\n"
   ]
  },
  {
   "cell_type": "code",
   "execution_count": null,
   "id": "6dfe6c52-3b54-4b53-83c3-9ae198f1f4a7",
   "metadata": {},
   "outputs": [],
   "source": [
    "Q4. Given a Pandas DataFrame df with a column 'Text', write a Python function to create a new column\n",
    "'Word_Count' that contains the number of words in each row of the 'Text' column."
   ]
  },
  {
   "cell_type": "code",
   "execution_count": 2,
   "id": "f88563ce-8f1b-47c0-a9da-4157f1a88e4a",
   "metadata": {},
   "outputs": [
    {
     "data": {
      "text/plain": [
       "hello      2\n",
       "goodbye    1\n",
       "howdy      1\n",
       "hi         1\n",
       "bye        1\n",
       "dtype: int64"
      ]
     },
     "execution_count": 2,
     "metadata": {},
     "output_type": "execute_result"
    }
   ],
   "source": [
    "import numpy as np\n",
    "import pandas as pd\n",
    "\n",
    "words = ['hello', 'goodbye', 'howdy', 'hello', 'hi', 'bye']\n",
    "\n",
    "pd.value_counts(np.array(words))\n",
    "\n"
   ]
  },
  {
   "cell_type": "code",
   "execution_count": null,
   "id": "7ae16a8f-bf60-4d80-889a-7b345d61d847",
   "metadata": {},
   "outputs": [],
   "source": [
    "Q5. How are DataFrame.size() and DataFrame.shape() different?\n",
    "\n",
    "The size of the DataFrame is nothing but the number of rows * the number of columns. \n",
    "When it comes to Pandas Series, it will return a number of rows. \n",
    "Using the shape attribute we can get the shape of DataFrame, which is \n",
    "nothing but the number of rows and columns as a tuple.\n",
    "\n",
    "\n",
    "We can get the shape of Pandas DataFrame using the shape attribute.\n",
    "The shape is nothing but a number of rows and columns of the DataFrame.\n",
    "It returns a tuple where the first element is the number of rows and the second \n",
    "is the number of columns"
   ]
  },
  {
   "cell_type": "code",
   "execution_count": null,
   "id": "884be1a5-8520-4744-9c8a-70bdcbb54a60",
   "metadata": {},
   "outputs": [],
   "source": [
    "Q6. Which function of pandas do we use to read an excel file?\n",
    "The  function of pandas we use to read an excel file are:\n",
    "1.\tPandas  module  read_excel() function  reads the excel \n",
    "sheet data into data frame  object.\n",
    "2.\tAn excel  sheet  is the two dimensional  table  and the dataframe\n",
    "object  represents  the two dimensional tabular view.\n",
    "3.\tWe can  get  the header  details  from the excel sheet.\n",
    "4.\tWe can also specify the columns to be  read  from the excel sheet.\n",
    "5.\tPandas read_excel() function is used for reading the Excel files. \n",
    "Files can be imported using a URL link or can be directly imported from the disk.\n",
    "There are different parameters like io for path,sheet_name for specifying the name \n",
    "of the sheet, etc., for reading the file.\n",
    "6.\tThe dataframe  object  has various useful  methods  to convert the excel  data \n",
    "into CSV, Dict, or JSON  representation. \n",
    "\n"
   ]
  },
  {
   "cell_type": "code",
   "execution_count": null,
   "id": "3f0197b7-533c-4844-bb7e-36a930ef0aa5",
   "metadata": {},
   "outputs": [],
   "source": [
    "Q7. You have a Pandas DataFrame df that contains a column named 'Email' that contains email\n",
    "addresses in the format 'username@domain.com'. Write a Python function that creates a new column\n",
    "'Username' in df that contains only the username part of each email address.\n",
    "The username is the part of the email address that appears before the '@' symbol. For example, if the\n",
    "email address is 'john.doe@example.com', the 'Username' column should contain 'john.doe'. Your\n",
    "function should extract the username from each email address and store it in the new 'Username'\n",
    "column.\n"
   ]
  },
  {
   "cell_type": "code",
   "execution_count": 3,
   "id": "5726a250-4c11-4bad-8b6d-36924473627b",
   "metadata": {},
   "outputs": [
    {
     "name": "stdout",
     "output_type": "stream",
     "text": [
      "Original DataFrame:\n",
      "                    name_email\n",
      "0  Alberto Franco af@gmail.com\n",
      "1    Gino Mcneill gm@yahoo.com\n",
      "2        Ryan Parkes rp@abc.io\n",
      "3                 Eesha Hinton\n",
      "4   Gino Mcneill gm@github.com\n",
      "\\Extracting email from dataframe columns:\n",
      "                    name_email          email\n",
      "0  Alberto Franco af@gmail.com   af@gmail.com\n",
      "1    Gino Mcneill gm@yahoo.com   gm@yahoo.com\n",
      "2        Ryan Parkes rp@abc.io      rp@abc.io\n",
      "3                 Eesha Hinton               \n",
      "4   Gino Mcneill gm@github.com  gm@github.com\n"
     ]
    }
   ],
   "source": [
    "import pandas as pd\n",
    "import re as re\n",
    "pd.set_option('display.max_columns', 10)\n",
    "df = pd.DataFrame({\n",
    "    'name_email': ['Alberto Franco af@gmail.com','Gino Mcneill gm@yahoo.com','Ryan Parkes rp@abc.io', 'Eesha Hinton', 'Gino Mcneill gm@github.com']\n",
    "    })\n",
    "print(\"Original DataFrame:\")\n",
    "print(df)\n",
    "def find_email(text):\n",
    "    email = re.findall(r'[\\w\\.-]+@[\\w\\.-]+',str(text))\n",
    "    return \",\".join(email)\n",
    "df['email']=df['name_email'].apply(lambda x: find_email(x))\n",
    "print(\"\\Extracting email from dataframe columns:\")\n",
    "print(df)\n"
   ]
  },
  {
   "cell_type": "code",
   "execution_count": null,
   "id": "e473fa81-3618-474c-82de-80d286581760",
   "metadata": {},
   "outputs": [],
   "source": [
    "Q8. You have a Pandas DataFrame df with columns 'A', 'B', and 'C'. Write a Python function that selects\n",
    "all rows where the value in column 'A' is greater than 5 and the value in column 'B' is less than 10. The\n",
    "function should return a new DataFrame that contains only the selected rows.\n",
    "For example, if df contains the following values:\n",
    "A B C\n",
    "0 3 5 1\n",
    "1 8 2 7\n",
    "2 6 9 4\n",
    "3 2 3 5\n",
    "4 9 1 2\n",
    "\n",
    "Your function should select the following rows: A B C\n",
    "1 8 2 7\n",
    "4 9 1 2\n",
    "The function should return a new DataFrame that contains only the selected rows.\n",
    "\n"
   ]
  },
  {
   "cell_type": "code",
   "execution_count": 4,
   "id": "9ccfda58-e26b-4d1b-95e6-0579df9bbd29",
   "metadata": {},
   "outputs": [
    {
     "data": {
      "text/html": [
       "<div>\n",
       "<style scoped>\n",
       "    .dataframe tbody tr th:only-of-type {\n",
       "        vertical-align: middle;\n",
       "    }\n",
       "\n",
       "    .dataframe tbody tr th {\n",
       "        vertical-align: top;\n",
       "    }\n",
       "\n",
       "    .dataframe thead th {\n",
       "        text-align: right;\n",
       "    }\n",
       "</style>\n",
       "<table border=\"1\" class=\"dataframe\">\n",
       "  <thead>\n",
       "    <tr style=\"text-align: right;\">\n",
       "      <th></th>\n",
       "      <th>A</th>\n",
       "      <th>B</th>\n",
       "      <th>C</th>\n",
       "    </tr>\n",
       "  </thead>\n",
       "  <tbody>\n",
       "    <tr>\n",
       "      <th>1</th>\n",
       "      <td>8</td>\n",
       "      <td>2</td>\n",
       "      <td>7</td>\n",
       "    </tr>\n",
       "    <tr>\n",
       "      <th>2</th>\n",
       "      <td>6</td>\n",
       "      <td>9</td>\n",
       "      <td>4</td>\n",
       "    </tr>\n",
       "    <tr>\n",
       "      <th>4</th>\n",
       "      <td>9</td>\n",
       "      <td>1</td>\n",
       "      <td>2</td>\n",
       "    </tr>\n",
       "  </tbody>\n",
       "</table>\n",
       "</div>"
      ],
      "text/plain": [
       "   A  B  C\n",
       "1  8  2  7\n",
       "2  6  9  4\n",
       "4  9  1  2"
      ]
     },
     "execution_count": 4,
     "metadata": {},
     "output_type": "execute_result"
    }
   ],
   "source": [
    "df=pd.DataFrame({'A':[3,8,6,2,9],'B':[5,2,9,3,1],'C':[1,7,4,5,2]})\n",
    "df\n",
    "df[df.A > 5]\n",
    "\n"
   ]
  },
  {
   "cell_type": "code",
   "execution_count": null,
   "id": "29b69380-8c2e-4f47-a39a-cb8d95e2a126",
   "metadata": {},
   "outputs": [],
   "source": [
    "\n",
    "Q9. Given a Pandas DataFrame df with a column 'Values', write a Python function to calculate the mean,\n",
    "median, and standard deviation of the values in the 'Values' column.\n"
   ]
  },
  {
   "cell_type": "code",
   "execution_count": 5,
   "id": "632b21aa-5613-49f6-9e96-f4fa68b90efc",
   "metadata": {},
   "outputs": [
    {
     "name": "stdout",
     "output_type": "stream",
     "text": [
      "\n",
      "Mean score for each different student in data frame:\n",
      "13.5625\n",
      "\n",
      " median score for each different student in data frame:\n",
      "13.5\n",
      "\n",
      " standard deviaton for each different student in data frame:\n",
      "4.6937458388796465\n"
     ]
    }
   ],
   "source": [
    "import pandas as pd\n",
    "import numpy as np\n",
    "exam_data  = {'name': ['Anastasia', 'Dima', 'Katherine', 'James', 'Emily', 'Michael', 'Matthew', 'Laura', 'Kevin', 'Jonas'],\n",
    "        'score': [12.5, 9, 16.5, np.nan, 9, 20, 14.5, np.nan, 8, 19],\n",
    "        'attempts': [1, 3, 2, 3, 2, 3, 1, 1, 2, 1],\n",
    "        'qualify': ['yes', 'no', 'yes', 'no', 'no', 'yes', 'yes', 'no', 'no', 'yes']}\n",
    "labels = ['a', 'b', 'c', 'd', 'e', 'f', 'g', 'h', 'i', 'j']\n",
    "\n",
    "df = pd.DataFrame(exam_data , index=labels)\n",
    "print(\"\\nMean score for each different student in data frame:\")\n",
    "print(df['score'].mean())\n",
    "print(\"\\n median score for each different student in data frame:\")\n",
    "print(df['score'].median())\n",
    "print(\"\\n standard deviaton for each different student in data frame:\")\n",
    "print(df['score'].std())\n"
   ]
  },
  {
   "cell_type": "code",
   "execution_count": null,
   "id": "a8086a69-ad8c-4a97-9851-8cdcf639ef27",
   "metadata": {},
   "outputs": [],
   "source": [
    "Q10. Given a Pandas DataFrame df with a column 'Sales' and a column 'Date', write a Python function to\n",
    "create a new column 'MovingAverage' that contains the moving average of the sales for the past 7 days\n",
    "for each row in the DataFrame. The moving average should be calculated using a window of size 7 and\n",
    "should include the current day.\n",
    "\n"
   ]
  },
  {
   "cell_type": "code",
   "execution_count": 6,
   "id": "4b287077-c129-44ac-9362-d3932e8fd13d",
   "metadata": {},
   "outputs": [
    {
     "ename": "ValueError",
     "evalue": "Length of values (30) does not match length of index (31)",
     "output_type": "error",
     "traceback": [
      "\u001b[0;31m---------------------------------------------------------------------------\u001b[0m",
      "\u001b[0;31mValueError\u001b[0m                                Traceback (most recent call last)",
      "Cell \u001b[0;32mIn[6], line 8\u001b[0m\n\u001b[1;32m      4\u001b[0m dates \u001b[38;5;241m=\u001b[39m pd\u001b[38;5;241m.\u001b[39mdate_range(start\u001b[38;5;241m=\u001b[39m\u001b[38;5;124m'\u001b[39m\u001b[38;5;124m1/1/2023\u001b[39m\u001b[38;5;124m'\u001b[39m, end\u001b[38;5;241m=\u001b[39m\u001b[38;5;124m'\u001b[39m\u001b[38;5;124m1/31/2023\u001b[39m\u001b[38;5;124m'\u001b[39m, freq\u001b[38;5;241m=\u001b[39m\u001b[38;5;124m'\u001b[39m\u001b[38;5;124mD\u001b[39m\u001b[38;5;124m'\u001b[39m)\n\u001b[1;32m      5\u001b[0m sales \u001b[38;5;241m=\u001b[39m [\u001b[38;5;241m100\u001b[39m, \u001b[38;5;241m105\u001b[39m, \u001b[38;5;241m110\u001b[39m, \u001b[38;5;241m115\u001b[39m, \u001b[38;5;241m120\u001b[39m, \u001b[38;5;241m118\u001b[39m, \u001b[38;5;241m116\u001b[39m, \u001b[38;5;241m114\u001b[39m, \u001b[38;5;241m112\u001b[39m, \u001b[38;5;241m115\u001b[39m,\n\u001b[1;32m      6\u001b[0m                   \u001b[38;5;241m117\u001b[39m, \u001b[38;5;241m119\u001b[39m, \u001b[38;5;241m121\u001b[39m, \u001b[38;5;241m120\u001b[39m, \u001b[38;5;241m118\u001b[39m, \u001b[38;5;241m116\u001b[39m, \u001b[38;5;241m114\u001b[39m, \u001b[38;5;241m112\u001b[39m, \u001b[38;5;241m110\u001b[39m, \u001b[38;5;241m108\u001b[39m,\n\u001b[1;32m      7\u001b[0m                   \u001b[38;5;241m106\u001b[39m, \u001b[38;5;241m107\u001b[39m, \u001b[38;5;241m109\u001b[39m, \u001b[38;5;241m111\u001b[39m, \u001b[38;5;241m113\u001b[39m, \u001b[38;5;241m115\u001b[39m, \u001b[38;5;241m117\u001b[39m, \u001b[38;5;241m119\u001b[39m, \u001b[38;5;241m121\u001b[39m, \u001b[38;5;241m123\u001b[39m]\n\u001b[0;32m----> 8\u001b[0m df \u001b[38;5;241m=\u001b[39m \u001b[43mpd\u001b[49m\u001b[38;5;241;43m.\u001b[39;49m\u001b[43mDataFrame\u001b[49m\u001b[43m(\u001b[49m\u001b[43m{\u001b[49m\u001b[38;5;124;43m'\u001b[39;49m\u001b[38;5;124;43msales\u001b[39;49m\u001b[38;5;124;43m'\u001b[39;49m\u001b[43m:\u001b[49m\u001b[43m \u001b[49m\u001b[43msales\u001b[49m\u001b[43m}\u001b[49m\u001b[43m,\u001b[49m\u001b[43m \u001b[49m\u001b[43mindex\u001b[49m\u001b[38;5;241;43m=\u001b[39;49m\u001b[43mdates\u001b[49m\u001b[43m)\u001b[49m\n\u001b[1;32m     10\u001b[0m \u001b[38;5;66;03m# Calculate the 5-day simple moving average of the closing prices\u001b[39;00m\n\u001b[1;32m     11\u001b[0m sma \u001b[38;5;241m=\u001b[39m df[\u001b[38;5;124m'\u001b[39m\u001b[38;5;124msales\u001b[39m\u001b[38;5;124m'\u001b[39m]\u001b[38;5;241m.\u001b[39mrolling(window\u001b[38;5;241m=\u001b[39m\u001b[38;5;241m7\u001b[39m)\u001b[38;5;241m.\u001b[39mmean()\n",
      "File \u001b[0;32m/opt/conda/lib/python3.10/site-packages/pandas/core/frame.py:663\u001b[0m, in \u001b[0;36mDataFrame.__init__\u001b[0;34m(self, data, index, columns, dtype, copy)\u001b[0m\n\u001b[1;32m    657\u001b[0m     mgr \u001b[38;5;241m=\u001b[39m \u001b[38;5;28mself\u001b[39m\u001b[38;5;241m.\u001b[39m_init_mgr(\n\u001b[1;32m    658\u001b[0m         data, axes\u001b[38;5;241m=\u001b[39m{\u001b[38;5;124m\"\u001b[39m\u001b[38;5;124mindex\u001b[39m\u001b[38;5;124m\"\u001b[39m: index, \u001b[38;5;124m\"\u001b[39m\u001b[38;5;124mcolumns\u001b[39m\u001b[38;5;124m\"\u001b[39m: columns}, dtype\u001b[38;5;241m=\u001b[39mdtype, copy\u001b[38;5;241m=\u001b[39mcopy\n\u001b[1;32m    659\u001b[0m     )\n\u001b[1;32m    661\u001b[0m \u001b[38;5;28;01melif\u001b[39;00m \u001b[38;5;28misinstance\u001b[39m(data, \u001b[38;5;28mdict\u001b[39m):\n\u001b[1;32m    662\u001b[0m     \u001b[38;5;66;03m# GH#38939 de facto copy defaults to False only in non-dict cases\u001b[39;00m\n\u001b[0;32m--> 663\u001b[0m     mgr \u001b[38;5;241m=\u001b[39m \u001b[43mdict_to_mgr\u001b[49m\u001b[43m(\u001b[49m\u001b[43mdata\u001b[49m\u001b[43m,\u001b[49m\u001b[43m \u001b[49m\u001b[43mindex\u001b[49m\u001b[43m,\u001b[49m\u001b[43m \u001b[49m\u001b[43mcolumns\u001b[49m\u001b[43m,\u001b[49m\u001b[43m \u001b[49m\u001b[43mdtype\u001b[49m\u001b[38;5;241;43m=\u001b[39;49m\u001b[43mdtype\u001b[49m\u001b[43m,\u001b[49m\u001b[43m \u001b[49m\u001b[43mcopy\u001b[49m\u001b[38;5;241;43m=\u001b[39;49m\u001b[43mcopy\u001b[49m\u001b[43m,\u001b[49m\u001b[43m \u001b[49m\u001b[43mtyp\u001b[49m\u001b[38;5;241;43m=\u001b[39;49m\u001b[43mmanager\u001b[49m\u001b[43m)\u001b[49m\n\u001b[1;32m    664\u001b[0m \u001b[38;5;28;01melif\u001b[39;00m \u001b[38;5;28misinstance\u001b[39m(data, ma\u001b[38;5;241m.\u001b[39mMaskedArray):\n\u001b[1;32m    665\u001b[0m     \u001b[38;5;28;01mimport\u001b[39;00m \u001b[38;5;21;01mnumpy\u001b[39;00m\u001b[38;5;21;01m.\u001b[39;00m\u001b[38;5;21;01mma\u001b[39;00m\u001b[38;5;21;01m.\u001b[39;00m\u001b[38;5;21;01mmrecords\u001b[39;00m \u001b[38;5;28;01mas\u001b[39;00m \u001b[38;5;21;01mmrecords\u001b[39;00m\n",
      "File \u001b[0;32m/opt/conda/lib/python3.10/site-packages/pandas/core/internals/construction.py:493\u001b[0m, in \u001b[0;36mdict_to_mgr\u001b[0;34m(data, index, columns, dtype, typ, copy)\u001b[0m\n\u001b[1;32m    489\u001b[0m     \u001b[38;5;28;01melse\u001b[39;00m:\n\u001b[1;32m    490\u001b[0m         \u001b[38;5;66;03m# dtype check to exclude e.g. range objects, scalars\u001b[39;00m\n\u001b[1;32m    491\u001b[0m         arrays \u001b[38;5;241m=\u001b[39m [x\u001b[38;5;241m.\u001b[39mcopy() \u001b[38;5;28;01mif\u001b[39;00m \u001b[38;5;28mhasattr\u001b[39m(x, \u001b[38;5;124m\"\u001b[39m\u001b[38;5;124mdtype\u001b[39m\u001b[38;5;124m\"\u001b[39m) \u001b[38;5;28;01melse\u001b[39;00m x \u001b[38;5;28;01mfor\u001b[39;00m x \u001b[38;5;129;01min\u001b[39;00m arrays]\n\u001b[0;32m--> 493\u001b[0m \u001b[38;5;28;01mreturn\u001b[39;00m \u001b[43marrays_to_mgr\u001b[49m\u001b[43m(\u001b[49m\u001b[43marrays\u001b[49m\u001b[43m,\u001b[49m\u001b[43m \u001b[49m\u001b[43mcolumns\u001b[49m\u001b[43m,\u001b[49m\u001b[43m \u001b[49m\u001b[43mindex\u001b[49m\u001b[43m,\u001b[49m\u001b[43m \u001b[49m\u001b[43mdtype\u001b[49m\u001b[38;5;241;43m=\u001b[39;49m\u001b[43mdtype\u001b[49m\u001b[43m,\u001b[49m\u001b[43m \u001b[49m\u001b[43mtyp\u001b[49m\u001b[38;5;241;43m=\u001b[39;49m\u001b[43mtyp\u001b[49m\u001b[43m,\u001b[49m\u001b[43m \u001b[49m\u001b[43mconsolidate\u001b[49m\u001b[38;5;241;43m=\u001b[39;49m\u001b[43mcopy\u001b[49m\u001b[43m)\u001b[49m\n",
      "File \u001b[0;32m/opt/conda/lib/python3.10/site-packages/pandas/core/internals/construction.py:123\u001b[0m, in \u001b[0;36marrays_to_mgr\u001b[0;34m(arrays, columns, index, dtype, verify_integrity, typ, consolidate)\u001b[0m\n\u001b[1;32m    120\u001b[0m         index \u001b[38;5;241m=\u001b[39m ensure_index(index)\n\u001b[1;32m    122\u001b[0m     \u001b[38;5;66;03m# don't force copy because getting jammed in an ndarray anyway\u001b[39;00m\n\u001b[0;32m--> 123\u001b[0m     arrays \u001b[38;5;241m=\u001b[39m \u001b[43m_homogenize\u001b[49m\u001b[43m(\u001b[49m\u001b[43marrays\u001b[49m\u001b[43m,\u001b[49m\u001b[43m \u001b[49m\u001b[43mindex\u001b[49m\u001b[43m,\u001b[49m\u001b[43m \u001b[49m\u001b[43mdtype\u001b[49m\u001b[43m)\u001b[49m\n\u001b[1;32m    124\u001b[0m     \u001b[38;5;66;03m# _homogenize ensures\u001b[39;00m\n\u001b[1;32m    125\u001b[0m     \u001b[38;5;66;03m#  - all(len(x) == len(index) for x in arrays)\u001b[39;00m\n\u001b[1;32m    126\u001b[0m     \u001b[38;5;66;03m#  - all(x.ndim == 1 for x in arrays)\u001b[39;00m\n\u001b[0;32m   (...)\u001b[0m\n\u001b[1;32m    129\u001b[0m \n\u001b[1;32m    130\u001b[0m \u001b[38;5;28;01melse\u001b[39;00m:\n\u001b[1;32m    131\u001b[0m     index \u001b[38;5;241m=\u001b[39m ensure_index(index)\n",
      "File \u001b[0;32m/opt/conda/lib/python3.10/site-packages/pandas/core/internals/construction.py:620\u001b[0m, in \u001b[0;36m_homogenize\u001b[0;34m(data, index, dtype)\u001b[0m\n\u001b[1;32m    615\u001b[0m             val \u001b[38;5;241m=\u001b[39m lib\u001b[38;5;241m.\u001b[39mfast_multiget(val, oindex\u001b[38;5;241m.\u001b[39m_values, default\u001b[38;5;241m=\u001b[39mnp\u001b[38;5;241m.\u001b[39mnan)\n\u001b[1;32m    617\u001b[0m         val \u001b[38;5;241m=\u001b[39m sanitize_array(\n\u001b[1;32m    618\u001b[0m             val, index, dtype\u001b[38;5;241m=\u001b[39mdtype, copy\u001b[38;5;241m=\u001b[39m\u001b[38;5;28;01mFalse\u001b[39;00m, raise_cast_failure\u001b[38;5;241m=\u001b[39m\u001b[38;5;28;01mFalse\u001b[39;00m\n\u001b[1;32m    619\u001b[0m         )\n\u001b[0;32m--> 620\u001b[0m         \u001b[43mcom\u001b[49m\u001b[38;5;241;43m.\u001b[39;49m\u001b[43mrequire_length_match\u001b[49m\u001b[43m(\u001b[49m\u001b[43mval\u001b[49m\u001b[43m,\u001b[49m\u001b[43m \u001b[49m\u001b[43mindex\u001b[49m\u001b[43m)\u001b[49m\n\u001b[1;32m    622\u001b[0m     homogenized\u001b[38;5;241m.\u001b[39mappend(val)\n\u001b[1;32m    624\u001b[0m \u001b[38;5;28;01mreturn\u001b[39;00m homogenized\n",
      "File \u001b[0;32m/opt/conda/lib/python3.10/site-packages/pandas/core/common.py:561\u001b[0m, in \u001b[0;36mrequire_length_match\u001b[0;34m(data, index)\u001b[0m\n\u001b[1;32m    557\u001b[0m \u001b[38;5;124;03m\"\"\"\u001b[39;00m\n\u001b[1;32m    558\u001b[0m \u001b[38;5;124;03mCheck the length of data matches the length of the index.\u001b[39;00m\n\u001b[1;32m    559\u001b[0m \u001b[38;5;124;03m\"\"\"\u001b[39;00m\n\u001b[1;32m    560\u001b[0m \u001b[38;5;28;01mif\u001b[39;00m \u001b[38;5;28mlen\u001b[39m(data) \u001b[38;5;241m!=\u001b[39m \u001b[38;5;28mlen\u001b[39m(index):\n\u001b[0;32m--> 561\u001b[0m     \u001b[38;5;28;01mraise\u001b[39;00m \u001b[38;5;167;01mValueError\u001b[39;00m(\n\u001b[1;32m    562\u001b[0m         \u001b[38;5;124m\"\u001b[39m\u001b[38;5;124mLength of values \u001b[39m\u001b[38;5;124m\"\u001b[39m\n\u001b[1;32m    563\u001b[0m         \u001b[38;5;124mf\u001b[39m\u001b[38;5;124m\"\u001b[39m\u001b[38;5;124m(\u001b[39m\u001b[38;5;132;01m{\u001b[39;00m\u001b[38;5;28mlen\u001b[39m(data)\u001b[38;5;132;01m}\u001b[39;00m\u001b[38;5;124m) \u001b[39m\u001b[38;5;124m\"\u001b[39m\n\u001b[1;32m    564\u001b[0m         \u001b[38;5;124m\"\u001b[39m\u001b[38;5;124mdoes not match length of index \u001b[39m\u001b[38;5;124m\"\u001b[39m\n\u001b[1;32m    565\u001b[0m         \u001b[38;5;124mf\u001b[39m\u001b[38;5;124m\"\u001b[39m\u001b[38;5;124m(\u001b[39m\u001b[38;5;132;01m{\u001b[39;00m\u001b[38;5;28mlen\u001b[39m(index)\u001b[38;5;132;01m}\u001b[39;00m\u001b[38;5;124m)\u001b[39m\u001b[38;5;124m\"\u001b[39m\n\u001b[1;32m    566\u001b[0m     )\n",
      "\u001b[0;31mValueError\u001b[0m: Length of values (30) does not match length of index (31)"
     ]
    }
   ],
   "source": [
    "\n",
    "import pandas as pd\n",
    "\n",
    "# Create a DataFrame containing the daily stock prices for the month of January 2023\n",
    "dates = pd.date_range(start='1/1/2023', end='1/31/2023', freq='D')\n",
    "sales = [100, 105, 110, 115, 120, 118, 116, 114, 112, 115,\n",
    "                  117, 119, 121, 120, 118, 116, 114, 112, 110, 108,\n",
    "                  106, 107, 109, 111, 113, 115, 117, 119, 121, 123]\n",
    "df = pd.DataFrame({'sales': sales}, index=dates)\n",
    "\n",
    "# Calculate the 5-day simple moving average of the closing prices\n",
    "sma = df['sales'].rolling(window=7).mean()\n",
    "\n",
    "# Print the DataFrame containing the closing prices and the SMA\n",
    "print(df.join(sma, rsuffix='_SMA'))\n",
    "\n"
   ]
  },
  {
   "cell_type": "code",
   "execution_count": null,
   "id": "f5c2dda2-5fe4-45a4-8605-3f370a8cd170",
   "metadata": {},
   "outputs": [],
   "source": [
    "Q11. You have a Pandas DataFrame df with a column 'Date'. Write a Python function that creates a new\n",
    "column 'Weekday' in the DataFrame. The 'Weekday' column should contain the weekday name (e.g.\n",
    "Monday, Tuesday) corresponding to each date in the 'Date' column.\n",
    "For example, if df contains the following values:\n",
    "Date\n",
    "0 2023-01-01\n",
    "1 2023-01-02\n",
    "2 2023-01-03\n",
    "3 2023-01-04\n",
    "4 2023-01-05\n",
    "Your function should create the following DataFrame:\n",
    "\n",
    "Date Weekday\n",
    "0 2023-01-01 Sunday\n",
    "1 2023-01-02 Monday\n",
    "2 2023-01-03 Tuesday\n",
    "3 2023-01-04 Wednesday\n",
    "4 2023-01-05 Thursday\n",
    "The function should return the modified DataFrame.\n",
    "\n"
   ]
  },
  {
   "cell_type": "code",
   "execution_count": 7,
   "id": "46ddb87e-e80e-49cf-ae29-ea338754c040",
   "metadata": {},
   "outputs": [
    {
     "data": {
      "text/html": [
       "<div>\n",
       "<style scoped>\n",
       "    .dataframe tbody tr th:only-of-type {\n",
       "        vertical-align: middle;\n",
       "    }\n",
       "\n",
       "    .dataframe tbody tr th {\n",
       "        vertical-align: top;\n",
       "    }\n",
       "\n",
       "    .dataframe thead th {\n",
       "        text-align: right;\n",
       "    }\n",
       "</style>\n",
       "<table border=\"1\" class=\"dataframe\">\n",
       "  <thead>\n",
       "    <tr style=\"text-align: right;\">\n",
       "      <th></th>\n",
       "      <th>Date</th>\n",
       "      <th>Number</th>\n",
       "      <th>Day</th>\n",
       "    </tr>\n",
       "  </thead>\n",
       "  <tbody>\n",
       "    <tr>\n",
       "      <th>0</th>\n",
       "      <td>2023-01-01</td>\n",
       "      <td>1</td>\n",
       "      <td>Sunday</td>\n",
       "    </tr>\n",
       "    <tr>\n",
       "      <th>1</th>\n",
       "      <td>2023-01-02</td>\n",
       "      <td>2</td>\n",
       "      <td>Monday</td>\n",
       "    </tr>\n",
       "    <tr>\n",
       "      <th>2</th>\n",
       "      <td>2023-01-03</td>\n",
       "      <td>3</td>\n",
       "      <td>Tuesday</td>\n",
       "    </tr>\n",
       "    <tr>\n",
       "      <th>3</th>\n",
       "      <td>2023-01-04</td>\n",
       "      <td>4</td>\n",
       "      <td>Wednesday</td>\n",
       "    </tr>\n",
       "    <tr>\n",
       "      <th>4</th>\n",
       "      <td>2023-01-05</td>\n",
       "      <td>5</td>\n",
       "      <td>Thursday</td>\n",
       "    </tr>\n",
       "  </tbody>\n",
       "</table>\n",
       "</div>"
      ],
      "text/plain": [
       "         Date  Number        Day\n",
       "0  2023-01-01       1     Sunday\n",
       "1  2023-01-02       2     Monday\n",
       "2  2023-01-03       3    Tuesday\n",
       "3  2023-01-04       4  Wednesday\n",
       "4  2023-01-05       5   Thursday"
      ]
     },
     "execution_count": 7,
     "metadata": {},
     "output_type": "execute_result"
    }
   ],
   "source": [
    "import pandas as pd\n",
    "import datetime\n",
    "\n",
    "df = pd.DataFrame({'Date':['2023-01-01','2023-01-02','2023-01-03','2023-01-04','2023-01-05'],'Number':[1,2,3,4,5]})\n",
    "\n",
    "df['Day'] = pd.DatetimeIndex(df['Date']).day_name() # week day name\n",
    "df.head()\n",
    "\n"
   ]
  },
  {
   "cell_type": "code",
   "execution_count": null,
   "id": "dd02e411-84cf-4a30-a2f6-eb907ec8c86a",
   "metadata": {},
   "outputs": [],
   "source": [
    "Q12. Given a Pandas DataFrame df with a column 'Date' that contains timestamps, write a Python\n",
    "function to select all rows where the date is between '2023-01-01' and '2023-01-31'.\n"
   ]
  },
  {
   "cell_type": "code",
   "execution_count": 8,
   "id": "9480e8fe-f0c5-4ed1-9ca4-5fab8edd242a",
   "metadata": {},
   "outputs": [
    {
     "name": "stdout",
     "output_type": "stream",
     "text": [
      "                   0         1         2\n",
      "date                                    \n",
      "2023-01-01  0.171097  0.642989  0.025573\n",
      "2023-01-02  0.641217  0.876356  0.334333\n",
      "2023-01-03  0.392481  0.403161  0.729793\n",
      "2023-01-04  0.513377  0.814954  0.554052\n",
      "2023-01-05  0.951855  0.616768  0.645496\n",
      "2023-01-06  0.885870  0.430398  0.751211\n",
      "2023-01-07  0.119748  0.669723  0.952834\n",
      "2023-01-08  0.468187  0.391271  0.730461\n",
      "2023-01-09  0.679269  0.044789  0.426251\n",
      "2023-01-10  0.465058  0.085663  0.986159\n",
      "2023-01-11  0.457752  0.539787  0.540008\n",
      "2023-01-12  0.067994  0.342276  0.799321\n",
      "2023-01-13  0.833715  0.529253  0.326636\n",
      "2023-01-14  0.597370  0.428339  0.224373\n",
      "2023-01-15  0.624968  0.781455  0.600193\n",
      "2023-01-16  0.125884  0.400557  0.731332\n",
      "2023-01-17  0.026050  0.301995  0.260282\n",
      "2023-01-18  0.237162  0.501115  0.282602\n",
      "2023-01-19  0.870245  0.605731  0.711025\n",
      "2023-01-20  0.314314  0.424298  0.017710\n",
      "2023-01-21  0.329580  0.262042  0.957451\n",
      "2023-01-22  0.077678  0.421313  0.161814\n",
      "2023-01-23  0.541094  0.039709  0.150659\n",
      "2023-01-24  0.263984  0.594221  0.394899\n",
      "2023-01-25  0.271356  0.654447  0.219320\n",
      "2023-01-26  0.719514  0.890995  0.386532\n",
      "2023-01-27  0.556687  0.164333  0.820616\n",
      "2023-01-28  0.240884  0.422826  0.224693\n",
      "2023-01-29  0.964693  0.302032  0.220107\n",
      "2023-01-30  0.233260  0.686629  0.770049\n",
      "2023-01-31  0.969454  0.145982  0.556381\n"
     ]
    }
   ],
   "source": [
    "import numpy as np\n",
    "import pandas as pd\n",
    "\n",
    "df = pd.DataFrame(np.random.random((200,3)))\n",
    "df['date'] = pd.date_range('2023-1-1', periods=200, freq='D')\n",
    "df = df.set_index(['date'])\n",
    "print(df.loc['2023-1-1':'2023-1-31'])\n",
    "\n"
   ]
  },
  {
   "cell_type": "code",
   "execution_count": null,
   "id": "f08d4248-ba4c-4011-a05e-14bb1c042d96",
   "metadata": {},
   "outputs": [],
   "source": [
    "Q13. To use the basic functions of pandas, what is the first and foremost \n",
    "necessary library that needs to be imported?\n",
    "\n",
    "Pandas is built on top of two core Python libraries—matplotlib for data visualization\n",
    "and NumPy for mathematical operations. Pandas acts as a wrapper over these libraries, \n",
    "allowing you to access many of matplotlib's and NumPy's methods with less code.\n"
   ]
  }
 ],
 "metadata": {
  "kernelspec": {
   "display_name": "Python 3 (ipykernel)",
   "language": "python",
   "name": "python3"
  },
  "language_info": {
   "codemirror_mode": {
    "name": "ipython",
    "version": 3
   },
   "file_extension": ".py",
   "mimetype": "text/x-python",
   "name": "python",
   "nbconvert_exporter": "python",
   "pygments_lexer": "ipython3",
   "version": "3.10.8"
  }
 },
 "nbformat": 4,
 "nbformat_minor": 5
}

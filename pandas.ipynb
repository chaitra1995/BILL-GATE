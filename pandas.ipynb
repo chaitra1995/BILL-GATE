{
 "cells": [
  {
   "cell_type": "code",
   "execution_count": null,
   "id": "2f5abd79-96da-4687-9201-5f50d1b42678",
   "metadata": {},
   "outputs": [],
   "source": [
    "Q1. Create a Pandas Series that contains the following data: 4, 8, 15, 16, 23, \n",
    "and 42. Then, print the series."
   ]
  },
  {
   "cell_type": "code",
   "execution_count": 1,
   "id": "ffb19bb6-6f0b-4742-a9f4-78aabc81772d",
   "metadata": {},
   "outputs": [
    {
     "name": "stdout",
     "output_type": "stream",
     "text": [
      "0     4\n",
      "1     8\n",
      "2    15\n",
      "3    16\n",
      "4    23\n",
      "5    42\n",
      "dtype: int64\n"
     ]
    }
   ],
   "source": [
    "import pandas as pd\n",
    "ds = pd.Series([4, 8, 15, 16, 23,42])\n",
    "print(ds)"
   ]
  },
  {
   "cell_type": "code",
   "execution_count": null,
   "id": "f80f9391-fa1b-4b44-ac62-5addfafaf3d1",
   "metadata": {},
   "outputs": [],
   "source": [
    "Q2. Create a variable of list type containing 10 elements in it, and apply\n",
    "pandas.Series function on the variable print it."
   ]
  },
  {
   "cell_type": "code",
   "execution_count": 2,
   "id": "1fb2905c-1688-48f1-8fde-43cb76bc02aa",
   "metadata": {},
   "outputs": [
    {
     "name": "stdout",
     "output_type": "stream",
     "text": [
      "0      Jon\n",
      "1     Mark\n",
      "2    Maria\n",
      "3     Jill\n",
      "4     Jack\n",
      "dtype: object\n"
     ]
    }
   ],
   "source": [
    "import pandas as pd\n",
    "people_list = ['Jon','Mark','Maria','Jill','Jack']\n",
    "my_series = pd.Series(people_list)\n",
    "print(my_series)\n"
   ]
  },
  {
   "cell_type": "code",
   "execution_count": null,
   "id": "5a02c054-f3e4-4721-be71-910d840a9d19",
   "metadata": {},
   "outputs": [],
   "source": [
    "Q3. Create a Pandas DataFrame that contains the following data:\n",
    "Then, print the DataFrame.\n",
    "\n",
    "Name\t  Age\tGender\n",
    "Alice\t  25\tFemale\n",
    "Bob\t      30\tMale\n",
    "Clarie\t  27\tFemale\n"
   ]
  },
  {
   "cell_type": "code",
   "execution_count": 3,
   "id": "ca720874-a04d-4578-a0ad-1e01ca087bd4",
   "metadata": {},
   "outputs": [
    {
     "name": "stdout",
     "output_type": "stream",
     "text": [
      "      Name  Age  Gender\n",
      "1    Alice   25  female\n",
      "2      Bob   30    male\n",
      "3  charlie   27  female\n"
     ]
    }
   ],
   "source": [
    "import pandas\n",
    "food_input={\n",
    "                  'Name':['Alice','Bob','charlie'],\n",
    "                  'Age':[25,30,27],\n",
    "                  'Gender':['female','male','female']}\n",
    "dataframe=pandas.DataFrame(food_input,index = ['1', '2', '3'])\n",
    "print(dataframe)\n"
   ]
  },
  {
   "cell_type": "code",
   "execution_count": null,
   "id": "2a896e7b-cc81-453b-9263-49e1e57cab09",
   "metadata": {},
   "outputs": [],
   "source": [
    "Q4. What is ‘DataFrame’ in pandas and how is it different from pandas series?\n",
    "Explain with an example.\n",
    "\n",
    "DataFrame is a 2-dimensional labeled data structure with columns of potentially different types.\n",
    "You can think of it like a spreadsheet or SQL table, or a dict of Series objects.\n",
    "It is generally the most commonly used pandas object. The DataFrame actually consists of Index \n",
    "objects for the axes labels (row and column labels) and Series objects for the column data.\n",
    "The Series object provides encapsulation for each of the column data\n",
    "(which is held in a one dimensional numpy. ndarray ), with row labels and the column label.\n",
    "Series is 1-Dimentional  where as dataframe is 2-Dimentional .\n",
    "Type of Data – series Homogeneous – All elements must be of same data type.\n",
    "where as dataframe is  Heterogeneous – DataFrame objects can have different data types. \n",
    "Mutability- series  Size- Immutable: Size of a series object, once created, cannot change.\n",
    "where as  dataframe  Size – Mutable : We can drop or add the elements in an existing dataframe object.\n"
   ]
  },
  {
   "cell_type": "code",
   "execution_count": null,
   "id": "86ad30a6-0dde-429e-b385-1461b6551be9",
   "metadata": {},
   "outputs": [],
   "source": [
    "Q5. What are some common functions you can use to manipulate data in a Pandas DataFrame?\n",
    "Can you give an example of when you might use one of these functions?\n",
    "\n",
    "The Pandas apply() function can be used to apply a function on every value in a column \n",
    "or row of a DataFrame, and transform that column or row to the resulting values.\n",
    "By default, it will apply a function to all values of a column.\n",
    "Pandas Functions to get Deeper Insights into the Dataset:\n",
    "1 . isnull() This function helps you to check if there in which row and which column \n",
    "your data has missing values. ...\n",
    "2. fillna() This function is used to replace missing values or NaN in the df with\n",
    "user-defined values. ...\n",
    "3. sort_values() ...\n",
    "4. df.value_counts()\n"
   ]
  },
  {
   "cell_type": "code",
   "execution_count": null,
   "id": "474b8d72-7cd2-471c-ac24-b9757acaa903",
   "metadata": {},
   "outputs": [],
   "source": [
    "Q6. Which of the following is mutable in nature Series, DataFrame, Panel?\n",
    "\n",
    "All Pandas data structures are value mutable (can be changed) and\n",
    "except Series all are size mutable.\n",
    "\n",
    "\n"
   ]
  },
  {
   "cell_type": "code",
   "execution_count": null,
   "id": "5d336883-77a3-4a98-a33c-0eb751f00afa",
   "metadata": {},
   "outputs": [],
   "source": [
    "Q7. Create a DataFrame using multiple Series. Explain with an example.\n",
    "\n",
    "You can create a DataFrame from multiple Series objects by adding each series as a columns.\n",
    "By using concat() method you can merge multiple series together into DataFrame. \n",
    "This takes several params, for our scenario we use list that takes series \n",
    "to combine and axis=1 to specify merge series as columns instead of rows.\n"
   ]
  },
  {
   "cell_type": "code",
   "execution_count": null,
   "id": "6a91a616-ecb4-4a07-90cb-acefb89c034a",
   "metadata": {},
   "outputs": [],
   "source": []
  },
  {
   "cell_type": "code",
   "execution_count": null,
   "id": "fb63103a-caa3-49eb-9807-3c1ea042d408",
   "metadata": {},
   "outputs": [],
   "source": []
  },
  {
   "cell_type": "code",
   "execution_count": null,
   "id": "9c567cc3-5384-4d6d-ae93-ca310e402839",
   "metadata": {},
   "outputs": [],
   "source": []
  },
  {
   "cell_type": "code",
   "execution_count": null,
   "id": "a2cc733c-91e9-4455-a18e-712118f21239",
   "metadata": {},
   "outputs": [],
   "source": []
  }
 ],
 "metadata": {
  "kernelspec": {
   "display_name": "Python 3 (ipykernel)",
   "language": "python",
   "name": "python3"
  },
  "language_info": {
   "codemirror_mode": {
    "name": "ipython",
    "version": 3
   },
   "file_extension": ".py",
   "mimetype": "text/x-python",
   "name": "python",
   "nbconvert_exporter": "python",
   "pygments_lexer": "ipython3",
   "version": "3.10.8"
  }
 },
 "nbformat": 4,
 "nbformat_minor": 5
}

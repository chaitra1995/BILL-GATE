{
 "cells": [
  {
   "cell_type": "code",
   "execution_count": null,
   "id": "0ffb43a3-4c33-4334-9687-774a361b2005",
   "metadata": {},
   "outputs": [],
   "source": [
    "\n",
    "1.You are writing  code for a company . the requirement of the company  is that you create a python function that will check whether the password entered  by the user is correct or not . the function should take the password as input and return the string “valid password”if the entered password follows the below given password guidelines else it should return “invalid password”. \n",
    "\n"
   ]
  },
  {
   "cell_type": "code",
   "execution_count": 2,
   "id": "9488a7e4-4073-438f-891d-8d0d6b7402ed",
   "metadata": {},
   "outputs": [
    {
     "name": "stdin",
     "output_type": "stream",
     "text": [
      "Input your password cv@H1994\n"
     ]
    },
    {
     "name": "stdout",
     "output_type": "stream",
     "text": [
      "Valid Password\n"
     ]
    }
   ],
   "source": [
    "import re\n",
    "p= input(\"Input your password\")\n",
    "x = True\n",
    "while x:  \n",
    "    if (len(p)<6 or len(p)>12):\n",
    "        break\n",
    "    elif not re.search(\"[a-z]\",p):\n",
    "        break\n",
    "    elif not re.search(\"[0-9]\",p):\n",
    "        break\n",
    "    elif not re.search(\"[A-Z]\",p):\n",
    "        break\n",
    "    elif not re.search(\"[$#@]\",p):\n",
    "        break\n",
    "    elif re.search(\"\\s\",p):\n",
    "        break\n",
    "    else:\n",
    "        print(\"Valid Password\")\n",
    "        x=False\n",
    "        break\n",
    "\n",
    "if x:\n",
    "    print(\"Not a Valid Password\")\n"
   ]
  },
  {
   "cell_type": "code",
   "execution_count": null,
   "id": "0267f31a-45b9-4adb-aaa6-4fe41723b139",
   "metadata": {},
   "outputs": [],
   "source": [
    "2.solve the below given questions  using atleast  one of the following\n",
    "1.lambda function.\n",
    "2.filter function.\n",
    "3.Map function.\n",
    "4.list comprehension.\n",
    "a. Check  if string starts with a particular letter.\n"
   ]
  },
  {
   "cell_type": "code",
   "execution_count": 3,
   "id": "90529a2c-c823-463e-a4ba-3f25b2d0cc68",
   "metadata": {},
   "outputs": [
    {
     "name": "stdout",
     "output_type": "stream",
     "text": [
      "True\n",
      "False\n"
     ]
    }
   ],
   "source": [
    "starts_with=lambda x:True if x.startswith('P')else False\n",
    "print(starts_with('Python'))\n",
    "starts_with=lambda x:True if x.startswith('P')else False\n",
    "print(starts_with('java'))\n"
   ]
  },
  {
   "cell_type": "code",
   "execution_count": null,
   "id": "848dde46-5a4a-4b75-a605-2a43c6581d5a",
   "metadata": {},
   "outputs": [],
   "source": [
    "b. check if string is numeric."
   ]
  },
  {
   "cell_type": "code",
   "execution_count": 4,
   "id": "8d74a468-ec29-423d-99a7-9d66f12864c7",
   "metadata": {},
   "outputs": [
    {
     "name": "stdout",
     "output_type": "stream",
     "text": [
      "True\n",
      "False\n",
      "False\n",
      "False\n",
      "True\n",
      "True\n",
      "True\n",
      "False\n"
     ]
    }
   ],
   "source": [
    "is_num=lambda q:q.replace('.','',1).isdigit()\n",
    "print(is_num('224354'))\n",
    "print(is_num('chaitra'))\n",
    "print(is_num('-9776'))\n",
    "print(is_num('A001'))\n",
    "print(is_num('45.78'))\n",
    "is_num1=lambda r:is_num(r[1:]) if r[0]=='-'else is_num(r)\n",
    "print(is_num1('-7474'))\n",
    "print(is_num1('-56.87'))\n",
    "print(is_num1('navya'))\n"
   ]
  },
  {
   "cell_type": "code",
   "execution_count": null,
   "id": "4fe724a0-af99-46c4-bfcf-c01c5152eb10",
   "metadata": {},
   "outputs": [],
   "source": [
    "c. sort the list of tuples having  fruit names and their quality.[(“mango “,99),(“orange”,80),(“grapes “,1000)]"
   ]
  },
  {
   "cell_type": "code",
   "execution_count": 6,
   "id": "95372790-dc0f-4dc7-9ab4-47b058ffe6a5",
   "metadata": {},
   "outputs": [
    {
     "name": "stdout",
     "output_type": "stream",
     "text": [
      "[('grapes', 1000), ('mango', 99), ('orange', 80)]\n"
     ]
    }
   ],
   "source": [
    "fruits=[('mango',99 ),('orange',80),('grapes',1000)]\n",
    "quality=sorted(fruits,key=lambda x:x[0])\n",
    "print(quality)\t\n"
   ]
  },
  {
   "cell_type": "code",
   "execution_count": null,
   "id": "67023814-dff4-482b-a68d-6315c32a2e55",
   "metadata": {},
   "outputs": [],
   "source": [
    "d. find the squares of the number from 1 to 10."
   ]
  },
  {
   "cell_type": "code",
   "execution_count": 7,
   "id": "c95eb5af-e85a-4542-bc18-6f5cde31ace1",
   "metadata": {},
   "outputs": [
    {
     "name": "stdout",
     "output_type": "stream",
     "text": [
      "original list\n",
      "[1, 2, 3, 4, 5, 6, 7, 8, 9, 10]\n",
      "square of every number :\n",
      "[1, 4, 9, 16, 25, 36, 49, 64, 81, 100]\n"
     ]
    }
   ],
   "source": [
    "num=[1,2,3,4,5,6,7,8,9,10]\n",
    "print(\"original list\")\n",
    "print(num)\n",
    "print(\"square of every number :\")\n",
    "square_num=list(map(lambda x:x**2,num))\n",
    "print(square_num)\n"
   ]
  },
  {
   "cell_type": "code",
   "execution_count": null,
   "id": "2550a9e5-5a68-4b0f-b24f-265fa040baf2",
   "metadata": {},
   "outputs": [],
   "source": [
    "e. find the cube of the number from 1 to 10\t"
   ]
  },
  {
   "cell_type": "code",
   "execution_count": 8,
   "id": "7b012cd6-896e-4709-bf75-5bc2c9624b57",
   "metadata": {},
   "outputs": [
    {
     "name": "stdout",
     "output_type": "stream",
     "text": [
      "original list\n",
      "[1, 2, 3, 4, 5, 6, 7, 8, 9, 10]\n",
      "cube of every number:\n",
      "[1, 8, 27, 64, 125, 216, 343, 512, 729, 1000]\n"
     ]
    }
   ],
   "source": [
    "num=[1,2,3,4,5,6,7,8,9,10]\n",
    "print(\"original list\")\n",
    "print(num)\n",
    "print(\"cube of every number:\")\n",
    "cube_num=list(map(lambda x:x**3,num))\n",
    "print(cube_num)\n"
   ]
  },
  {
   "cell_type": "code",
   "execution_count": null,
   "id": "60832854-992f-4160-afe6-068a2bbe81d5",
   "metadata": {},
   "outputs": [],
   "source": [
    "f. check if the given number is even."
   ]
  },
  {
   "cell_type": "code",
   "execution_count": 10,
   "id": "44054e1d-bd6c-413a-bd41-09ba79c8a61e",
   "metadata": {},
   "outputs": [
    {
     "name": "stdin",
     "output_type": "stream",
     "text": [
      "Enter a number >>  2\n"
     ]
    },
    {
     "name": "stdout",
     "output_type": "stream",
     "text": [
      "Even Number\n"
     ]
    }
   ],
   "source": [
    "number = int(input(\"Enter a number >> \"))\n",
    "odd_even = lambda : \"Even Number\" if number % 2 == 0 else \"Odd Number\"\n",
    "print(odd_even())\n"
   ]
  },
  {
   "cell_type": "code",
   "execution_count": null,
   "id": "e900ccb4-0ec5-421d-844a-e7ac92c2d99f",
   "metadata": {},
   "outputs": [],
   "source": [
    "g.filter the odd numbers from the given list.\n",
    "[1,2,3,4,5,6,7,8,9,10]"
   ]
  },
  {
   "cell_type": "code",
   "execution_count": 11,
   "id": "ca7e3725-4088-42a9-b1d5-02e847cc1f47",
   "metadata": {},
   "outputs": [
    {
     "name": "stdout",
     "output_type": "stream",
     "text": [
      "Original list of integers:\n",
      "[1, 2, 3, 4, 5, 6, 7, 8, 9, 10]\n",
      "\n",
      "Odd numbers from the said list:\n",
      "[1, 3, 5, 7, 9]\n"
     ]
    }
   ],
   "source": [
    "nums = [1, 2, 3, 4, 5, 6, 7, 8, 9, 10]\n",
    "print(\"Original list of integers:\")\n",
    "print(nums)\n",
    "print(\"\\nOdd numbers from the said list:\")\n",
    "odd_nums = list(filter(lambda x: x%2 != 0, nums))\n",
    "print(odd_nums)\n"
   ]
  },
  {
   "cell_type": "code",
   "execution_count": null,
   "id": "9f098848-b31f-4523-8766-17f7c5915d51",
   "metadata": {},
   "outputs": [],
   "source": [
    "h.sort the list of intergers into positive and negative integers lists.\n",
    "[1,2,3,4,5,6-1,-2,-3,-4,-5,0]  "
   ]
  },
  {
   "cell_type": "code",
   "execution_count": 12,
   "id": "edf763cc-340e-4b9d-8bbb-1d9347188426",
   "metadata": {},
   "outputs": [
    {
     "name": "stdout",
     "output_type": "stream",
     "text": [
      "The original list is : [1, 2, 3, 4, 5, 6, -1, -2, -3, -4, -5, 0]\n",
      "Result after performing sort operation : [1, 2, 3, 4, 5, 6, 0, -5, -4, -3, -2, -1]\n"
     ]
    }
   ],
   "source": [
    "test_list=[1,2,3,4,5,6,-1,-2,-3,-4,-5,0]  \n",
    "print(\"The original list is : \" + str(test_list))\n",
    "res = sorted(test_list, key = lambda i: 0 if i == 0 else -1 / i)\n",
    "print(\"Result after performing sort operation : \" + str(res))\n"
   ]
  },
  {
   "cell_type": "code",
   "execution_count": null,
   "id": "cf30d2c5-c89e-466e-9169-ec37e3b48775",
   "metadata": {},
   "outputs": [],
   "source": []
  }
 ],
 "metadata": {
  "kernelspec": {
   "display_name": "Python 3 (ipykernel)",
   "language": "python",
   "name": "python3"
  },
  "language_info": {
   "codemirror_mode": {
    "name": "ipython",
    "version": 3
   },
   "file_extension": ".py",
   "mimetype": "text/x-python",
   "name": "python",
   "nbconvert_exporter": "python",
   "pygments_lexer": "ipython3",
   "version": "3.10.8"
  }
 },
 "nbformat": 4,
 "nbformat_minor": 5
}

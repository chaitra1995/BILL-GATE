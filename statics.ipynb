{
 "cells": [
  {
   "cell_type": "code",
   "execution_count": null,
   "id": "c811def6-ee42-44e9-b366-a298c748e67a",
   "metadata": {},
   "outputs": [],
   "source": [
    "Q1: What are the Probability Mass Function (PMF) and Probability Density\n",
    "Function (PDF)? Explain with an example.\n",
    "Probability mass function denotes the probability that a discrete random variable \n",
    "will take on a particular value. Probability density function gives the probability\n",
    "that a continuous random variable will lie between a certain specified interval.\n",
    "It is used for discrete random variables.\n",
    "Probability Mass Function Ex:\n",
    "So, putting it all together, P(X = x) = f (x) means: The chance of variable X\n",
    "assuming the specific value of x equals f (x). For example, when considering \n",
    "three heads in a series of coin tosses, the PMF notation is: P(Heads = 3) = f (x).\n",
    "Probability  Density Function  Ex:\n",
    "Unlike a probability, a probability density function can take on values\n",
    " greater than one; for example, the continuous uniform distribution on the interval\n",
    "[0, 1/2] has probability density f(x) = 2 for 0 ≤ x ≤ 1/2 and f(x) = 0 elsewhere.\n",
    "\n"
   ]
  },
  {
   "cell_type": "code",
   "execution_count": null,
   "id": "b1be85ee-b33c-45e7-93d0-44a2ef845e4b",
   "metadata": {},
   "outputs": [],
   "source": [
    "Q2: What is Cumulative Density Function (CDF)?\n",
    "Explain with an example. Why CDF is used?\n",
    "The Cumulative Distribution Function (CDF), of a real-valued random variable X,\n",
    "evaluated at x, is the probability function that X will take a value less than or\n",
    "equal to x. It is used to describe the probability distribution of random variables\n",
    "in a table. And with the help of these data, we can easily create a CDF plot in an excel\n",
    "sheet.In other words, CDF finds the cumulative probability for the given value.\n",
    "To determine the probability of a random variable, it is used and also to compare \n",
    "the probability between values under certain conditions. For discrete distribution\n",
    "functions, CDF gives the probability values till what we specify and for continuous\n",
    "distribution functions, it gives the area under the probability density function up\n",
    "to the given value specified.\n"
   ]
  },
  {
   "cell_type": "code",
   "execution_count": null,
   "id": "78651bfd-2254-495c-8046-00461914ce27",
   "metadata": {},
   "outputs": [],
   "source": [
    "Q3: What are some examples of situations where the normal \n",
    "distribution might be used as a model? \n",
    "Explain how the parameters of the normal distribution relate to the shape of the distribution.\n",
    "Characteristics that are the sum of many independent processes frequently follow normal distributions.\n",
    "For example, heights, blood pressure, measurement error, and IQ scores follow the normal distribution.\n",
    "The two main parameters of a (normal) distribution are the mean and standard deviation. The parameters\n",
    "determine the shape and probabilities of the distribution. The shape of the distribution changes as\n",
    "the parameter values change\n"
   ]
  },
  {
   "cell_type": "code",
   "execution_count": null,
   "id": "500a2cfc-eeef-44d6-89de-ad332922cc2b",
   "metadata": {},
   "outputs": [],
   "source": [
    "Q4: Explain the importance of Normal Distribution. Give a few real-life examples of Normal \n",
    "Distribution. \n",
    "One reason the normal distribution is important is that many psychological and educational\n",
    "variables are distributed approximately normally. Measures of reading ability, introversion,\n",
    "job satisfaction, and memory are among the many psychological variables approximately normally\n",
    "distributed.All kinds of variables in natural and social sciences are normally or approximately \n",
    "normally distributed. Height, birth weight, reading ability, job satisfaction, or SAT scores are\n",
    "just a few examples of such variables.\n"
   ]
  },
  {
   "cell_type": "code",
   "execution_count": null,
   "id": "70134a84-b6a8-4684-9325-fec344c356a5",
   "metadata": {},
   "outputs": [],
   "source": [
    "Q5: What is Bernoulli Distribution? Give an Example. What is the difference between Bernoulli \n",
    "Distribution and Binomial Distribution?\n",
    "\n",
    "The Bernoulli distribution is, essentially, a calculation that allows you to create a model \n",
    "for the set of possible outcomes of a Bernoulli trial. So, whenever you have an event that has\n",
    "only two possible outcomes, Bernoulli distribution enables you to calculate the probability of\n",
    "each outcome Bernoulli distribution therefore describes events having exactly two outcomes,\n",
    "which are ubiquitous in real life. Some examples of such events are as follows: a team will\n",
    "win a championship or not, a student will pass or fail an exam, and a rolled dice will either\n",
    "show a 6 or any other number.The Bernoulli distribution represents the success or failure of \n",
    "a single Bernoulli trial. The Binomial Distribution represents the number of successes and \n",
    "failures in n independent Bernoulli trials for some given value of n.\n",
    "\n"
   ]
  },
  {
   "cell_type": "code",
   "execution_count": null,
   "id": "76bb1e41-dcdc-4907-ab7c-7e3bc4e7b578",
   "metadata": {},
   "outputs": [],
   "source": [
    "Q6. Consider a dataset with a mean of 50 and a standard deviation of 10. If we assume that the dataset \n",
    "is normally distributed, what is the probability that a randomly selected observation will be greater \n",
    "than 60? Use the appropriate formula and show your calculations.\n",
    "Suppose X ~ N(50, 10). This says that x is a normally distributed random variable with mean μ = 50\n",
    "and standard deviation σ = 10. Suppose x = 60. Then:z=x−μ/σ  z=60-50/10=10/10=1\n",
    "This means that x = 17 is two standard deviations (2σ) above or to the right of the mean μ = 5. \n",
    "The standard deviation is σ = 6.Notice that: 60 + (1)(10) = 70 (The pattern is μ + zσ = x)\n",
    "Now suppose x = 1. Then: z=x−μ/σ= z=1−50/10=549\n",
    "(rounded to two decimal places)\n",
    "This means that x = 1 is 4.9 standard deviations (4.9σ) below or to the left of the mean μ = 50.\n",
    "Notice that: 50 + (4.9)(10) is approximately equal to one (This has the pattern μ + (4.9)σ = 1)\n",
    "Summarizing, when z is positive, x is above or to the right of μ and when zis negative, x is to \n",
    "the left of or below μ. Or, when z is positive, x is greater than μ, and when z is negative x is less than μ.\n"
   ]
  },
  {
   "cell_type": "code",
   "execution_count": null,
   "id": "413b7bf2-5d5b-4e38-8023-43f830bbbdde",
   "metadata": {},
   "outputs": [],
   "source": [
    "Q7: Explain uniform Distribution with an example.\n",
    " In statistics, uniform distribution refers to a type of probability distribution in which all\n",
    "outcomes are equally likely. A deck of cards has within it uniform distributions because the \n",
    "likelihood of drawing a heart, a club, a diamond, or a spade is equally likely.\n",
    "\n"
   ]
  },
  {
   "cell_type": "code",
   "execution_count": null,
   "id": "ca65e8b6-a1f7-4d68-8df8-3d654a373165",
   "metadata": {},
   "outputs": [],
   "source": [
    "Q8: What is the z score? State the importance of the z score.\n",
    "The z-score shows the number of standard deviations a given data point lies from the mean. \n",
    "So, standard deviation must be calculated first because the z-score uses it to communicate \n",
    "a data point's variability. Z-scores are important because they offer a comparison between \n",
    "two scores that are not in the same normal distribution. They are also used to obtain the \n",
    "probability of a z-score to take place within a normal distribution. If a z-score gives a\n",
    "negative value, it means that raw data is lesser than mean.\n",
    "\n"
   ]
  },
  {
   "cell_type": "code",
   "execution_count": null,
   "id": "fe2a592f-1919-4bd0-bcee-36699fab7f1d",
   "metadata": {},
   "outputs": [],
   "source": [
    "Q9: What is Central Limit Theorem? State the significance of the Central Limit Theorem.\n",
    "The central limit theorem states that if you take sufficiently large samples from a population,\n",
    "the samples' means will be normally distributed, even if the population isn't normally distributed\n",
    "Significance of Central Limit Theorem\n",
    "The CLT has several applications. Look at the places where you can use it.\n",
    "•\tPolitical/election polling is a great example of how you can use CLT. These polls are used\n",
    "to estimate the number of people who support a specific candidate. You may have seen these results\n",
    "with confidence intervals on news channels. The CLT aids in this calculation.\n",
    "•\tYou use the CLT in various census fields to calculate various population details,\n",
    "such as family income, electricity consumption, individual salaries, and so on.\n"
   ]
  },
  {
   "cell_type": "code",
   "execution_count": null,
   "id": "886abe03-83ef-43a4-8bac-4bc24576c2ce",
   "metadata": {},
   "outputs": [],
   "source": [
    "Q10: State the assumptions of the Central Limit Theorem.\n",
    "The assumptions of central limit theorem.\t\n",
    "•\tThe data must adhere to the randomization rule. It needs to be sampled at random.\n",
    "•\tThe samples should be unrelated to one another. One sample should not impact the others.\n",
    "•\tWhen taking samples without replacement, the sample size should not exceed 10% of the population.\n",
    "When the population is symmetric, a sample size of 30 is generally considered reasonable. \n"
   ]
  },
  {
   "cell_type": "code",
   "execution_count": null,
   "id": "2e6bd1f2-5ca6-4c58-80d7-b21dffe43a3e",
   "metadata": {},
   "outputs": [],
   "source": []
  },
  {
   "cell_type": "code",
   "execution_count": null,
   "id": "44551b5f-ddfe-420d-9d55-ac81ced9865b",
   "metadata": {},
   "outputs": [],
   "source": []
  }
 ],
 "metadata": {
  "kernelspec": {
   "display_name": "Python 3 (ipykernel)",
   "language": "python",
   "name": "python3"
  },
  "language_info": {
   "codemirror_mode": {
    "name": "ipython",
    "version": 3
   },
   "file_extension": ".py",
   "mimetype": "text/x-python",
   "name": "python",
   "nbconvert_exporter": "python",
   "pygments_lexer": "ipython3",
   "version": "3.10.8"
  }
 },
 "nbformat": 4,
 "nbformat_minor": 5
}

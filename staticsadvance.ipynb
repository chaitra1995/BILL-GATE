{
 "cells": [
  {
   "cell_type": "code",
   "execution_count": null,
   "id": "f8ec7e25-6642-4a85-8fb2-7e8ad6db5ca5",
   "metadata": {},
   "outputs": [],
   "source": [
    "Q1. What are the three measures of central tendency?\n",
    "\n",
    "There are three main measures of central tendency:\n",
    "•\tmode.\n",
    "•\tmedian.\n",
    "•\tmean.\n"
   ]
  },
  {
   "cell_type": "raw",
   "id": "bb4c3f11-0e92-4878-80d3-ef9760226a5b",
   "metadata": {},
   "source": [
    " Q2. What is the difference between the mean, median, and mode? \n",
    "    How are they used to measure the central tendency of a dataset? \n",
    "\n",
    "Sl. No.\t     Mean\t                                Median\t                                     Mode\n",
    "1.\tThe average taken for a set         1.The middle value in the data          1.The number that occurs the most \n",
    "                                                                                   in a given list of numbers is \n",
    "                                                                                      called a mode\n",
    "                                           set is called the Median.\n",
    "    of numbers is called a mean.\n",
    "2.Add all of the numbers together and    2.Place all the given                 2.It shows the frequency of occurrence.\n",
    "                                         numbers in an ascending order\n",
    "divide the sum by the total number\n",
    "of values.\n",
    "\n",
    "3.The result is the mean or             3.The next step is to find the         3.We can have more than \n",
    "                                                                                one mode or no mode at all.\n",
    "                                         middle number on the list. \n",
    "                                         It is called the median.\n",
    "average score\n",
    "\n",
    "\n",
    "4.Example: To find the average of       4.Example: 4, 2, 8, 10, 19.               4.Example: 3, 3, 5, 6, 7, \n",
    "                                                                                   7, 8, 1, 1, 1, 4,5, 6.\n",
    "                                                                               •\tFind the frequency of each number.\n",
    "                                                                               •\tFor number 3, it’s 2. For 5, \n",
    "                                                                                 it’s 2. For 6, it’s 2. For 7, it’s 2. For 8,                                                                                        it’s one. For 1, it’s 3. For 4, it’s 1.\n",
    "                                                                               •\tThe number with the highest frequency is                                                                                        the mode. Hence, the mode of the given\n",
    "                                                                                      sequence of numbers is 1.\n",
    "\n",
    "                                       •\tArrange the numbers in \n",
    "                                       ascending order. i .e., 2, 4, 8, 10, 19.\n",
    "                                       •\tAs the total numbers are 5, so the\n",
    "                                       middle number 8 is the median here.\n",
    "\n",
    "the four numbers 2, 4, 6, and 8, \n",
    "we need to add the number first.\n",
    "•\t2 + 4 + 6+ 8 = 20\n",
    "•\tDivide the sum by the total number\n",
    "of numbers, i. e 4.\n",
    "•\t20/4 = 5 is the average or mean\n"
   ]
  },
  {
   "cell_type": "code",
   "execution_count": null,
   "id": "9c7e4f47-70ad-41ea-adc7-2a47f37d7865",
   "metadata": {},
   "outputs": [],
   "source": [
    "Q3. Measure the three measures of central tendency for the given height data:\n",
    "[178,177,176,177,178.2,178,175,179,180,175,178.9,176.2,177,172.5,178,176.5]\n",
    "Mean=2829.3%16=176.83125.\n",
    "Median=172.5,175, 176, 176.5, 177, 178, 178.2, 179, 180\n",
    "Median =177\n",
    "Mode=177,178\n",
    "\n"
   ]
  },
  {
   "cell_type": "code",
   "execution_count": null,
   "id": "c788a4dd-a26b-43c3-982f-133d2fb3e7a8",
   "metadata": {},
   "outputs": [],
   "source": [
    " Q4. Find the standard deviation for the given data:\n",
    "[178,177,176,177,178.2,178,175,179,180,175,178.9,176.2,177,172.5,178,176.5]\n",
    "\n",
    "Standard Deviation, σ: 1.7885814036549\n",
    "Count, N:\t16\n",
    "Sum, Σx:\t2832.3\n",
    "Mean, μ:\t177.01875\n",
    "Variance, σ2: \t3.1990234375\n",
    "\n",
    "\n",
    "Steps\n",
    " \n",
    "σ2 = \tΣ(xi - μ)2\n",
    "\n",
    "N\n",
    "\n",
    "= \t(178 - 177.01875)2 + ... + (176.5 - 177.01875)2\n",
    "\n",
    "16\n",
    "\n",
    "= \t51.184375\n",
    "\n",
    "16\n",
    "\n",
    "= \t3.1990234375\n",
    "σ = \t√3.1990234375\n",
    "= \t1.7885814036549\n",
    "\n",
    "\n",
    "Margin of Error (Confidence Interval)\n",
    "The sampling mean most likely follows a normal distribution.\n",
    "In this case, the standard error of the mean (SEM) can be calculated using the following equation:\n",
    "σx̄ = \tσ\n",
    "\n",
    "√N\n",
    "\t=\t0.44714535091372\n",
    "Based on the SEM, the following are the margins of error (or confidence intervals) \n",
    "at different confidence levels. Depending on the field of study, a confidence level of \n",
    "95% (or statistical significance of 5%) is typically used for data representation.\n",
    "Confidence Level\tMargin of Error\tError Bar\n",
    "68.3%, σx̄\t177.0188 ±0.447 (±0.25%)\t \t \t  \n",
    "\n",
    "90%, 1.645σx̄\t177.0188 ±0.736 (±0.42%)\t \t \t  \n",
    "\n",
    "95%, 1.960σx̄\t177.0188 ±0.876 (±0.50%)\t \t \t  \n",
    "\n",
    "99%, 2.576σx̄\t177.0188 ±1.152 (±0.65%)\t \t \t  \n",
    "\n",
    "99.9%, 3.291σx̄\t177.0188 ±1.472 (±0.83%)\t \t \t  \n",
    "\n",
    "99.99%, 3.891σx̄\t177.0188 ±1.74 (±0.98%)\t \t \t  \n",
    "\n",
    "99.999%, 4.417σx̄\t177.0188 ±1.975 (±1.12%)\t \t \t  \n",
    "\n",
    "99.9999%, 4.892σx̄\t177.0188 ±2.187 (±1.24%)\t \t \t  \n",
    "\n",
    "\n",
    "\n",
    "\n",
    "Frequency Table\n",
    "Value\tFrequency\n",
    "172.5\t1 (6.25%)\n",
    "175\t2 (12.5%)\n",
    "176\t1 (6.25%)\n",
    "176.2\t1 (6.25%)\n",
    "176.5\t1 (6.25%)\n",
    "177\t3 (18.75%)\n",
    "178\t3 (18.75%)\n",
    "178.2\t1 (6.25%)\n",
    "178.9\t1 (6.25%)\n",
    "179\t1 (6.25%)\n",
    "180\t1 (6.25%)\n"
   ]
  },
  {
   "cell_type": "code",
   "execution_count": null,
   "id": "e8750436-4252-4e3f-b56e-9541bfafbe8e",
   "metadata": {},
   "outputs": [],
   "source": [
    "\n",
    " Q5. How are measures of dispersion such as range, variance, and\n",
    "standard deviation used to describe the spread of a dataset? Provide an example\n",
    "\n",
    "Two data sets can have the same mean but they can be entirely different. \n",
    "Thus to describe data, one needs to know the extent of variability.\n",
    "This is given by the measures of dispersion. Range, interquartile range,\n",
    "and standard deviation are the three commonly used measures of dispersion.\n"
   ]
  },
  {
   "cell_type": "code",
   "execution_count": null,
   "id": "e7de7102-f13e-40f0-8f1b-56a915a482da",
   "metadata": {},
   "outputs": [],
   "source": [
    "Q6. What is a Venn diagram?\n",
    "\n",
    "A diagram used to represent all possible relations of different sets. \n",
    "A Venn diagram can be represented by any closed figure, whether it be a\n",
    "Circle or a Polygon (square, hexagon, etc.). But usually, we use circles \n",
    "to represent each set. \n",
    "\n"
   ]
  },
  {
   "cell_type": "code",
   "execution_count": null,
   "id": "1b0055bb-53ec-42bf-8c16-3c69d1bfdc87",
   "metadata": {},
   "outputs": [],
   "source": [
    " Q7. For the two given sets A = (2,3,4,5,6,7) & B = (0,2,6,8,10).\n",
    "Find: (i) A B (ii) A ⋃ B \n",
    "i.\tAB{0,2,3,4,6,7,8,10}\n",
    "ii.\t AUB{0,2,3,4,6,7,8,10}\n",
    "\n"
   ]
  },
  {
   "cell_type": "code",
   "execution_count": null,
   "id": "66965a9d-c3d4-4f51-b79d-1790e2d6b576",
   "metadata": {},
   "outputs": [],
   "source": [
    "Q8. What do you understand about skewness in data?\n",
    "\n",
    "Skewness is a measure of the asymmetry of a distribution.\n",
    "A distribution is asymmetrical when its left and right side\n",
    "are not mirror images. You might want to calculate the skewness\n",
    "of a distribution to: Describe the distribution of a variable\n",
    "alongside other descriptive statistics.\n"
   ]
  },
  {
   "cell_type": "code",
   "execution_count": null,
   "id": "316ae5f8-e5ef-4683-8658-5646c1cf0e23",
   "metadata": {},
   "outputs": [],
   "source": [
    " Q9. If a data is right skewed then what will be the position of \n",
    "    median with respect to mean? \n",
    "\n",
    "When the distribution is skewed to the right, the mean is often greater\n",
    "than the median. In symmetric distributions, we expect the mean and median \n",
    "to be approximately equal in value. This is an important connection between \n",
    "the shape of the distribution and the relationship of the mean and median.\n",
    "\n"
   ]
  },
  {
   "cell_type": "code",
   "execution_count": null,
   "id": "2e54b1d8-99a1-4147-9db3-72d98ad91ff5",
   "metadata": {},
   "outputs": [],
   "source": [
    "Q10. Explain the difference between covariance and correlation. \n",
    "How are these measures used in statistical analysis? \n",
    "\n",
    "Covariance is a measure to indicate the extent to which two random\n",
    "variables change in tandem. Correlation is a measure used to represent\n",
    "how strongly two random variables are related to each other. Covariance \n",
    "is nothing but a measure of correlation. Correlation refers to the \n",
    "scaled form of covariance.\n"
   ]
  },
  {
   "cell_type": "code",
   "execution_count": null,
   "id": "9a41ff1f-c6f4-4c10-bd89-97d678725070",
   "metadata": {},
   "outputs": [],
   "source": [
    "Q11. What is the formula for calculating the sample mean? \n",
    "Provide an example calculation for a dataset. \n",
    "\n",
    "The general sample mean formula for calculating the sample mean is expressed \n",
    "as x̄ = ( Σ xi ) ÷ n. Here, x̄ denotes the average value of the samples or sample\n",
    "mean, xi refers all X sample values and 'n' stands for the number of sample \n",
    "terms in the given data.\n"
   ]
  },
  {
   "cell_type": "code",
   "execution_count": null,
   "id": "f4bebd97-d331-4c41-a585-c2d1883cc624",
   "metadata": {},
   "outputs": [],
   "source": [
    "Q12. For a normal distribution data what is the relationship \n",
    "between its measure of central tendency? \n",
    "\n",
    "Any normal distribution has a graph that is perfectly symmetric about\n",
    "a vertical line through its peak. Therefore, all measures of central\n",
    "tendency (most commonly, the mean, median, and mode) give the same answer: \n",
    "the x -value of the peak\n"
   ]
  },
  {
   "cell_type": "code",
   "execution_count": null,
   "id": "c77ad239-a98b-419a-939f-43e1a97f20ed",
   "metadata": {},
   "outputs": [],
   "source": [
    "Q13. How is covariance different from correlation?\n",
    "\n",
    "Covariance is when two variables vary with each other, whereas Correlation\n",
    "is when the change in one variable results in the change in another variable.\n",
    "\n"
   ]
  },
  {
   "cell_type": "code",
   "execution_count": null,
   "id": "09148446-0cba-4d37-89bb-3d44deed545d",
   "metadata": {},
   "outputs": [],
   "source": [
    " Q14. How do outliers affect measures of central tendency and\n",
    "    dispersion? Provide an example.\n",
    "\n",
    "In statistics, outliers are causing the mean to increase, but if we have\n",
    "outliers to the left of the graph these outliers are dragging down the mean.\n",
    "This causes a conflict because the mean no longer provides a good representation\n",
    "of the data, alternatively we would much rather use the median\n"
   ]
  },
  {
   "cell_type": "code",
   "execution_count": null,
   "id": "58c59efd-dbd8-4a5b-86b7-576a3ce798bc",
   "metadata": {},
   "outputs": [],
   "source": []
  }
 ],
 "metadata": {
  "kernelspec": {
   "display_name": "Python 3 (ipykernel)",
   "language": "python",
   "name": "python3"
  },
  "language_info": {
   "codemirror_mode": {
    "name": "ipython",
    "version": 3
   },
   "file_extension": ".py",
   "mimetype": "text/x-python",
   "name": "python",
   "nbconvert_exporter": "python",
   "pygments_lexer": "ipython3",
   "version": "3.10.8"
  }
 },
 "nbformat": 4,
 "nbformat_minor": 5
}

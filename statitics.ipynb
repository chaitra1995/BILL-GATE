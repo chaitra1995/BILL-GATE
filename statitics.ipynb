{
 "cells": [
  {
   "cell_type": "code",
   "execution_count": null,
   "id": "4159d8fa-6360-4ea3-9a7e-3e94242e4988",
   "metadata": {},
   "outputs": [],
   "source": [
    "Q1. What is Statistics?\n",
    "Statistics is a branch of applied mathematics that involves the collection, description, analysis,\n",
    "and inference of conclusions from quantitative data. The mathematical theories behind statistics rely\n",
    "heavily on differential and integral calculus, linear algebra, and probability theory.\n",
    "\n"
   ]
  },
  {
   "cell_type": "code",
   "execution_count": null,
   "id": "5b40b20d-60b8-41fe-b113-695591942f16",
   "metadata": {},
   "outputs": [],
   "source": [
    "Q2. Define the different types of statistics and give an example of when each type might be used.\n",
    "The two major areas of statistics are known as descriptive statistics, which describes the properties \n",
    "of sample and population data, and inferential statistics, which uses those properties to test hypotheses\n",
    "and draw conclusions. Descriptive statistics include mean (average), variance, skewness, and kurtosis\n"
   ]
  },
  {
   "cell_type": "code",
   "execution_count": null,
   "id": "6a3691f4-2a91-4a65-a1f8-9e8d1da02dd3",
   "metadata": {},
   "outputs": [],
   "source": [
    "Q3. What are the different types of data and how do they differ from each other? Provide an example of\n",
    "each type of data.\n",
    "Quantitative data\t                                                            Qualitative data\n",
    "1.Data is depicted in numerical terms. \t                         1. Data is not depicted in numerical terms. \n",
    "2.Can be shown in numbers and variables like ratio,\n",
    "percentage, and more.\t                                         2.Could be about the behavioral attributes of \n",
    "                                                                   a person, or thing. \n",
    "Example: 100%, 1:3, 123                                           Example: loud behavior, fair skin,\n",
    "                                                                    soft quality, and more.\n"
   ]
  },
  {
   "cell_type": "code",
   "execution_count": null,
   "id": "c8b6fdd9-f73f-4dfa-83cb-969aacf45a85",
   "metadata": {},
   "outputs": [],
   "source": [
    "Q4. Categorise the following datasets with respect to quantitative and qualitative data types:\n",
    "(i) Grading in exam: A+, A, B+, B, C+, C, D, E   -  Qualitative  data .\n",
    "(ii) Colour of mangoes: yellow, green, orange, red – Qualitative data.\n",
    "(iii) Height data of a class: [178.9, 179, 179.5, 176, 177.2, 178.3, 175.8,...] – Quantitative data.\n",
    "(iv) Number of mangoes exported by a farm: [500, 600, 478, 672, ...] – Quantitative data.\n"
   ]
  },
  {
   "cell_type": "code",
   "execution_count": null,
   "id": "7d26d0ff-ebf4-4a7f-89ec-fc141a25a5d5",
   "metadata": {},
   "outputs": [],
   "source": [
    "Q5. Explain the concept of levels of measurement and give an example of a variable for each level.\n",
    "Levels of measurement, also called scales of measurement, tell you how precisely variables are recorded.\n",
    "In scientific research, a variable is anything that can take on different values across your data\n",
    "set (e.g., height or test scores).\n"
   ]
  },
  {
   "cell_type": "code",
   "execution_count": null,
   "id": "e5071ff9-786f-4d23-9543-5bd7ec45153f",
   "metadata": {},
   "outputs": [],
   "source": [
    "Q6. Why is it important to understand the level of measurement when analyzing data? Provide an\n",
    "example to illustrate your answer.\n",
    "It is important to understand the level of measurement of variables in research, because the level \n",
    "of measurement determines the type of statistical analysis that can be conducted, and, therefore,\n",
    "the type of conclusions that can be drawn from the research.\n"
   ]
  },
  {
   "cell_type": "code",
   "execution_count": null,
   "id": "06c1d6f4-e832-49bd-a04c-b59ffac717d7",
   "metadata": {},
   "outputs": [],
   "source": [
    "Q7. How nominal data type is different from ordinal data type.\n",
    "\n",
    "While Nominal Data is classified without any intrinsic ordering or rank, Ordinal Data has some \n",
    "predetermined or natural order. Nominal data is qualitative or categorical data, while Ordinal \n",
    "data is considered “in-between” qualitative and quantitative data.\n",
    "\n"
   ]
  },
  {
   "cell_type": "code",
   "execution_count": null,
   "id": "04ebe88b-a5ad-4453-807d-54e32cdd59f4",
   "metadata": {},
   "outputs": [],
   "source": [
    "Q8. Which type of plot can be used to display data in terms of range?\n",
    "\n",
    "Column range—The Column Range chart uses columns to represent the range. Bar range—The Bar Range\n",
    "chart uses bars to represent the range. Smooth range—A Smooth Range chart uses curved lines to\n",
    "connect data points rather than straight ones.\n"
   ]
  },
  {
   "cell_type": "code",
   "execution_count": null,
   "id": "d773a04b-bc61-45ce-b297-b66d66c08393",
   "metadata": {},
   "outputs": [],
   "source": [
    "Q9. Describe the difference between descriptive and inferential statistics. Give an example of each\n",
    "type of statistics and explain how they are used.\n",
    "\n",
    "S.No.\tDescriptive Statistics\t                                            Inferential Statistics\n",
    "1.\tIt gives information about raw data which\n",
    "describes the data in some manner.\t                             1.It makes inferences about the population \n",
    "                                                                    using data drawn from the population.\n",
    "2.\tIt helps in organizing, analyzing, and to\n",
    "present data in a meaningful manner.\t                          2.It allows us to compare data, and make \n",
    "                                                                      hypotheses and predictions.\n",
    "3.\tIt is used to describe a situation.                          3.It is used to explain the chance of occurrence \n",
    "                                                                     of an event.\n",
    "4.\tIt explains already known data and is limited to \n",
    "a sample or population having a small size.\t                     4.It attempts to reach the conclusion \n",
    "                                                                         about the population.\n",
    "5.\tIt can be achieved with the help of\n",
    "charts, graphs, tables, etc.\t                                 5 .It can be achieved by probability.\n",
    "\n",
    "\n"
   ]
  },
  {
   "cell_type": "code",
   "execution_count": null,
   "id": "8433065d-211d-41b6-aca5-7485ef1ee192",
   "metadata": {},
   "outputs": [],
   "source": [
    "Q10. What are some common measures of central tendency and variability used in statistics? Explain\n",
    "how each measure can be used to describe a dataset.\n",
    "\n",
    "The three commonly used measures of central tendency are the mean, median, and mode.\n",
    "A statistic that tells us how the data values are dispersed or spread out is called \n",
    "the measure of dispersion.\n"
   ]
  },
  {
   "cell_type": "code",
   "execution_count": null,
   "id": "95baf375-e296-4e9b-9064-4ae769ace01d",
   "metadata": {},
   "outputs": [],
   "source": []
  },
  {
   "cell_type": "code",
   "execution_count": null,
   "id": "0456f580-e33e-4c7d-8361-23243b213403",
   "metadata": {},
   "outputs": [],
   "source": []
  }
 ],
 "metadata": {
  "kernelspec": {
   "display_name": "Python 3 (ipykernel)",
   "language": "python",
   "name": "python3"
  },
  "language_info": {
   "codemirror_mode": {
    "name": "ipython",
    "version": 3
   },
   "file_extension": ".py",
   "mimetype": "text/x-python",
   "name": "python",
   "nbconvert_exporter": "python",
   "pygments_lexer": "ipython3",
   "version": "3.10.8"
  }
 },
 "nbformat": 4,
 "nbformat_minor": 5
}

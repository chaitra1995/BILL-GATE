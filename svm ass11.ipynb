{
 "cells": [
  {
   "cell_type": "code",
   "execution_count": null,
   "id": "bd87a2f6-3c9b-409c-8cab-5caa6ab557a7",
   "metadata": {},
   "outputs": [],
   "source": [
    "Q1. What is an ensemble technique in machine learning?\n",
    "Ensemble methods are techniques that aim at improving the accuracy of results in models by combining \n",
    "multiple models instead of using a single model. The combined models increase the accuracy of the results\n",
    "significantly. This has boosted the popularity of ensemble methods in machine learning.\n"
   ]
  },
  {
   "cell_type": "code",
   "execution_count": null,
   "id": "186cfd1b-26e4-4b45-bdb5-177c212ffe87",
   "metadata": {},
   "outputs": [],
   "source": [
    "Q2. Why are ensemble techniques used in machine learning?\n",
    "Ensemble learning techniques when you want to improve the performance of machine learning models.\n",
    "For example to increase the accuracy of classification models or to reduce the mean absolute error\n",
    "for regression models. Ensembling also results in a more stable model.\n",
    "\n"
   ]
  },
  {
   "cell_type": "code",
   "execution_count": null,
   "id": "41bd8cc6-0eef-4882-bf16-0dc1057cb195",
   "metadata": {},
   "outputs": [],
   "source": [
    "Q3. What is bagging?\n",
    "Bagging is also called Bootstrap Aggregation and is an ensemble learning method that helps improve \n",
    "the performance and accuracy of an ML model. Primarily, it helps to overcome the overfitting problem\n",
    "in classification. This process takes random subsets of a dataset, with replacement, and pushes it\n",
    "into a classifier or a regressor. The predictions for each subset are then calculated through a majority\n",
    "vote for classification or averaging for regression, thus increasing the prediction accuracy.\n",
    "\n"
   ]
  },
  {
   "cell_type": "code",
   "execution_count": null,
   "id": "02e822ef-530b-41d4-a6db-c6f4fcef2a26",
   "metadata": {},
   "outputs": [],
   "source": [
    "Q4. What is boosting?\n",
    "Boosting is a method used in machine learning to reduce errors in predictive data analysis.\n",
    "Data scientists train machine learning software, called machine learning models, on labeled \n",
    "data to make guesses about unlabeled data. A single machine learning model might make prediction\n",
    "errors depending on the accuracy of the training dataset. For example, if a cat-identifying model\n",
    "has been trained only on images of white cats, it may occasionally misidentify a black cat.\n",
    "Boosting tries to overcome this issue by training multiple models sequentially to improve the\n",
    "accuracy of the overall system\n",
    "\n"
   ]
  },
  {
   "cell_type": "code",
   "execution_count": null,
   "id": "a493cc62-c07f-4bd9-ade8-db664858278e",
   "metadata": {},
   "outputs": [],
   "source": [
    "Q5. What are the benefits of using ensemble techniques?\n",
    "•\tA minimum benefit of using ensembles is to reduce the spread in the average skill of a predictive model.\n",
    "•\tA key benefit of using ensembles is to improve the average prediction performance over any\n",
    "contributing member in the ensemble.\n",
    "•\tThe mechanism for improved performance with ensembles is often the reduction in the variance component\n",
    "of prediction errors made by the contributing models.\n"
   ]
  },
  {
   "cell_type": "code",
   "execution_count": null,
   "id": "fa294137-001f-4c84-9190-a9963801107c",
   "metadata": {},
   "outputs": [],
   "source": [
    "Q6. Are ensemble techniques always better than individual models?\n",
    "The motivation for using ensemble models is to reduce the generalization error of the prediction.\n",
    "As long as the base models are diverse and independent, the prediction error of the model decreases\n",
    "when the ensemble approach is used. The approach seeks the wisdom of crowds in making a prediction.\n",
    "\n"
   ]
  },
  {
   "cell_type": "code",
   "execution_count": null,
   "id": "a544c1ae-cee4-4fd8-a3af-bd4c56aa091b",
   "metadata": {},
   "outputs": [],
   "source": [
    "Q7. How is the confidence interval calculated using bootstrap?\n",
    "\n",
    "1.Draw N samples (N will be in the hundreds, and if the software allows, in the thousands) from the original \n",
    "sample with replacement.\n",
    "2.For each of the samples, find the sample mean.\n",
    "3.Arrange these sample means in order of magnitude.\n",
    "4.To obtain, say, a 95% confidence interval, we will find the middle 95% of the sample means. For this,\n",
    "find the means at the 2.5% and 97.5% percentiles. The 2.5th percentile will be at the position (0.025)(N + 1),\n",
    "and the 97.5th percentile will be at the position (0.975)(N + 1). If any of these numbers are not integers,\n",
    "round to the nearest integer. The values of these positions are the lower and upper limits of the 95% bootstrap \n",
    "interval for the true mean.\n",
    "\n"
   ]
  },
  {
   "cell_type": "code",
   "execution_count": null,
   "id": "ce3112bf-2584-4b49-9212-2e0b6c3437cc",
   "metadata": {},
   "outputs": [],
   "source": [
    "Q8. How does bootstrap work and What are the steps involved in bootstrap?\n",
    "\n",
    "Bootstrap is a massive collection of reusable and versatile pieces of code which are written in CSS,\n",
    "HTML and JavaScript. Since it is also a framework, all the foundations are already laid for responsive\n",
    "web development, and all developers have to do is insert the code into the pre-defined grid system.\n",
    "The simplest bootstrap method involves taking the original data set of heights, and, using a computer,\n",
    "sampling from it to form a new sample (called a 'resample' or bootstrap sample) that is also of size N.\n",
    "The bootstrap sample is taken from the original by using sampling with replacement (e.g. we might 'resample' 5 .\n"
   ]
  },
  {
   "cell_type": "code",
   "execution_count": null,
   "id": "2f55c0ca-644e-4d20-8383-21efbd589a37",
   "metadata": {},
   "outputs": [],
   "source": [
    "Q9. A researcher wants to estimate the mean height of a population of trees.\n",
    "\n",
    "They measure the height of a sample of 50 trees and obtain a mean height of 15 meters \n",
    "and a standard deviation of 2 meters. Use bootstrap to estimate the 95% confidence interval \n",
    "for the population mean height.\n",
    "CI=point estimate+-(Z-value*standard error)\n",
    "CI=15+_(1.96*2)\n",
    "CI=(18.92,-11.08)\n",
    "\n"
   ]
  }
 ],
 "metadata": {
  "kernelspec": {
   "display_name": "Python 3 (ipykernel)",
   "language": "python",
   "name": "python3"
  },
  "language_info": {
   "codemirror_mode": {
    "name": "ipython",
    "version": 3
   },
   "file_extension": ".py",
   "mimetype": "text/x-python",
   "name": "python",
   "nbconvert_exporter": "python",
   "pygments_lexer": "ipython3",
   "version": "3.10.8"
  }
 },
 "nbformat": 4,
 "nbformat_minor": 5
}

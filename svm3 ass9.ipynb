{
 "cells": [
  {
   "cell_type": "code",
   "execution_count": null,
   "id": "849c81db-10a1-456e-8ac3-6d5a00508221",
   "metadata": {},
   "outputs": [],
   "source": [
    "Q1. What is Bayes' theorem?\n",
    "\n",
    "Bayes’ theorem describes the probability of occurrence of an event related to any condition.\n",
    "It is also considered for the case of conditional probability. Bayes theorem is also known as\n",
    "the formula for the probability of “causes”. For example: if we have to calculate the probability \n",
    "of taking a blue ball from the second bag out of three different bags of balls, where each bag \n",
    "contains three different colour balls viz. red, blue, black. In this case, the probability of \n",
    "occurrence of an event is calculated depending on other conditions is known as conditional probability\n"
   ]
  },
  {
   "cell_type": "code",
   "execution_count": null,
   "id": "18fb5e44-a9ae-466a-a40a-eaadf88d1faf",
   "metadata": {},
   "outputs": [],
   "source": [
    "Q2. What is the formula for Bayes' theorem?\n",
    "\n",
    "Bayes Theorem Formula\n",
    "If A and B are two events, then the formula for the Bayes theorem is given by:\n",
    "P(A|B)=P(B|A)/P(B)\n",
    "Where P(A|B) is the probability of condition when event A is occurring \n",
    "while event B has already occurred. \n"
   ]
  },
  {
   "cell_type": "code",
   "execution_count": null,
   "id": "0bd12ea9-72ec-41eb-8264-a2106ad48dc7",
   "metadata": {},
   "outputs": [],
   "source": [
    "Q3. How is Bayes' theorem used in practice?\n",
    "Bayes Theorem can be derived for events and random variables separately using the definition of \n",
    "conditional probability and density.\n",
    "\n",
    "From the definition of conditional probability, Bayes theorem can be derived for events as given below:\n",
    "P(A|B) = P(A ⋂ B)/ P(B), where P(B) ≠ 0\n",
    "P(B|A) = P(B ⋂ A)/ P(A), where P(A) ≠ 0\n",
    "\n",
    "Here, the joint probability P(A ⋂ B) of both events A and B being true such that,\n",
    "P(B ⋂ A) = P(A ⋂ B)\n",
    "P(A ⋂ B) = P(A | B) P(B) = P(B | A) P(A)\n",
    "P(A|B) = [P(B|A) P(A)]/ P(B), where P(B) ≠ 0\n",
    "\n",
    "Similarly, from the definition of conditional density, Bayes theorem can be derived for two continuous\n",
    "random variables namely X and Y as given below:\n",
    "  \n",
    "\n"
   ]
  },
  {
   "cell_type": "code",
   "execution_count": null,
   "id": "2c8e5596-ba39-4981-a3e2-c6ac3dfdeae1",
   "metadata": {},
   "outputs": [],
   "source": [
    "Q4. What is the relationship between Bayes' theorem and conditional probability?\n",
    "Let E1, E2,…, En be a set of events associated with a sample space S, where all the events E1, E2,…, \n",
    "En have nonzero probability of occurrence and they form a partition of S. Let A be any event \n",
    "associated with S, then according to Bayes theorem,\n",
    " \n",
    "The following terminologies are also used when the Bayes theorem is applied:\n",
    "Hypotheses: The events E1, E2,… En is called the hypotheses\n",
    "Priori Probability: The probability P(Ei) is considered as the priori probability of hypothesis Ei\n",
    "Posteriori Probability: The probability P(Ei|A) is considered as the posteriori probability of hypothesis Ei\n",
    "Bayes’ theorem is also called the formula for the probability of “causes”. Since the Ei‘s are a partition of\n",
    "the sample space S, one and only one of the events Ei occurs (i.e. one of the events Ei must occur and\n",
    "the only one can occur). Hence, the above formula gives us the probability of a particular Ei (i.e. a “Cause”),\n",
    "given that the event A has occurred.\n",
    "\n"
   ]
  },
  {
   "cell_type": "code",
   "execution_count": null,
   "id": "ea364b98-7cb2-46cc-a18d-7e9cc5826c8e",
   "metadata": {},
   "outputs": [],
   "source": [
    "Q5. How do you choose which type of Naive Bayes classifier to use for any given problem?\n",
    "1.\tConvert the data set into a frequency table. In this first step data set is converted\n",
    "into a frequency table.\n",
    "\n",
    "2.\tCreate Likelihood table by finding the probabilities. ...\n",
    "3.\tUse Naive Bayesian equation to calculate the posterior probability.\n",
    "\n"
   ]
  }
 ],
 "metadata": {
  "kernelspec": {
   "display_name": "Python 3 (ipykernel)",
   "language": "python",
   "name": "python3"
  },
  "language_info": {
   "codemirror_mode": {
    "name": "ipython",
    "version": 3
   },
   "file_extension": ".py",
   "mimetype": "text/x-python",
   "name": "python",
   "nbconvert_exporter": "python",
   "pygments_lexer": "ipython3",
   "version": "3.10.8"
  }
 },
 "nbformat": 4,
 "nbformat_minor": 5
}

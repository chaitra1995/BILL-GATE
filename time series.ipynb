{
 "cells": [
  {
   "cell_type": "code",
   "execution_count": null,
   "id": "4d620fcf-b309-4a24-b0a4-456fe90ff287",
   "metadata": {},
   "outputs": [],
   "source": [
    "Q1. What is a time series, and what are some common applications of time series analysis?\n",
    "\n",
    "Definition of Time Series: An ordered sequence of values of a variable at equally spaced time intervals.\n",
    "Time series occur frequently when looking at industrial data. Applications: The usage of time series models \n",
    "is twofold: Obtain an understanding of the underlying forces and structure that produced the observed data.\n",
    "Time series analysis helps organizations understand the underlying causes of trends or systemic patterns over\n",
    "time. Using data visualizations, business users can see seasonal trends and dig deeper into why these trends\n",
    "occur. With modern analytics platforms, these visualizations can go far beyond line graphs\n"
   ]
  },
  {
   "cell_type": "code",
   "execution_count": null,
   "id": "b19dd1ca-5887-4f2a-9ed0-3513f6784a4d",
   "metadata": {},
   "outputs": [],
   "source": [
    "Q2. What are some common time series patterns, and how can they be identified and interpreted?\n",
    "There are three types of time series patterns: trend, seasonal, and cyclic. A trend pattern exists when there is\n",
    "a long-term increase or decrease in the series\n",
    "Many time series include trend, cycles and seasonality. When choosing a forecasting method, we will first need\n",
    "to identify the time series patterns in the data, and then choose a method that is able to capture the patterns properly\n"
   ]
  },
  {
   "cell_type": "code",
   "execution_count": null,
   "id": "f3fa6116-e578-424e-85f8-421c37015b57",
   "metadata": {},
   "outputs": [],
   "source": [
    "Q3. How can time series data be preprocessed before applying analysis techniques?\n",
    "Data preprocessing is essential before its actual use. Data preprocessing is the concept of changing the raw \n",
    "data into a clean data set. The dataset is preprocessed in order to check missing values, noisy data, and other \n",
    "inconsistencies before executing it to the algorithm. Data must be in a format appropriate for ML.\n"
   ]
  },
  {
   "cell_type": "code",
   "execution_count": null,
   "id": "9164603c-2715-4bab-b8b8-fab71054128b",
   "metadata": {},
   "outputs": [],
   "source": [
    "Q4. How can time series forecasting be used in business decision-making, and what are some common challenges and limitations?\n",
    "Time-series models have been used to forecast the demand for airline capacity, seasonal telephone demand, the movement\n",
    "of short-term interest rates, and other economic variables. Time-series models are particularly useful when little is\n",
    "known about the underlying process one is trying to forecast.\n",
    "Time series analysis helps organizations understand the underlying causes of trends or systemic patterns over time.\n",
    "Using data visualizations, business users can see seasonal trends and dig deeper into why these trends occur.\n",
    "With modern analytics platforms, these visualizations can go far beyond line graphs.\n",
    "Limited Scope: Time series analysis is restricted to time-dependent data. It's not suitable for cross-sectional \n",
    "or purely categorical data. Noise Introduction: Techniques like differencing can introduce additional noise into \n",
    "the data, which may obscure fundamental patterns or trends.\n",
    "\n"
   ]
  },
  {
   "cell_type": "code",
   "execution_count": null,
   "id": "8db2a92c-6014-4c8d-ab5e-3aee61bb97f0",
   "metadata": {},
   "outputs": [],
   "source": [
    "Q5. What is ARIMA modelling, and how can it be used to forecast time series data?\n",
    "\n",
    "ARIMA stands for AutoRegressive Integrated Moving Average and represents a cornerstone in time series forecasting.\n",
    "It is a statistical method that has gained immense popularity due to its efficacy in handling various standard temporal\n",
    "structures present in time series data.\n",
    "\n"
   ]
  },
  {
   "cell_type": "code",
   "execution_count": null,
   "id": "875ca2d9-07bf-46a7-8d38-750eb27a67a6",
   "metadata": {},
   "outputs": [],
   "source": [
    "Q6. How do Autocorrelation Function (ACF) and Partial Autocorrelation Function (PACF) plots help in identifying \n",
    "the order of ARIMA models?\n",
    "1.\tLook for tail off pattern in either ACF or PACF.\n",
    "2.\tIf tail off at ACF → AR model → Cut off at PACF will provide order p for AR(p).\n",
    "3.\tIf tail off at PACF → MA model → Cut off at ACF will provide order q for MA(q).\n",
    "\n"
   ]
  },
  {
   "cell_type": "code",
   "execution_count": null,
   "id": "4e564e99-0a15-4a21-bd9d-c77441395b78",
   "metadata": {},
   "outputs": [],
   "source": [
    "Q7. What are the assumptions of ARIMA models, and how can they be tested for in practice?\n",
    "The main assumptions of an ARIMA model are stationarity and invertibility. Stationarity means that the mean, variance,\n",
    "and autocorrelation of the time series data are constant over time.\n",
    "To evaluate the performance of your ARIMA model, you should split your time series data into separate training and \n",
    "test sets. The training set is used to fit the model, while the test set is reserved for evaluating its accuracy \n",
    "in predicting unseen data.\n",
    "\n"
   ]
  },
  {
   "cell_type": "code",
   "execution_count": null,
   "id": "fb1a4750-ca5c-427b-8d59-1d359b704208",
   "metadata": {},
   "outputs": [],
   "source": [
    "Q8. Suppose you have monthly sales data for a retail store for the past three years. Which type of time series model\n",
    "would you recommend for forecasting future sales, and why?\n",
    "\n"
   ]
  },
  {
   "cell_type": "code",
   "execution_count": null,
   "id": "9a713374-0fec-4f48-8f05-61521a213a0c",
   "metadata": {},
   "outputs": [],
   "source": [
    "Q9. What are some of the limitations of time series analysis? Provide an example of a scenario where the limitations\n",
    "of time series analysis may be particularly relevant.\n",
    "While time series analysis has a lot to offer, it also comes with its own set of limitations and challenges,\n",
    "such as: Limited Scope: Time series analysis is restricted to time-dependent data. It's not suitable for \n",
    "cross-sectional or purely categorical data.\n",
    "Time series analysis involves developing models to forecast future values based on historical data.\n",
    "However, overfitting can be a significant limitation when building forecasting models. \n",
    "Overfitting occurs when a model captures noise or random fluctuations in the data, rather than the underlying patterns.\n"
   ]
  },
  {
   "cell_type": "code",
   "execution_count": null,
   "id": "969df217-eda4-47e8-be06-7512c5a6cbee",
   "metadata": {},
   "outputs": [],
   "source": [
    "Q10. Explain the difference between a stationary and non-stationary time series. How does the stationarity of a \n",
    "time series affect the choice of forecasting model?\n",
    "A stationary time series has statistical properties or moments (e.g., mean and variance) that do not vary in time.\n",
    "Stationarity, then, is the status of a stationary time series. Conversely, nonstationarity is the status of a time\n",
    "series whose statistical properties are changing through time.\n",
    "When a time series is stationary, it means that certain attributes of the data do not change over time. However,\n",
    "some time series are non-stationary, whereby values and associations between and among variables do vary with time.\n",
    "In finance, many processes are non-stationary, and so must be handled appropriate.\n",
    "\n"
   ]
  },
  {
   "cell_type": "code",
   "execution_count": null,
   "id": "45e03e9d-8f5f-472c-a1b5-2e47e5d8ac48",
   "metadata": {},
   "outputs": [],
   "source": []
  },
  {
   "cell_type": "code",
   "execution_count": null,
   "id": "8d194c74-68e3-4721-95db-4b149706508d",
   "metadata": {},
   "outputs": [],
   "source": []
  }
 ],
 "metadata": {
  "kernelspec": {
   "display_name": "Python 3 (ipykernel)",
   "language": "python",
   "name": "python3"
  },
  "language_info": {
   "codemirror_mode": {
    "name": "ipython",
    "version": 3
   },
   "file_extension": ".py",
   "mimetype": "text/x-python",
   "name": "python",
   "nbconvert_exporter": "python",
   "pygments_lexer": "ipython3",
   "version": "3.10.8"
  }
 },
 "nbformat": 4,
 "nbformat_minor": 5
}

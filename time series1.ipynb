{
 "cells": [
  {
   "cell_type": "code",
   "execution_count": null,
   "id": "7314db98-97ac-49a6-91f7-f3dcf7a1e232",
   "metadata": {},
   "outputs": [],
   "source": [
    "Q1. What is meant by time-dependent seasonal components?\n",
    "Seasonal component: Seasonality occurs when the time series exhibits regular fluctuations during the same month\n",
    "(or months) every year, or during the same quarter every year. For example, retail sales peak during the month of\n",
    "December. Irregular component: This component is unpredictable.\n",
    " Seasonal component - exists when a series exhibits regular. fluctuations based on the season \n",
    "(e.g. every month/quarter/year). Seasonality is always of a fixed and known period.\n",
    "\n"
   ]
  },
  {
   "cell_type": "code",
   "execution_count": null,
   "id": "0a935463-2c6f-483b-9a54-7b9088886f82",
   "metadata": {},
   "outputs": [],
   "source": [
    "Q2. How can time-dependent seasonal components be identified in time series data?\n",
    "When a time series contains seasonality in addition to a trend, yet another parameter, γ, will be needed to \n",
    "estimate the seasonal component of the time series (Winters, 1960). The estimates for value (or level) are now \n",
    "adjusted by a seasonal index, which is computed with a third equation that includes γ.\n",
    "One way to detect seasonality in a time series is to plot it and look for repeating patterns or cycles.\n",
    "You can also use autocorrelation and partial autocorrelation functions to measure the correlation between \n",
    "the values of a time series and its lagged values.\n",
    "\n"
   ]
  },
  {
   "cell_type": "code",
   "execution_count": null,
   "id": "74b0eff6-5006-429e-96cd-08e662a1792e",
   "metadata": {},
   "outputs": [],
   "source": [
    "Q3. What are the factors that can influence time-dependent seasonal components?\n",
    "When a time series contains seasonality in addition to a trend, yet another parameter, γ, will be needed to \n",
    "estimate the seasonal component of the time series (Winters, 1960). The estimates for value (or level) are\n",
    "now adjusted by a seasonal index, which is computed with a third equation that includes γ.\n"
   ]
  },
  {
   "cell_type": "code",
   "execution_count": null,
   "id": "c0f5c6f1-20aa-44ea-9abb-6eadf1e3ffd5",
   "metadata": {},
   "outputs": [],
   "source": [
    "Q4. How are autoregression models used in time series analysis and forecasting?\n",
    "The autoregressive model predicts the future based on the previous data. A lot of technical analysts use them to\n",
    "predict future security prices. In this type of analysis, time series values are correlated with their predecessors \n",
    "and successors.\n"
   ]
  },
  {
   "cell_type": "code",
   "execution_count": null,
   "id": "cb7b3e0a-d2d8-4277-8aac-6321223c2dd8",
   "metadata": {},
   "outputs": [],
   "source": [
    "Q5. How do you use autoregression models to make predictions for future time points?\n",
    "The autoregressive model predicts the future based on the previous data. A lot of technical analysts use them to \n",
    "predict future security prices. In this type of analysis, time series values are correlated with their predecessors\n",
    "and successors.\n",
    "Autoregression is a statistical technique used in time-series analysis that assumes that the current value of a\n",
    "time series is a function of its past values. Autoregressive models use similar mathematical techniques to \n",
    "determine the probabilistic correlation between elements in a sequence\n",
    "\n"
   ]
  },
  {
   "cell_type": "code",
   "execution_count": null,
   "id": "ace49b2b-a1eb-4347-8655-ec92cd4e5b87",
   "metadata": {},
   "outputs": [],
   "source": [
    "Q6. What is a moving average (MA) model and how does it differ from other time series models?\n",
    "In time series analysis, the moving-average model (MA model), also known as moving-average process, is a common\n",
    "approach for modeling univariate time series. The moving-average model specifies that the output variable is \n",
    "cross-correlated with a non-identical to itself random-variable.\n",
    "The moving average model is a time series model that accounts for very short-run autocorrelation.\n",
    "It basically states that the next observation is the mean of every past observation. The order of the\n",
    "moving average model, q, can usually be estimated by looking at the ACF plot of the time series\n"
   ]
  },
  {
   "cell_type": "code",
   "execution_count": null,
   "id": "f4caaf20-febd-4fa3-b22f-ae6d323c006c",
   "metadata": {},
   "outputs": [],
   "source": []
  },
  {
   "cell_type": "code",
   "execution_count": null,
   "id": "03e0e031-65da-472b-9e61-80e5e70cb922",
   "metadata": {},
   "outputs": [],
   "source": []
  },
  {
   "cell_type": "code",
   "execution_count": null,
   "id": "01bce626-c75e-41d3-bee8-d1aa79b614b1",
   "metadata": {},
   "outputs": [],
   "source": []
  }
 ],
 "metadata": {
  "kernelspec": {
   "display_name": "Python 3 (ipykernel)",
   "language": "python",
   "name": "python3"
  },
  "language_info": {
   "codemirror_mode": {
    "name": "ipython",
    "version": 3
   },
   "file_extension": ".py",
   "mimetype": "text/x-python",
   "name": "python",
   "nbconvert_exporter": "python",
   "pygments_lexer": "ipython3",
   "version": "3.10.8"
  }
 },
 "nbformat": 4,
 "nbformat_minor": 5
}

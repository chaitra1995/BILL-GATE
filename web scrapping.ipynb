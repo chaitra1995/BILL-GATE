{
 "cells": [
  {
   "cell_type": "code",
   "execution_count": null,
   "id": "8c25660e-7974-4e9a-92a7-ebe1bbb94449",
   "metadata": {},
   "outputs": [],
   "source": [
    "\n",
    "Q1. What is Web Scraping? Why is it Used?\n",
    "Give three areas where Web Scraping is used to get data.\n",
    "Web scraping is the process of using bots to extract content and data from a website.\n",
    "Unlike screen scraping, which only copies pixels displayed onscreen, web scraping extracts\n",
    "underlying HTML code and, with it, data stored in a database. \n",
    "The scraper can then replicate entire website content elsewhere.\n",
    "Three areas of  web scraping is used to get data:\n",
    "1.\tMonitoring e-commerce prices.\n",
    "2.  Finding opportunities for investment.\n",
    "3.  Analyzing social media web data.\n",
    "4.  Applying machine learning techniques.\n",
    "5.  Gathering web data automatically.\n"
   ]
  },
  {
   "cell_type": "code",
   "execution_count": null,
   "id": "0b90f930-e2da-4f64-857a-03021c1afedb",
   "metadata": {},
   "outputs": [],
   "source": [
    "\n",
    "Q2. What are the different methods used for Web Scraping?\n",
    "1.Human copy-and-paste. The simplest form of web scraping is manually\n",
    "   copying and pasting data from  a web page into a text file or spreadsheet. ...\n",
    "2. Text pattern matching. ...\n",
    "3. HTTP programming. ...\n",
    "4. HTML parsing. ...\n",
    "5. DOM parsing. ...\n",
    "6. Vertical aggregation. ...\n",
    "7. Semantic annotation recognizing. ...\n",
    "8. Computer vision web-page analysis.\n"
   ]
  },
  {
   "cell_type": "code",
   "execution_count": null,
   "id": "9e8cbfe1-80d3-48d3-b88a-19d122b88d4f",
   "metadata": {},
   "outputs": [],
   "source": [
    "Q3. What is Beautiful Soup? Why is it used?\n",
    "Beautiful Soup is a Python package for parsing HTML and XML documents (including having malformed\n",
    "markup, i.e. non-closed tags, so named after tag soup). It creates a parse tree for parsed pages\n",
    "that can be used to extract data from HTML, which is useful for web scraping.\n"
   ]
  },
  {
   "cell_type": "code",
   "execution_count": null,
   "id": "c7c7902f-603d-4f21-8b45-ea04250b4e87",
   "metadata": {},
   "outputs": [],
   "source": [
    "Q4. Why is flask used in this Web Scraping project?\n",
    "Flask is a lightweight framework to build websites. We'll use this to parse our collected \n",
    "data and display it as HTML in a new HTML file. The requests module allows us to send http requests\n",
    "to the website we want to scrape. The first line imports the Flask class and the render_template method \n",
    "from the flask library.\n",
    "\n",
    "\n"
   ]
  },
  {
   "cell_type": "code",
   "execution_count": null,
   "id": "853e741e-6fc7-4fbf-a6ae-826c52c29be8",
   "metadata": {},
   "outputs": [],
   "source": [
    "Q5. Write the names of AWS services used in this project. Also, explain the use of each service.\n",
    "\n",
    "Service #1. Amazon EC2 [Elastic Compute Cloud]\n",
    "Amazon EC2 is one of the fastest-growing cloud computing AWS services, which offers virtual servers \n",
    "to manage any kind of workload. It facilitates the computing infrastructure with the best suitable\n",
    "processors, networking facilities, and storage systems. As a result, it supports adapting to the\n",
    "workloads precisely. Amazon EC2 provides a highly secure, reliable, performing computing infrastructure\n",
    "meeting business demands. And, it helps you to access resources quickly and dynamically scale capacities\n",
    "as per demands.\n",
    "\n",
    "Service #2. Amazon S3\n",
    "Another popular addition to the AWS services list is Amazon S3, which is an object storage AWS service,\n",
    "which is highly scalable. It mainly helps users to access any quantity of data from anywhere. Here, data\n",
    "is stored in ‘storage classes’ to reduce costs without any extra investment and manage it comfortably. \n",
    "The data is highly secured and supports meeting audit and compliance requirements. \n",
    "You can handle any volume of data with Amazon S3’s robust access controls, replication tools,\n",
    "and higher visibility. Moreover, it supports maintaining data version controls and preventing accidental deletion.\n",
    "\n",
    "\n",
    "Service #3. AWS Aurora\n",
    "Amazon Aurora is the next addition to this list of top AWS services in demand. \n",
    "Why? It is a MySQL and PostgreSQL compatible relational database with high performance.\n",
    "Believe it or not, it is five times faster than standard MySQL databases. \n",
    "And it allows for automating crucial tasks such as hardware provisioning, database \n",
    "setup and backups, and patching. Amazon Aurora is a distributed, fault-tolerant, \n",
    "self-healing storage system that could scale automatically as per needs. Besides,\n",
    "you can even reduce costs significantly and enhance databases' security, availability, and reliability. \n",
    "\n",
    "Service #4. Amazon DynamoDB\n",
    "DynamoDB is a promising addition to this list of AWS services. DynamoDB is a fully managed \n",
    "and serverless NoSQL database AWS service. And it is a fast and flexible database system that\n",
    "provides innovative opportunities to developers at low costs. It gives you single-digit\n",
    "millisecond performance with unlimited throughput and storage. DynamoDB has in-built tools to \n",
    "generate actionable insights, useful analytics, and monitor traffic trends in applications.\n",
    "\n",
    "Service #5. Amazon RDS\n",
    "Amazon RDS would be the next entry in this discussion on AWS services. Amazon RDS is the managed\n",
    "Relational Database AWS Service (RDS) for MySQL, PostgreSQL, Oracle, SQL Server, and MariaDB. \n",
    "It allows the setup, operation, and scale of a relational database in the cloud quickly.\n",
    "Also, it achieves high performance by automating the tasks such as hardware provisioning, database\n",
    "setup, patching, and backups. When you use Amazon RDS, you don’t need to install and maintain the\n",
    "database software. Overall, you can optimize costs by embracing this service and achieve high \n",
    "availability, security, and compatibility for your resources.\n",
    "\n",
    "\n"
   ]
  },
  {
   "cell_type": "code",
   "execution_count": null,
   "id": "a8b02864-1b22-452e-8208-72aad7bf33a5",
   "metadata": {},
   "outputs": [],
   "source": []
  }
 ],
 "metadata": {
  "kernelspec": {
   "display_name": "Python 3 (ipykernel)",
   "language": "python",
   "name": "python3"
  },
  "language_info": {
   "codemirror_mode": {
    "name": "ipython",
    "version": 3
   },
   "file_extension": ".py",
   "mimetype": "text/x-python",
   "name": "python",
   "nbconvert_exporter": "python",
   "pygments_lexer": "ipython3",
   "version": "3.10.8"
  }
 },
 "nbformat": 4,
 "nbformat_minor": 5
}
